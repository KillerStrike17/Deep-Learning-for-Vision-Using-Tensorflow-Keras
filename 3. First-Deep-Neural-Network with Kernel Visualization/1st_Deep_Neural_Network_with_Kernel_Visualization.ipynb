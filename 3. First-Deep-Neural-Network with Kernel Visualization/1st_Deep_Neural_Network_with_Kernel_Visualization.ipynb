{
  "nbformat": 4,
  "nbformat_minor": 0,
  "metadata": {
    "colab": {
      "name": "1st_Deep_Neural_Network with Kernel Visualization.ipynb",
      "provenance": [],
      "collapsed_sections": [],
      "include_colab_link": true
    },
    "kernelspec": {
      "name": "python3",
      "display_name": "Python 3"
    },
    "accelerator": "GPU"
  },
  "cells": [
    {
      "cell_type": "markdown",
      "metadata": {
        "id": "view-in-github",
        "colab_type": "text"
      },
      "source": [
        "<a href=\"https://colab.research.google.com/github/KillerStrike17/Deep-Learning-for-Vision-Using-Tensorflow-Keras/blob/master/3.%20First-Deep-Neural-Network%20with%20Kernel%20Visualization/1st_Deep_Neural_Network_with_Kernel_Visualization.ipynb\" target=\"_parent\"><img src=\"https://colab.research.google.com/assets/colab-badge.svg\" alt=\"Open In Colab\"/></a>"
      ]
    },
    {
      "cell_type": "markdown",
      "metadata": {
        "id": "aNyZv-Ec52ot",
        "colab_type": "text"
      },
      "source": [
        "# **Import Libraries and modules**"
      ]
    },
    {
      "cell_type": "code",
      "metadata": {
        "id": "3m3w1Cw49Zkt",
        "colab_type": "code",
        "colab": {}
      },
      "source": [
        "# https://keras.io/\n",
        "#To install keras in notebook\n",
        "#adding '!' allows bash command to run \n",
        "#in notebook\n",
        "!pip install -q keras\n",
        "import keras"
      ],
      "execution_count": 0,
      "outputs": []
    },
    {
      "cell_type": "code",
      "metadata": {
        "id": "Eso6UHE080D4",
        "colab_type": "code",
        "colab": {}
      },
      "source": [
        "#importing numpy library\n",
        "import numpy as np\n",
        "#importing specific modules from keras library\n",
        "#the attribute lookup time is saved. \n",
        "from keras.models import Sequential\n",
        "from keras.layers import Dense, Dropout, Activation, Flatten, Add\n",
        "from keras.layers import Convolution2D, MaxPooling2D\n",
        "from keras.utils import np_utils\n",
        "#importing dataset\n",
        "from keras.datasets import mnist"
      ],
      "execution_count": 0,
      "outputs": []
    },
    {
      "cell_type": "markdown",
      "metadata": {
        "id": "zByEi95J86RD",
        "colab_type": "text"
      },
      "source": [
        "### Load pre-shuffled MNIST data into train and test sets"
      ]
    },
    {
      "cell_type": "code",
      "metadata": {
        "id": "7eRM0QWN83PV",
        "colab_type": "code",
        "colab": {}
      },
      "source": [
        "#Loading the mnist dataset and storing the data to testing\n",
        "#and training variables. \n",
        "(X_train, y_train), (X_test, y_test) = mnist.load_data()"
      ],
      "execution_count": 0,
      "outputs": []
    },
    {
      "cell_type": "markdown",
      "metadata": {
        "id": "VKPgfRl5UWAs",
        "colab_type": "text"
      },
      "source": [
        "The data is downloaded and stored in the variables"
      ]
    },
    {
      "cell_type": "code",
      "metadata": {
        "id": "4a4Be72j8-ZC",
        "colab_type": "code",
        "outputId": "08c01435-1a43-454d-fb9e-374814fa228f",
        "colab": {
          "base_uri": "https://localhost:8080/",
          "height": 303
        }
      },
      "source": [
        "# Displaying the shape of the training data\n",
        "print (X_train.shape)\n",
        "# importint matplot library to plot graphs\n",
        "from matplotlib import pyplot as plt\n",
        "#inline helps in plotting graphs in notebook\n",
        "%matplotlib inline\n",
        "#plotting the first training data entry\n",
        "plt.imshow(X_train[0])"
      ],
      "execution_count": 0,
      "outputs": [
        {
          "output_type": "stream",
          "text": [
            "(60000, 28, 28)\n"
          ],
          "name": "stdout"
        },
        {
          "output_type": "execute_result",
          "data": {
            "text/plain": [
              "<matplotlib.image.AxesImage at 0x7fe8e88c1dd8>"
            ]
          },
          "metadata": {
            "tags": []
          },
          "execution_count": 97
        },
        {
          "output_type": "display_data",
          "data": {
            "image/png": "[encoded data removed]",
            "text/plain": [
              "<Figure size 432x288 with 1 Axes>"
            ]
          },
          "metadata": {
            "tags": []
          }
        }
      ]
    },
    {
      "cell_type": "code",
      "metadata": {
        "id": "dkmprriw9AnZ",
        "colab_type": "code",
        "colab": {}
      },
      "source": [
        "#reshaping the training and testing data\n",
        "#and representing in 3 dimension\n",
        "X_train = X_train.reshape(X_train.shape[0], 28, 28,1)\n",
        "X_test = X_test.reshape(X_test.shape[0], 28, 28,1)"
      ],
      "execution_count": 0,
      "outputs": []
    },
    {
      "cell_type": "code",
      "metadata": {
        "id": "X2m4YS4E9CRh",
        "colab_type": "code",
        "colab": {}
      },
      "source": [
        "#Change the datatype to float as later all the \n",
        "#values later will be scaled from 0 to 1\n",
        "X_train = X_train.astype('float32')\n",
        "X_test = X_test.astype('float32')\n",
        "#The data contains pixel values ranging\n",
        "#from 0-255, hence dividing all value by 255\n",
        "#so that the data comes in range of 0-1\n",
        "X_train /= 255\n",
        "X_test /= 255"
      ],
      "execution_count": 0,
      "outputs": []
    },
    {
      "cell_type": "code",
      "metadata": {
        "id": "0Mn0vAYD9DvB",
        "colab_type": "code",
        "outputId": "230a5ce7-59a1-4221-890a-e24f086d1312",
        "colab": {
          "base_uri": "https://localhost:8080/",
          "height": 34
        }
      },
      "source": [
        "#displaying the first 10 values of y_train array\n",
        "y_train[:10]"
      ],
      "execution_count": 0,
      "outputs": [
        {
          "output_type": "execute_result",
          "data": {
            "text/plain": [
              "array([5, 0, 4, 1, 9, 2, 1, 3, 1, 4], dtype=uint8)"
            ]
          },
          "metadata": {
            "tags": []
          },
          "execution_count": 100
        }
      ]
    },
    {
      "cell_type": "code",
      "metadata": {
        "id": "ZG8JiXR39FHC",
        "colab_type": "code",
        "colab": {}
      },
      "source": [
        "# Convert 1-dimensional class arrays to 10-dimensional class matrices\n",
        "# As the total number of classes are 10\n",
        "Y_train = np_utils.to_categorical(y_train, 10)\n",
        "Y_test = np_utils.to_categorical(y_test, 10)"
      ],
      "execution_count": 0,
      "outputs": []
    },
    {
      "cell_type": "code",
      "metadata": {
        "id": "fYlFRvKS9HMB",
        "colab_type": "code",
        "outputId": "62a5ff50-8bd1-435a-c3dd-e2c9b09e475f",
        "colab": {
          "base_uri": "https://localhost:8080/",
          "height": 187
        }
      },
      "source": [
        "#Displaying the first 10 entries of Y_train variable\n",
        "Y_train[:10]"
      ],
      "execution_count": 0,
      "outputs": [
        {
          "output_type": "execute_result",
          "data": {
            "text/plain": [
              "array([[0., 0., 0., 0., 0., 1., 0., 0., 0., 0.],\n",
              "       [1., 0., 0., 0., 0., 0., 0., 0., 0., 0.],\n",
              "       [0., 0., 0., 0., 1., 0., 0., 0., 0., 0.],\n",
              "       [0., 1., 0., 0., 0., 0., 0., 0., 0., 0.],\n",
              "       [0., 0., 0., 0., 0., 0., 0., 0., 0., 1.],\n",
              "       [0., 0., 1., 0., 0., 0., 0., 0., 0., 0.],\n",
              "       [0., 1., 0., 0., 0., 0., 0., 0., 0., 0.],\n",
              "       [0., 0., 0., 1., 0., 0., 0., 0., 0., 0.],\n",
              "       [0., 1., 0., 0., 0., 0., 0., 0., 0., 0.],\n",
              "       [0., 0., 0., 0., 1., 0., 0., 0., 0., 0.]], dtype=float32)"
            ]
          },
          "metadata": {
            "tags": []
          },
          "execution_count": 102
        }
      ]
    },
    {
      "cell_type": "markdown",
      "metadata": {
        "id": "PUo0m4LBVFmo",
        "colab_type": "text"
      },
      "source": [
        "Here 10 columns in the output represents the 10 categories of the variable, and in between \n",
        "\n",
        "where ever there is 1, it signifies that the entry belongs to that category."
      ]
    },
    {
      "cell_type": "code",
      "metadata": {
        "id": "osKqT73Q9JJB",
        "colab_type": "code",
        "outputId": "38ade4ca-54f0-46ac-ff31-e6ebb2bb9c7c",
        "colab": {
          "base_uri": "https://localhost:8080/",
          "height": 190
        }
      },
      "source": [
        "#importing activation\n",
        "from keras.layers import Activation\n",
        "#Loading the sequential model as it allows to add layers\n",
        "model = Sequential()\n",
        "#Adding a convolution 2d layer with activation as relu\n",
        "model.add(Convolution2D(32, 3, 3, activation='relu', input_shape=(28,28,1)))\n",
        "#Adding a convolution 2d layer with activation as relu\n",
        "model.add(Convolution2D(32, 3, 3, activation='relu'))\n",
        "#Transition Block\n",
        "model.add(MaxPooling2D(pool_size=(2, 2)))\n",
        "model.add(Convolution2D(32, 1, 1, activation='relu'))\n",
        "#Adding a convolution 2d layer\n",
        "model.add(Convolution2D(16, 3, 3, activation='relu'))\n",
        "#Transition Block\n",
        "model.add(MaxPooling2D(pool_size=(2, 2)))\n",
        "model.add(Convolution2D(16, 1, activation='relu'))\n",
        "#Adding a Dropout layer to reduce overfitting\n",
        "model.add(Dropout(0.1))\n",
        "#Adding a convolution 2d layer\n",
        "model.add(Convolution2D(16, 3, 3, activation='relu'))\n",
        "#Adding a convolution 2d layer\n",
        "model.add(Convolution2D(10, 3))\n",
        "#flatten function reduces the dimension, \n",
        "#hence the 3D data will be reduced to 1D\n",
        "model.add(Flatten())\n",
        "# Softmax layer will divide the output between 0 and 1\n",
        "# in such a way that thier summation is equal to 1\n",
        "# there as here there are 10 categories, therefore the output\n",
        "# will be a probability distribution\n",
        "model.add(Activation('softmax'))"
      ],
      "execution_count": 0,
      "outputs": [
        {
          "output_type": "stream",
          "text": [
            "/usr/local/lib/python3.6/dist-packages/ipykernel_launcher.py:5: UserWarning: Update your `Conv2D` call to the Keras 2 API: `Conv2D(32, (3, 3), activation=\"relu\", input_shape=(28, 28, 1...)`\n",
            "  \"\"\"\n",
            "/usr/local/lib/python3.6/dist-packages/ipykernel_launcher.py:7: UserWarning: Update your `Conv2D` call to the Keras 2 API: `Conv2D(32, (3, 3), activation=\"relu\")`\n",
            "  import sys\n",
            "/usr/local/lib/python3.6/dist-packages/ipykernel_launcher.py:10: UserWarning: Update your `Conv2D` call to the Keras 2 API: `Conv2D(32, (1, 1), activation=\"relu\")`\n",
            "  # Remove the CWD from sys.path while we load stuff.\n",
            "/usr/local/lib/python3.6/dist-packages/ipykernel_launcher.py:12: UserWarning: Update your `Conv2D` call to the Keras 2 API: `Conv2D(16, (3, 3), activation=\"relu\")`\n",
            "  if sys.path[0] == '':\n",
            "/usr/local/lib/python3.6/dist-packages/ipykernel_launcher.py:19: UserWarning: Update your `Conv2D` call to the Keras 2 API: `Conv2D(16, (3, 3), activation=\"relu\")`\n"
          ],
          "name": "stderr"
        }
      ]
    },
    {
      "cell_type": "code",
      "metadata": {
        "id": "TzdAYg1k9K7Z",
        "colab_type": "code",
        "outputId": "e1df3eec-6945-47e9-ca4f-e3d433b26640",
        "colab": {
          "base_uri": "https://localhost:8080/",
          "height": 544
        }
      },
      "source": [
        "#Display the summary of the model i.e. layers, output, parameter \n",
        "#generated\n",
        "model.summary()"
      ],
      "execution_count": 0,
      "outputs": [
        {
          "output_type": "stream",
          "text": [
            "_________________________________________________________________\n",
            "Layer (type)                 Output Shape              Param #   \n",
            "=================================================================\n",
            "conv2d_22 (Conv2D)           (None, 26, 26, 32)        320       \n",
            "_________________________________________________________________\n",
            "conv2d_23 (Conv2D)           (None, 24, 24, 32)        9248      \n",
            "_________________________________________________________________\n",
            "max_pooling2d_7 (MaxPooling2 (None, 12, 12, 32)        0         \n",
            "_________________________________________________________________\n",
            "conv2d_24 (Conv2D)           (None, 12, 12, 32)        1056      \n",
            "_________________________________________________________________\n",
            "conv2d_25 (Conv2D)           (None, 10, 10, 16)        4624      \n",
            "_________________________________________________________________\n",
            "max_pooling2d_8 (MaxPooling2 (None, 5, 5, 16)          0         \n",
            "_________________________________________________________________\n",
            "conv2d_26 (Conv2D)           (None, 5, 5, 16)          272       \n",
            "_________________________________________________________________\n",
            "dropout_4 (Dropout)          (None, 5, 5, 16)          0         \n",
            "_________________________________________________________________\n",
            "conv2d_27 (Conv2D)           (None, 3, 3, 16)          2320      \n",
            "_________________________________________________________________\n",
            "conv2d_28 (Conv2D)           (None, 1, 1, 10)          1450      \n",
            "_________________________________________________________________\n",
            "flatten_4 (Flatten)          (None, 10)                0         \n",
            "_________________________________________________________________\n",
            "activation_4 (Activation)    (None, 10)                0         \n",
            "=================================================================\n",
            "Total params: 19,290\n",
            "Trainable params: 19,290\n",
            "Non-trainable params: 0\n",
            "_________________________________________________________________\n"
          ],
          "name": "stdout"
        }
      ]
    },
    {
      "cell_type": "code",
      "metadata": {
        "id": "Zp6SuGrL9M3h",
        "colab_type": "code",
        "colab": {}
      },
      "source": [
        "#compile function is used after the model is loaded\n",
        "#it is used to give the loss function, optimizer and metrics data\n",
        "#Here the loss function is categotical_crossentrophy, optimzer is adam\n",
        "# and metrics is accuracy.\n",
        "model.compile(loss='categorical_crossentropy',\n",
        "             optimizer='adam',\n",
        "             metrics=['accuracy'])"
      ],
      "execution_count": 0,
      "outputs": []
    },
    {
      "cell_type": "code",
      "metadata": {
        "id": "4xWoKhPY9Of5",
        "colab_type": "code",
        "outputId": "d5517cf4-0e7c-4281-f748-521f0afaae12",
        "colab": {
          "base_uri": "https://localhost:8080/",
          "height": 6803
        }
      },
      "source": [
        "#Fit function is used to train the model, The batch size here is 32 \n",
        "#meaning after a set of 32 data entries is taken at a time.\n",
        "#Total epochs is 10, meaning 60000 images will be loaded 10 times \n",
        "#fully in the system. Verbose is a parameter which is set for displaying the output\n",
        "#at every iteration.\n",
        "model.fit(X_train, Y_train, batch_size=1200, nb_epoch=200, verbose=1)"
      ],
      "execution_count": 0,
      "outputs": [
        {
          "output_type": "stream",
          "text": [
            "Epoch 1/200\n",
            " 3600/60000 [>.............................] - ETA: 2s - loss: 0.0850 - acc: 0.9772"
          ],
          "name": "stdout"
        },
        {
          "output_type": "stream",
          "text": [
            "/usr/local/lib/python3.6/dist-packages/ipykernel_launcher.py:1: UserWarning: The `nb_epoch` argument in `fit` has been renamed `epochs`.\n",
            "  \"\"\"Entry point for launching an IPython kernel.\n"
          ],
          "name": "stderr"
        },
        {
          "output_type": "stream",
          "text": [
            "60000/60000 [==============================] - 2s 32us/step - loss: 0.0846 - acc: 0.9744\n",
            "Epoch 2/200\n",
            "60000/60000 [==============================] - 2s 31us/step - loss: 0.0771 - acc: 0.9767\n",
            "Epoch 3/200\n",
            "60000/60000 [==============================] - 2s 31us/step - loss: 0.0698 - acc: 0.9789\n",
            "Epoch 4/200\n",
            "60000/60000 [==============================] - 2s 31us/step - loss: 0.0649 - acc: 0.9798\n",
            "Epoch 5/200\n",
            "60000/60000 [==============================] - 2s 31us/step - loss: 0.0603 - acc: 0.9808\n",
            "Epoch 6/200\n",
            "60000/60000 [==============================] - 2s 31us/step - loss: 0.0594 - acc: 0.9814\n",
            "Epoch 7/200\n",
            "60000/60000 [==============================] - 2s 31us/step - loss: 0.0561 - acc: 0.9828\n",
            "Epoch 8/200\n",
            "60000/60000 [==============================] - 2s 31us/step - loss: 0.0517 - acc: 0.9839\n",
            "Epoch 9/200\n",
            "60000/60000 [==============================] - 2s 31us/step - loss: 0.0493 - acc: 0.9848\n",
            "Epoch 10/200\n",
            "60000/60000 [==============================] - 2s 31us/step - loss: 0.0464 - acc: 0.9858\n",
            "Epoch 11/200\n",
            "60000/60000 [==============================] - 2s 31us/step - loss: 0.0449 - acc: 0.9861\n",
            "Epoch 12/200\n",
            "60000/60000 [==============================] - 2s 31us/step - loss: 0.0424 - acc: 0.9870\n",
            "Epoch 13/200\n",
            "60000/60000 [==============================] - 2s 31us/step - loss: 0.0410 - acc: 0.9873\n",
            "Epoch 14/200\n",
            "60000/60000 [==============================] - 2s 31us/step - loss: 0.0398 - acc: 0.9880\n",
            "Epoch 15/200\n",
            "60000/60000 [==============================] - 2s 31us/step - loss: 0.0387 - acc: 0.9883\n",
            "Epoch 16/200\n",
            "60000/60000 [==============================] - 2s 32us/step - loss: 0.0370 - acc: 0.9884\n",
            "Epoch 17/200\n",
            "60000/60000 [==============================] - 2s 31us/step - loss: 0.0374 - acc: 0.9887\n",
            "Epoch 18/200\n",
            "60000/60000 [==============================] - 2s 31us/step - loss: 0.0357 - acc: 0.9892\n",
            "Epoch 19/200\n",
            "60000/60000 [==============================] - 2s 31us/step - loss: 0.0355 - acc: 0.9888\n",
            "Epoch 20/200\n",
            "60000/60000 [==============================] - 2s 31us/step - loss: 0.0345 - acc: 0.9893\n",
            "Epoch 21/200\n",
            "60000/60000 [==============================] - 2s 31us/step - loss: 0.0332 - acc: 0.9898\n",
            "Epoch 22/200\n",
            "60000/60000 [==============================] - 2s 31us/step - loss: 0.0326 - acc: 0.9898\n",
            "Epoch 23/200\n",
            "60000/60000 [==============================] - 2s 31us/step - loss: 0.0311 - acc: 0.9902\n",
            "Epoch 24/200\n",
            "60000/60000 [==============================] - 2s 31us/step - loss: 0.0334 - acc: 0.9893\n",
            "Epoch 25/200\n",
            "60000/60000 [==============================] - 2s 31us/step - loss: 0.0303 - acc: 0.9904\n",
            "Epoch 26/200\n",
            "60000/60000 [==============================] - 2s 31us/step - loss: 0.0307 - acc: 0.9905\n",
            "Epoch 27/200\n",
            "60000/60000 [==============================] - 2s 31us/step - loss: 0.0301 - acc: 0.9903\n",
            "Epoch 28/200\n",
            "60000/60000 [==============================] - 2s 31us/step - loss: 0.0293 - acc: 0.9905\n",
            "Epoch 29/200\n",
            "60000/60000 [==============================] - 2s 31us/step - loss: 0.0259 - acc: 0.9919\n",
            "Epoch 30/200\n",
            "60000/60000 [==============================] - 2s 31us/step - loss: 0.0249 - acc: 0.9921\n",
            "Epoch 31/200\n",
            "60000/60000 [==============================] - 2s 31us/step - loss: 0.0264 - acc: 0.9914\n",
            "Epoch 32/200\n",
            "60000/60000 [==============================] - 2s 31us/step - loss: 0.0261 - acc: 0.9918\n",
            "Epoch 33/200\n",
            "60000/60000 [==============================] - 2s 31us/step - loss: 0.0242 - acc: 0.9919\n",
            "Epoch 34/200\n",
            "60000/60000 [==============================] - 2s 31us/step - loss: 0.0254 - acc: 0.9923\n",
            "Epoch 35/200\n",
            "60000/60000 [==============================] - 2s 31us/step - loss: 0.0239 - acc: 0.9921\n",
            "Epoch 36/200\n",
            "60000/60000 [==============================] - 2s 31us/step - loss: 0.0220 - acc: 0.9932\n",
            "Epoch 37/200\n",
            "60000/60000 [==============================] - 2s 31us/step - loss: 0.0226 - acc: 0.9928\n",
            "Epoch 38/200\n",
            "60000/60000 [==============================] - 2s 31us/step - loss: 0.0226 - acc: 0.9928\n",
            "Epoch 39/200\n",
            "60000/60000 [==============================] - 2s 31us/step - loss: 0.0222 - acc: 0.9928\n",
            "Epoch 40/200\n",
            "60000/60000 [==============================] - 2s 31us/step - loss: 0.0226 - acc: 0.9927\n",
            "Epoch 41/200\n",
            "60000/60000 [==============================] - 2s 31us/step - loss: 0.0204 - acc: 0.9934\n",
            "Epoch 42/200\n",
            "60000/60000 [==============================] - 2s 31us/step - loss: 0.0208 - acc: 0.9931\n",
            "Epoch 43/200\n",
            "60000/60000 [==============================] - 2s 31us/step - loss: 0.0215 - acc: 0.9931\n",
            "Epoch 44/200\n",
            "60000/60000 [==============================] - 2s 30us/step - loss: 0.0216 - acc: 0.9928\n",
            "Epoch 45/200\n",
            "60000/60000 [==============================] - 2s 31us/step - loss: 0.0199 - acc: 0.9936\n",
            "Epoch 46/200\n",
            "60000/60000 [==============================] - 2s 30us/step - loss: 0.0195 - acc: 0.9934\n",
            "Epoch 47/200\n",
            "60000/60000 [==============================] - 2s 31us/step - loss: 0.0190 - acc: 0.9939\n",
            "Epoch 48/200\n",
            "60000/60000 [==============================] - 2s 31us/step - loss: 0.0182 - acc: 0.9941\n",
            "Epoch 49/200\n",
            "60000/60000 [==============================] - 2s 31us/step - loss: 0.0170 - acc: 0.9945\n",
            "Epoch 50/200\n",
            "60000/60000 [==============================] - 2s 30us/step - loss: 0.0176 - acc: 0.9941\n",
            "Epoch 51/200\n",
            "60000/60000 [==============================] - 2s 30us/step - loss: 0.0191 - acc: 0.9935\n",
            "Epoch 52/200\n",
            "60000/60000 [==============================] - 2s 31us/step - loss: 0.0168 - acc: 0.9942\n",
            "Epoch 53/200\n",
            "60000/60000 [==============================] - 2s 31us/step - loss: 0.0170 - acc: 0.9941\n",
            "Epoch 54/200\n",
            "60000/60000 [==============================] - 2s 31us/step - loss: 0.0186 - acc: 0.9937\n",
            "Epoch 55/200\n",
            "60000/60000 [==============================] - 2s 31us/step - loss: 0.0167 - acc: 0.9945\n",
            "Epoch 56/200\n",
            "60000/60000 [==============================] - 2s 31us/step - loss: 0.0173 - acc: 0.9943\n",
            "Epoch 57/200\n",
            "60000/60000 [==============================] - 2s 31us/step - loss: 0.0172 - acc: 0.9942\n",
            "Epoch 58/200\n",
            "60000/60000 [==============================] - 2s 31us/step - loss: 0.0169 - acc: 0.9944\n",
            "Epoch 59/200\n",
            "60000/60000 [==============================] - 2s 31us/step - loss: 0.0161 - acc: 0.9945\n",
            "Epoch 60/200\n",
            "60000/60000 [==============================] - 2s 31us/step - loss: 0.0158 - acc: 0.9948\n",
            "Epoch 61/200\n",
            "60000/60000 [==============================] - 2s 30us/step - loss: 0.0160 - acc: 0.9947\n",
            "Epoch 62/200\n",
            "60000/60000 [==============================] - 2s 30us/step - loss: 0.0154 - acc: 0.9949\n",
            "Epoch 63/200\n",
            "60000/60000 [==============================] - 2s 30us/step - loss: 0.0140 - acc: 0.9950\n",
            "Epoch 64/200\n",
            "60000/60000 [==============================] - 2s 30us/step - loss: 0.0137 - acc: 0.9954\n",
            "Epoch 65/200\n",
            "60000/60000 [==============================] - 2s 31us/step - loss: 0.0140 - acc: 0.9952\n",
            "Epoch 66/200\n",
            "60000/60000 [==============================] - 2s 30us/step - loss: 0.0141 - acc: 0.9952\n",
            "Epoch 67/200\n",
            "60000/60000 [==============================] - 2s 30us/step - loss: 0.0139 - acc: 0.9953\n",
            "Epoch 68/200\n",
            "60000/60000 [==============================] - 2s 30us/step - loss: 0.0129 - acc: 0.9958\n",
            "Epoch 69/200\n",
            "60000/60000 [==============================] - 2s 30us/step - loss: 0.0142 - acc: 0.9955\n",
            "Epoch 70/200\n",
            "60000/60000 [==============================] - 2s 31us/step - loss: 0.0132 - acc: 0.9952\n",
            "Epoch 71/200\n",
            "60000/60000 [==============================] - 2s 31us/step - loss: 0.0125 - acc: 0.9958\n",
            "Epoch 72/200\n",
            "60000/60000 [==============================] - 2s 31us/step - loss: 0.0121 - acc: 0.9960\n",
            "Epoch 73/200\n",
            "60000/60000 [==============================] - 2s 31us/step - loss: 0.0127 - acc: 0.9959\n",
            "Epoch 74/200\n",
            "60000/60000 [==============================] - 2s 31us/step - loss: 0.0117 - acc: 0.9962\n",
            "Epoch 75/200\n",
            "60000/60000 [==============================] - 2s 31us/step - loss: 0.0121 - acc: 0.9959\n",
            "Epoch 76/200\n",
            "60000/60000 [==============================] - 2s 30us/step - loss: 0.0133 - acc: 0.9955\n",
            "Epoch 77/200\n",
            "60000/60000 [==============================] - 2s 30us/step - loss: 0.0128 - acc: 0.9955\n",
            "Epoch 78/200\n",
            "60000/60000 [==============================] - 2s 30us/step - loss: 0.0115 - acc: 0.9963\n",
            "Epoch 79/200\n",
            "60000/60000 [==============================] - 2s 30us/step - loss: 0.0115 - acc: 0.9961\n",
            "Epoch 80/200\n",
            "60000/60000 [==============================] - 2s 30us/step - loss: 0.0121 - acc: 0.9960\n",
            "Epoch 81/200\n",
            "60000/60000 [==============================] - 2s 30us/step - loss: 0.0118 - acc: 0.9960\n",
            "Epoch 82/200\n",
            "60000/60000 [==============================] - 2s 30us/step - loss: 0.0125 - acc: 0.9957\n",
            "Epoch 83/200\n",
            "60000/60000 [==============================] - 2s 31us/step - loss: 0.0108 - acc: 0.9961\n",
            "Epoch 84/200\n",
            "60000/60000 [==============================] - 2s 30us/step - loss: 0.0120 - acc: 0.9956\n",
            "Epoch 85/200\n",
            "60000/60000 [==============================] - 2s 30us/step - loss: 0.0099 - acc: 0.9965\n",
            "Epoch 86/200\n",
            "60000/60000 [==============================] - 2s 30us/step - loss: 0.0113 - acc: 0.9960\n",
            "Epoch 87/200\n",
            "60000/60000 [==============================] - 2s 30us/step - loss: 0.0110 - acc: 0.9962\n",
            "Epoch 88/200\n",
            "60000/60000 [==============================] - 2s 30us/step - loss: 0.0109 - acc: 0.9963\n",
            "Epoch 89/200\n",
            "60000/60000 [==============================] - 2s 30us/step - loss: 0.0094 - acc: 0.9970\n",
            "Epoch 90/200\n",
            "60000/60000 [==============================] - 2s 30us/step - loss: 0.0095 - acc: 0.9968\n",
            "Epoch 91/200\n",
            "60000/60000 [==============================] - 2s 30us/step - loss: 0.0105 - acc: 0.9962\n",
            "Epoch 92/200\n",
            "60000/60000 [==============================] - 2s 30us/step - loss: 0.0114 - acc: 0.9960\n",
            "Epoch 93/200\n",
            "60000/60000 [==============================] - 2s 30us/step - loss: 0.0108 - acc: 0.9963\n",
            "Epoch 94/200\n",
            "60000/60000 [==============================] - 2s 30us/step - loss: 0.0102 - acc: 0.9964\n",
            "Epoch 95/200\n",
            "60000/60000 [==============================] - 2s 30us/step - loss: 0.0095 - acc: 0.9968\n",
            "Epoch 96/200\n",
            "60000/60000 [==============================] - 2s 30us/step - loss: 0.0100 - acc: 0.9968\n",
            "Epoch 97/200\n",
            "60000/60000 [==============================] - 2s 30us/step - loss: 0.0096 - acc: 0.9966\n",
            "Epoch 98/200\n",
            "60000/60000 [==============================] - 2s 30us/step - loss: 0.0085 - acc: 0.9971\n",
            "Epoch 99/200\n",
            "60000/60000 [==============================] - 2s 30us/step - loss: 0.0089 - acc: 0.9969\n",
            "Epoch 100/200\n",
            "60000/60000 [==============================] - 2s 31us/step - loss: 0.0086 - acc: 0.9969\n",
            "Epoch 101/200\n",
            "60000/60000 [==============================] - 2s 30us/step - loss: 0.0086 - acc: 0.9972\n",
            "Epoch 102/200\n",
            "60000/60000 [==============================] - 2s 31us/step - loss: 0.0088 - acc: 0.9968\n",
            "Epoch 103/200\n",
            "60000/60000 [==============================] - 2s 31us/step - loss: 0.0100 - acc: 0.9966\n",
            "Epoch 104/200\n",
            "60000/60000 [==============================] - 2s 31us/step - loss: 0.0081 - acc: 0.9971\n",
            "Epoch 105/200\n",
            "60000/60000 [==============================] - 2s 30us/step - loss: 0.0084 - acc: 0.9971\n",
            "Epoch 106/200\n",
            "60000/60000 [==============================] - 2s 30us/step - loss: 0.0075 - acc: 0.9975\n",
            "Epoch 107/200\n",
            "60000/60000 [==============================] - 2s 30us/step - loss: 0.0088 - acc: 0.9970\n",
            "Epoch 108/200\n",
            "60000/60000 [==============================] - 2s 30us/step - loss: 0.0084 - acc: 0.9970\n",
            "Epoch 109/200\n",
            "60000/60000 [==============================] - 2s 30us/step - loss: 0.0080 - acc: 0.9974\n",
            "Epoch 110/200\n",
            "60000/60000 [==============================] - 2s 30us/step - loss: 0.0076 - acc: 0.9974\n",
            "Epoch 111/200\n",
            "60000/60000 [==============================] - 2s 30us/step - loss: 0.0090 - acc: 0.9967\n",
            "Epoch 112/200\n",
            "60000/60000 [==============================] - 2s 30us/step - loss: 0.0088 - acc: 0.9970\n",
            "Epoch 113/200\n",
            "60000/60000 [==============================] - 2s 30us/step - loss: 0.0089 - acc: 0.9969\n",
            "Epoch 114/200\n",
            "60000/60000 [==============================] - 2s 30us/step - loss: 0.0078 - acc: 0.9974\n",
            "Epoch 115/200\n",
            "60000/60000 [==============================] - 2s 30us/step - loss: 0.0070 - acc: 0.9976\n",
            "Epoch 116/200\n",
            "60000/60000 [==============================] - 2s 30us/step - loss: 0.0078 - acc: 0.9976\n",
            "Epoch 117/200\n",
            "60000/60000 [==============================] - 2s 30us/step - loss: 0.0079 - acc: 0.9974\n",
            "Epoch 118/200\n",
            "60000/60000 [==============================] - 2s 30us/step - loss: 0.0077 - acc: 0.9975\n",
            "Epoch 119/200\n",
            "60000/60000 [==============================] - 2s 30us/step - loss: 0.0071 - acc: 0.9977\n",
            "Epoch 120/200\n",
            "60000/60000 [==============================] - 2s 30us/step - loss: 0.0067 - acc: 0.9977\n",
            "Epoch 121/200\n",
            "60000/60000 [==============================] - 2s 30us/step - loss: 0.0065 - acc: 0.9979\n",
            "Epoch 122/200\n",
            "60000/60000 [==============================] - 2s 30us/step - loss: 0.0097 - acc: 0.9969\n",
            "Epoch 123/200\n",
            "60000/60000 [==============================] - 2s 30us/step - loss: 0.0079 - acc: 0.9973\n",
            "Epoch 124/200\n",
            "60000/60000 [==============================] - 2s 30us/step - loss: 0.0083 - acc: 0.9970\n",
            "Epoch 125/200\n",
            "60000/60000 [==============================] - 2s 30us/step - loss: 0.0072 - acc: 0.9974\n",
            "Epoch 126/200\n",
            "60000/60000 [==============================] - 2s 30us/step - loss: 0.0079 - acc: 0.9974\n",
            "Epoch 127/200\n",
            "60000/60000 [==============================] - 2s 30us/step - loss: 0.0066 - acc: 0.9980\n",
            "Epoch 128/200\n",
            "60000/60000 [==============================] - 2s 30us/step - loss: 0.0077 - acc: 0.9975\n",
            "Epoch 129/200\n",
            "60000/60000 [==============================] - 2s 30us/step - loss: 0.0076 - acc: 0.9975\n",
            "Epoch 130/200\n",
            "60000/60000 [==============================] - 2s 30us/step - loss: 0.0080 - acc: 0.9971\n",
            "Epoch 131/200\n",
            "60000/60000 [==============================] - 2s 30us/step - loss: 0.0064 - acc: 0.9979\n",
            "Epoch 132/200\n",
            "60000/60000 [==============================] - 2s 30us/step - loss: 0.0075 - acc: 0.9975\n",
            "Epoch 133/200\n",
            "60000/60000 [==============================] - 2s 30us/step - loss: 0.0058 - acc: 0.9981\n",
            "Epoch 134/200\n",
            "60000/60000 [==============================] - 2s 30us/step - loss: 0.0056 - acc: 0.9980\n",
            "Epoch 135/200\n",
            "60000/60000 [==============================] - 2s 30us/step - loss: 0.0073 - acc: 0.9975\n",
            "Epoch 136/200\n",
            "60000/60000 [==============================] - 2s 30us/step - loss: 0.0046 - acc: 0.9984\n",
            "Epoch 137/200\n",
            "60000/60000 [==============================] - 2s 30us/step - loss: 0.0053 - acc: 0.9983\n",
            "Epoch 138/200\n",
            "60000/60000 [==============================] - 2s 30us/step - loss: 0.0080 - acc: 0.9974\n",
            "Epoch 139/200\n",
            "60000/60000 [==============================] - 2s 30us/step - loss: 0.0071 - acc: 0.9975\n",
            "Epoch 140/200\n",
            "60000/60000 [==============================] - 2s 30us/step - loss: 0.0064 - acc: 0.9979\n",
            "Epoch 141/200\n",
            "60000/60000 [==============================] - 2s 30us/step - loss: 0.0062 - acc: 0.9979\n",
            "Epoch 142/200\n",
            "60000/60000 [==============================] - 2s 30us/step - loss: 0.0060 - acc: 0.9979\n",
            "Epoch 143/200\n",
            "60000/60000 [==============================] - 2s 30us/step - loss: 0.0056 - acc: 0.9982\n",
            "Epoch 144/200\n",
            "60000/60000 [==============================] - 2s 30us/step - loss: 0.0060 - acc: 0.9981\n",
            "Epoch 145/200\n",
            "60000/60000 [==============================] - 2s 30us/step - loss: 0.0069 - acc: 0.9978\n",
            "Epoch 146/200\n",
            "60000/60000 [==============================] - 2s 30us/step - loss: 0.0067 - acc: 0.9979\n",
            "Epoch 147/200\n",
            "60000/60000 [==============================] - 2s 30us/step - loss: 0.0064 - acc: 0.9977\n",
            "Epoch 148/200\n",
            "60000/60000 [==============================] - 2s 31us/step - loss: 0.0058 - acc: 0.9982\n",
            "Epoch 149/200\n",
            "60000/60000 [==============================] - 2s 30us/step - loss: 0.0053 - acc: 0.9981\n",
            "Epoch 150/200\n",
            "60000/60000 [==============================] - 2s 30us/step - loss: 0.0070 - acc: 0.9975\n",
            "Epoch 151/200\n",
            "60000/60000 [==============================] - 2s 30us/step - loss: 0.0057 - acc: 0.9982\n",
            "Epoch 152/200\n",
            "60000/60000 [==============================] - 2s 30us/step - loss: 0.0049 - acc: 0.9983\n",
            "Epoch 153/200\n",
            "60000/60000 [==============================] - 2s 30us/step - loss: 0.0063 - acc: 0.9979\n",
            "Epoch 154/200\n",
            "60000/60000 [==============================] - 2s 30us/step - loss: 0.0058 - acc: 0.9982\n",
            "Epoch 155/200\n",
            "60000/60000 [==============================] - 2s 30us/step - loss: 0.0055 - acc: 0.9982\n",
            "Epoch 156/200\n",
            "60000/60000 [==============================] - 2s 30us/step - loss: 0.0074 - acc: 0.9974\n",
            "Epoch 157/200\n",
            "60000/60000 [==============================] - 2s 30us/step - loss: 0.0048 - acc: 0.9984\n",
            "Epoch 158/200\n",
            "60000/60000 [==============================] - 2s 30us/step - loss: 0.0051 - acc: 0.9983\n",
            "Epoch 159/200\n",
            "60000/60000 [==============================] - 2s 30us/step - loss: 0.0060 - acc: 0.9979\n",
            "Epoch 160/200\n",
            "60000/60000 [==============================] - 2s 30us/step - loss: 0.0056 - acc: 0.9983\n",
            "Epoch 161/200\n",
            "60000/60000 [==============================] - 2s 30us/step - loss: 0.0068 - acc: 0.9975\n",
            "Epoch 162/200\n",
            "60000/60000 [==============================] - 2s 30us/step - loss: 0.0061 - acc: 0.9982\n",
            "Epoch 163/200\n",
            "60000/60000 [==============================] - 2s 30us/step - loss: 0.0052 - acc: 0.9982\n",
            "Epoch 164/200\n",
            "60000/60000 [==============================] - 2s 30us/step - loss: 0.0050 - acc: 0.9984\n",
            "Epoch 165/200\n",
            "60000/60000 [==============================] - 2s 30us/step - loss: 0.0056 - acc: 0.9981\n",
            "Epoch 166/200\n",
            "60000/60000 [==============================] - 2s 30us/step - loss: 0.0046 - acc: 0.9986\n",
            "Epoch 167/200\n",
            "60000/60000 [==============================] - 2s 30us/step - loss: 0.0047 - acc: 0.9984\n",
            "Epoch 168/200\n",
            "60000/60000 [==============================] - 2s 30us/step - loss: 0.0051 - acc: 0.9984\n",
            "Epoch 169/200\n",
            "60000/60000 [==============================] - 2s 30us/step - loss: 0.0056 - acc: 0.9980\n",
            "Epoch 170/200\n",
            "60000/60000 [==============================] - 2s 30us/step - loss: 0.0042 - acc: 0.9987\n",
            "Epoch 171/200\n",
            "60000/60000 [==============================] - 2s 30us/step - loss: 0.0037 - acc: 0.9988\n",
            "Epoch 172/200\n",
            "60000/60000 [==============================] - 2s 30us/step - loss: 0.0046 - acc: 0.9983\n",
            "Epoch 173/200\n",
            "60000/60000 [==============================] - 2s 30us/step - loss: 0.0045 - acc: 0.9983\n",
            "Epoch 174/200\n",
            "60000/60000 [==============================] - 2s 30us/step - loss: 0.0060 - acc: 0.9980\n",
            "Epoch 175/200\n",
            "60000/60000 [==============================] - 2s 30us/step - loss: 0.0054 - acc: 0.9981\n",
            "Epoch 176/200\n",
            "60000/60000 [==============================] - 2s 30us/step - loss: 0.0076 - acc: 0.9975\n",
            "Epoch 177/200\n",
            "60000/60000 [==============================] - 2s 30us/step - loss: 0.0057 - acc: 0.9981\n",
            "Epoch 178/200\n",
            "60000/60000 [==============================] - 2s 30us/step - loss: 0.0048 - acc: 0.9983\n",
            "Epoch 179/200\n",
            "60000/60000 [==============================] - 2s 30us/step - loss: 0.0051 - acc: 0.9982\n",
            "Epoch 180/200\n",
            "60000/60000 [==============================] - 2s 30us/step - loss: 0.0045 - acc: 0.9986\n",
            "Epoch 181/200\n",
            "60000/60000 [==============================] - 2s 30us/step - loss: 0.0044 - acc: 0.9986\n",
            "Epoch 182/200\n",
            "60000/60000 [==============================] - 2s 30us/step - loss: 0.0049 - acc: 0.9984\n",
            "Epoch 183/200\n",
            "60000/60000 [==============================] - 2s 30us/step - loss: 0.0045 - acc: 0.9987\n",
            "Epoch 184/200\n",
            "60000/60000 [==============================] - 2s 30us/step - loss: 0.0034 - acc: 0.9988\n",
            "Epoch 185/200\n",
            "60000/60000 [==============================] - 2s 30us/step - loss: 0.0048 - acc: 0.9985\n",
            "Epoch 186/200\n",
            "60000/60000 [==============================] - 2s 30us/step - loss: 0.0052 - acc: 0.9980\n",
            "Epoch 187/200\n",
            "60000/60000 [==============================] - 2s 30us/step - loss: 0.0047 - acc: 0.9983\n",
            "Epoch 188/200\n",
            "60000/60000 [==============================] - 2s 30us/step - loss: 0.0043 - acc: 0.9987\n",
            "Epoch 189/200\n",
            "60000/60000 [==============================] - 2s 31us/step - loss: 0.0043 - acc: 0.9986\n",
            "Epoch 190/200\n",
            "60000/60000 [==============================] - 2s 30us/step - loss: 0.0044 - acc: 0.9986\n",
            "Epoch 191/200\n",
            "60000/60000 [==============================] - 2s 30us/step - loss: 0.0046 - acc: 0.9984\n",
            "Epoch 192/200\n",
            "60000/60000 [==============================] - 2s 30us/step - loss: 0.0039 - acc: 0.9988\n",
            "Epoch 193/200\n",
            "60000/60000 [==============================] - 2s 30us/step - loss: 0.0042 - acc: 0.9986\n",
            "Epoch 194/200\n",
            "60000/60000 [==============================] - 2s 30us/step - loss: 0.0055 - acc: 0.9980\n",
            "Epoch 195/200\n",
            "60000/60000 [==============================] - 2s 30us/step - loss: 0.0052 - acc: 0.9984\n",
            "Epoch 196/200\n",
            "60000/60000 [==============================] - 2s 30us/step - loss: 0.0039 - acc: 0.9987\n",
            "Epoch 197/200\n",
            "60000/60000 [==============================] - 2s 30us/step - loss: 0.0046 - acc: 0.9985\n",
            "Epoch 198/200\n",
            "54000/60000 [==========================>...] - ETA: 0s - loss: 0.0057 - acc: 0.9980"
          ],
          "name": "stdout"
        }
      ]
    },
    {
      "cell_type": "code",
      "metadata": {
        "id": "AtsH-lLk-eLb",
        "colab_type": "code",
        "colab": {}
      },
      "source": [
        "#model.evaluate will return the loss and accuracy obtained\n",
        "#over the testing data\n",
        "score = model.evaluate(X_test, Y_test, verbose=0)"
      ],
      "execution_count": 0,
      "outputs": []
    },
    {
      "cell_type": "code",
      "metadata": {
        "id": "mkX8JMv79q9r",
        "colab_type": "code",
        "colab": {}
      },
      "source": [
        "print(score)# will display the value stored in variable score"
      ],
      "execution_count": 0,
      "outputs": []
    },
    {
      "cell_type": "code",
      "metadata": {
        "id": "OCWoJkwE9suh",
        "colab_type": "code",
        "colab": {}
      },
      "source": [
        "#Trained model is run over the testing data\n",
        "#and the predicted output in stored in y_pred \n",
        "#variable.\n",
        "y_pred = model.predict(X_test)"
      ],
      "execution_count": 0,
      "outputs": []
    },
    {
      "cell_type": "code",
      "metadata": {
        "id": "Ym7iCFBm9uBs",
        "colab_type": "code",
        "outputId": "1b2a41a6-56fc-4bed-99e3-4948851922d7",
        "colab": {
          "base_uri": "https://localhost:8080/",
          "height": 340
        }
      },
      "source": [
        "print(y_pred[:9])#Will display the values predicted by the system\n",
        "print(y_test[:9])#Will display the actual values"
      ],
      "execution_count": 0,
      "outputs": [
        {
          "output_type": "stream",
          "text": [
            "[[1.5762947e-17 1.3701093e-10 9.7683461e-09 7.8536438e-08 4.6606939e-17\n",
            "  6.0803875e-12 1.3299767e-27 9.9999988e-01 1.7645975e-11 1.3394395e-08]\n",
            " [4.3305790e-09 4.4790557e-08 1.0000000e+00 2.2601490e-09 2.2391336e-12\n",
            "  1.2611617e-14 2.0258031e-09 2.7520809e-12 5.8554245e-11 3.3223872e-15]\n",
            " [3.7809418e-13 9.9999893e-01 1.5636913e-07 1.0158925e-10 1.3640528e-07\n",
            "  1.1321833e-08 1.6434129e-12 7.3796832e-07 6.3588665e-08 2.8834959e-10]\n",
            " [1.0000000e+00 1.0037242e-19 1.1344001e-12 6.1177361e-14 4.5383964e-14\n",
            "  3.7914841e-12 5.0492009e-08 2.5225809e-13 1.5656266e-11 5.8746515e-08]\n",
            " [2.3488895e-15 1.8938449e-14 2.3990052e-13 6.2572801e-19 9.9999976e-01\n",
            "  7.1990124e-18 6.3756617e-14 4.8330599e-14 1.5703628e-12 2.8619829e-07]\n",
            " [4.5406254e-13 9.9999845e-01 6.7897808e-08 1.2292008e-11 1.4015681e-07\n",
            "  1.8636415e-11 4.9913767e-12 1.2334183e-06 5.2108728e-08 3.5958980e-10]\n",
            " [8.8706926e-25 4.6154291e-12 2.4422440e-15 2.5568209e-18 9.9999964e-01\n",
            "  3.9070093e-14 1.9152844e-18 6.0491334e-11 1.4628256e-09 3.5954858e-07]\n",
            " [3.7153003e-18 1.3961313e-15 3.8967636e-12 1.5245900e-11 8.3476266e-07\n",
            "  5.6841526e-10 1.5120602e-17 1.0715341e-14 5.3845739e-10 9.9999917e-01]\n",
            " [5.5951294e-10 6.1442924e-19 4.8778669e-11 1.6343328e-11 1.8989255e-10\n",
            "  9.5886332e-01 3.0674247e-02 1.1852047e-14 1.0453733e-02 8.7771186e-06]]\n",
            "[7 2 1 0 4 1 4 9 5]\n"
          ],
          "name": "stdout"
        }
      ]
    },
    {
      "cell_type": "code",
      "metadata": {
        "id": "CT--y98_dr2T",
        "colab_type": "code",
        "colab": {}
      },
      "source": [
        "#creating a dictionary of layer name and layer that the model has in layer_dict\n",
        "#variable.\n",
        "layer_dict = dict([(layer.name, layer) for layer in model.layers])"
      ],
      "execution_count": 0,
      "outputs": []
    },
    {
      "cell_type": "markdown",
      "metadata": {
        "id": "gLJgRjhBcnSK",
        "colab_type": "text"
      },
      "source": [
        "This will visualize the input image and applied filter over the image"
      ]
    },
    {
      "cell_type": "code",
      "metadata": {
        "id": "2GY4Upv4dsUR",
        "colab_type": "code",
        "outputId": "91bbdb04-0e93-45e9-bb79-fb5060755f2f",
        "colab": {
          "base_uri": "https://localhost:8080/",
          "height": 837
        }
      },
      "source": [
        "from keras import backend as K\n",
        "# util function to convert a tensor into a valid image\n",
        "def deprocess_image(x):\n",
        "    # normalize tensor: center on 0., ensure std is 0.1\n",
        "    x -= x.mean()\n",
        "    x /= (x.std() + 1e-5)\n",
        "    x *= 0.1\n",
        "\n",
        "    # clip to [0, 1]\n",
        "    x += 0.5\n",
        "    x = np.clip(x, 0, 1)\n",
        "\n",
        "    # convert to RGB array\n",
        "    x *= 255\n",
        "    #x = x.transpose((1, 2, 0))\n",
        "    x = np.clip(x, 0, 255).astype('uint8')\n",
        "    return x\n",
        "\n",
        "def vis_img_in_filter(img = np.array(X_train[2]).reshape((1, 28, 28, 1)).astype(np.float64), \n",
        "                      layer_name = 'conv2d_22'):\n",
        "    layer_output = layer_dict[layer_name].output\n",
        "    img_ascs = list()\n",
        "    for filter_index in range(layer_output.shape[3]):\n",
        "        # build a loss function that maximizes the activation\n",
        "        # of the nth filter of the layer considered\n",
        "        loss = K.mean(layer_output[:, :, :, filter_index])\n",
        "\n",
        "        # compute the gradient of the input picture wrt this loss\n",
        "        grads = K.gradients(loss, model.input)[0]\n",
        "\n",
        "        # normalization trick: we normalize the gradient\n",
        "        grads /= (K.sqrt(K.mean(K.square(grads))) + 1e-5)\n",
        "\n",
        "        # this function returns the loss and grads given the input picture\n",
        "        iterate = K.function([model.input], [loss, grads])\n",
        "\n",
        "        # step size for gradient ascent\n",
        "        step = 5.\n",
        "\n",
        "        img_asc = np.array(img)\n",
        "        # run gradient ascent for 20 steps\n",
        "        for i in range(20):\n",
        "            loss_value, grads_value = iterate([img_asc])\n",
        "            img_asc += grads_value * step\n",
        "\n",
        "        img_asc = img_asc[0]\n",
        "        img_ascs.append(deprocess_image(img_asc).reshape((28, 28)))\n",
        "        \n",
        "    if layer_output.shape[3] >= 35:\n",
        "        plot_x, plot_y = 6, 6\n",
        "    elif layer_output.shape[3] >= 23:\n",
        "        plot_x, plot_y = 4, 6\n",
        "    elif layer_output.shape[3] >= 11:\n",
        "        plot_x, plot_y = 2, 6\n",
        "    else:\n",
        "        plot_x, plot_y = 1, 2\n",
        "    fig, ax = plt.subplots(plot_x, plot_y, figsize = (12, 12))\n",
        "    ax[0, 0].imshow(img.reshape((28, 28)), cmap = 'gray')\n",
        "    ax[0, 0].set_title('Input image')\n",
        "    fig.suptitle('Input image and %s filters' % (layer_name,))\n",
        "    fig.tight_layout(pad = 0.3, rect = [0, 0, 0.9, 0.9])\n",
        "    for (x, y) in [(i, j) for i in range(plot_x) for j in range(plot_y)]:\n",
        "        if x == 0 and y == 0:\n",
        "            continue\n",
        "        ax[x, y].imshow(img_ascs[x * plot_y + y - 1], cmap = 'gray')\n",
        "        ax[x, y].set_title('filter %d' % (x * plot_y + y - 1))\n",
        "\n",
        "vis_img_in_filter()\n"
      ],
      "execution_count": 0,
      "outputs": [
        {
          "output_type": "display_data",
          "data": {
            "image/png": "[encoded data removed]",
            "text/plain": [
              "<Figure size 864x864 with 24 Axes>"
            ]
          },
          "metadata": {
            "tags": []
          }
        }
      ]
    }
  ]
}