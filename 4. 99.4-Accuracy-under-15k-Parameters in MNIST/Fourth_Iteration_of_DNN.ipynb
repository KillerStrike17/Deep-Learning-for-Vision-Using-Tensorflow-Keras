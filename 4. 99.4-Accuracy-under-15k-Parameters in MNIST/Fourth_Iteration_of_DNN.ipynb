{
  "nbformat": 4,
  "nbformat_minor": 0,
  "metadata": {
    "colab": {
      "name": "Fourth Iteration of DNN.ipynb",
      "provenance": [],
      "collapsed_sections": [],
      "include_colab_link": true
    },
    "kernelspec": {
      "name": "python3",
      "display_name": "Python 3"
    },
    "accelerator": "GPU"
  },
  "cells": [
    {
      "cell_type": "markdown",
      "metadata": {
        "id": "view-in-github",
        "colab_type": "text"
      },
      "source": [
        "<a href=\"https://colab.research.google.com/github/KillerStrike17/Deep-Learning-for-Vision-Using-Tensorflow-Keras/blob/master/4.%2099.4-Accuracy-under-15k-Parameters%20in%20MNIST/Fourth_Iteration_of_DNN.ipynb\" target=\"_parent\"><img src=\"https://colab.research.google.com/assets/colab-badge.svg\" alt=\"Open In Colab\"/></a>"
      ]
    },
    {
      "cell_type": "markdown",
      "metadata": {
        "id": "aNyZv-Ec52ot",
        "colab_type": "text"
      },
      "source": [
        "# **Import Libraries and modules**"
      ]
    },
    {
      "cell_type": "markdown",
      "metadata": {
        "id": "n6SgwRqUbpgs",
        "colab_type": "text"
      },
      "source": [
        "## Approach\n",
        "A Basic Network was developed in the last iteration, It had a total of **12618 Parameters** and achieved an **accuracy of 99.18%** in **8 Epochs**.\n",
        "### Aim \n",
        "To make changes in the network that gives accuracy greater than 99.4 maintaining the parameter count under 15K.\n",
        "\n",
        "### GOAL\n",
        "To develop a Deep Neural Network under 15K Parameters having an Accuracy more than 99.4%.\n",
        "\n",
        "### Observations from the results.\n",
        "On looking over the training, it is seen that via dropout,the difference between the training and validation accuracy has decreased. \n",
        "\n",
        "### Way to asses the Developed Network\n",
        " Run the created network and observe the validation accuracy for initial few epochs, if it is better than the previous one then this network can perform well but if the developed network doesnot give a better accuracy than the previous one then it is better to change the network.\n",
        " \n",
        " ### Next Step\n",
        "Alter Epochs, batch sizez and learning rate in order to achieve 99.4% accuracy."
      ]
    },
    {
      "cell_type": "code",
      "metadata": {
        "id": "3m3w1Cw49Zkt",
        "colab_type": "code",
        "outputId": "42be3df1-502e-4ae7-8991-627d3bc96e35",
        "colab": {
          "base_uri": "https://localhost:8080/",
          "height": 34
        }
      },
      "source": [
        "# https://keras.io/\n",
        "#to install keras library\n",
        "#'!'allows bash command to run\n",
        "#in notebook\n",
        "!pip install -q keras\n",
        "import keras"
      ],
      "execution_count": 0,
      "outputs": [
        {
          "output_type": "stream",
          "text": [
            "Using TensorFlow backend.\n"
          ],
          "name": "stderr"
        }
      ]
    },
    {
      "cell_type": "code",
      "metadata": {
        "id": "Eso6UHE080D4",
        "colab_type": "code",
        "colab": {}
      },
      "source": [
        "#importing numpy\n",
        "import numpy as np\n",
        "#by importing specific modules of keras\n",
        "#import time is saved\n",
        "from keras.models import Sequential\n",
        "from keras.layers import Dense, Dropout, Activation, Flatten, Add, BatchNormalization\n",
        "from keras.layers import Convolution2D, MaxPooling2D\n",
        "from keras.utils import np_utils\n",
        "#importingg the mnist dataset\n",
        "from keras.datasets import mnist"
      ],
      "execution_count": 0,
      "outputs": []
    },
    {
      "cell_type": "markdown",
      "metadata": {
        "id": "zByEi95J86RD",
        "colab_type": "text"
      },
      "source": [
        "### Load pre-shuffled MNIST data into train and test sets"
      ]
    },
    {
      "cell_type": "code",
      "metadata": {
        "id": "7eRM0QWN83PV",
        "colab_type": "code",
        "colab": {}
      },
      "source": [
        "#Loading the MNIST dataset and string in the varibles.\n",
        "(X_train, y_train), (X_test, y_test) = mnist.load_data()"
      ],
      "execution_count": 0,
      "outputs": []
    },
    {
      "cell_type": "code",
      "metadata": {
        "id": "4a4Be72j8-ZC",
        "colab_type": "code",
        "outputId": "26c654af-9490-4456-ec0b-d9d8be025381",
        "colab": {
          "base_uri": "https://localhost:8080/",
          "height": 304
        }
      },
      "source": [
        "#displaing thr shape of training dataset.\n",
        "print (X_train.shape)\n",
        "#importing matplotlib libraries to plot graphs\n",
        "from matplotlib import pyplot as plt\n",
        "#this helps in plotting the graphs in notebook\n",
        "%matplotlib inline\n",
        "#plotting the graph via imshow function call\n",
        "#this function has X-train[0] as parameter,\n",
        "#hence displaying the first image, user can change \n",
        "#0 to any positive value under\n",
        "#60000(as training size in 60000) to view other data entries. \n",
        "plt.imshow(X_train[0])"
      ],
      "execution_count": 0,
      "outputs": [
        {
          "output_type": "stream",
          "text": [
            "(60000, 28, 28)\n"
          ],
          "name": "stdout"
        },
        {
          "output_type": "execute_result",
          "data": {
            "text/plain": [
              "<matplotlib.image.AxesImage at 0x7f59c9b23198>"
            ]
          },
          "metadata": {
            "tags": []
          },
          "execution_count": 4
        },
        {
          "output_type": "display_data",
          "data": {
            "image/png": "[encoded data removed]",
            "text/plain": [
              "<Figure size 432x288 with 1 Axes>"
            ]
          },
          "metadata": {
            "tags": []
          }
        }
      ]
    },
    {
      "cell_type": "code",
      "metadata": {
        "id": "dkmprriw9AnZ",
        "colab_type": "code",
        "colab": {}
      },
      "source": [
        "#reshaping the training and testing images,\n",
        "#representing the images in 3 Dimension.\n",
        "X_train = X_train.reshape(X_train.shape[0], 28, 28,1)\n",
        "X_test = X_test.reshape(X_test.shape[0], 28, 28,1)"
      ],
      "execution_count": 0,
      "outputs": []
    },
    {
      "cell_type": "code",
      "metadata": {
        "id": "X2m4YS4E9CRh",
        "colab_type": "code",
        "colab": {}
      },
      "source": [
        "#chaning the training and testing image datatype\n",
        "#to float\n",
        "X_train = X_train.astype('float32')\n",
        "X_test = X_test.astype('float32')\n",
        "#The data contains pixel values ranging\n",
        "#from 0-255, hence dividing all value by 255\n",
        "#so that the data comes in range of 0-1\n",
        "X_train /= 255\n",
        "X_test /= 255"
      ],
      "execution_count": 0,
      "outputs": []
    },
    {
      "cell_type": "code",
      "metadata": {
        "id": "0Mn0vAYD9DvB",
        "colab_type": "code",
        "outputId": "63a47cda-b8b7-4fc8-f032-e20be693b941",
        "colab": {
          "base_uri": "https://localhost:8080/",
          "height": 34
        }
      },
      "source": [
        "#displaying the first 10 values of y_train array\n",
        "y_train[:10]"
      ],
      "execution_count": 0,
      "outputs": [
        {
          "output_type": "execute_result",
          "data": {
            "text/plain": [
              "array([5, 0, 4, 1, 9, 2, 1, 3, 1, 4], dtype=uint8)"
            ]
          },
          "metadata": {
            "tags": []
          },
          "execution_count": 7
        }
      ]
    },
    {
      "cell_type": "code",
      "metadata": {
        "id": "ZG8JiXR39FHC",
        "colab_type": "code",
        "colab": {}
      },
      "source": [
        "# Convert 1-dimensional class arrays to 10-dimensional class matrices\n",
        "# As the total number of classes are 10\n",
        "Y_train = np_utils.to_categorical(y_train, 10)\n",
        "Y_test = np_utils.to_categorical(y_test, 10)"
      ],
      "execution_count": 0,
      "outputs": []
    },
    {
      "cell_type": "code",
      "metadata": {
        "id": "fYlFRvKS9HMB",
        "colab_type": "code",
        "outputId": "6c266345-9dfe-432e-cf6d-36cdcb259ef7",
        "colab": {
          "base_uri": "https://localhost:8080/",
          "height": 191
        }
      },
      "source": [
        "#Displaying the first 10 entries of Y_train variable\n",
        "Y_train[:10]"
      ],
      "execution_count": 0,
      "outputs": [
        {
          "output_type": "execute_result",
          "data": {
            "text/plain": [
              "array([[0., 0., 0., 0., 0., 1., 0., 0., 0., 0.],\n",
              "       [1., 0., 0., 0., 0., 0., 0., 0., 0., 0.],\n",
              "       [0., 0., 0., 0., 1., 0., 0., 0., 0., 0.],\n",
              "       [0., 1., 0., 0., 0., 0., 0., 0., 0., 0.],\n",
              "       [0., 0., 0., 0., 0., 0., 0., 0., 0., 1.],\n",
              "       [0., 0., 1., 0., 0., 0., 0., 0., 0., 0.],\n",
              "       [0., 1., 0., 0., 0., 0., 0., 0., 0., 0.],\n",
              "       [0., 0., 0., 1., 0., 0., 0., 0., 0., 0.],\n",
              "       [0., 1., 0., 0., 0., 0., 0., 0., 0., 0.],\n",
              "       [0., 0., 0., 0., 1., 0., 0., 0., 0., 0.]], dtype=float32)"
            ]
          },
          "metadata": {
            "tags": []
          },
          "execution_count": 9
        }
      ]
    },
    {
      "cell_type": "markdown",
      "metadata": {
        "id": "AHeKFJYwfFNY",
        "colab_type": "text"
      },
      "source": [
        "### Neural Network\n",
        "\n",
        "This is the developed Neural Network, if every layer, receptive field and channel output in written in the format(Field, Channel, Output)\n"
      ]
    },
    {
      "cell_type": "code",
      "metadata": {
        "id": "osKqT73Q9JJB",
        "colab_type": "code",
        "outputId": "b33ece97-f260-4e99-ab8a-f324a5712cd1",
        "colab": {
          "base_uri": "https://localhost:8080/",
          "height": 298
        }
      },
      "source": [
        "from keras.layers import Activation\n",
        "model = Sequential()\n",
        "\n",
        " \n",
        "model.add(Convolution2D(10, 3, 3, activation='relu', input_shape=(28,28,1)))\n",
        "#Layer 1(3x3,10,26)\n",
        "\n",
        "model.add(Convolution2D(18, 3, 3, activation='relu'))\n",
        "#Layer 2(5x5,18,24)\n",
        "model.add(BatchNormalization())\n",
        "model.add(Dropout(0.1))\n",
        "\n",
        "model.add(Convolution2D(12, 3, 3, activation='relu'))\n",
        "#Layer 3(7x7,12,22)\n",
        "model.add(MaxPooling2D(pool_size=(2, 2)))\n",
        "#Layer 4(14x14,12,11)\n",
        "model.add(Convolution2D(10, 1, 1, activation='relu'))\n",
        "#Layer 5(16x16,10,11)\n",
        "model.add(BatchNormalization())\n",
        "model.add(Dropout(0.1))\n",
        "\n",
        "\n",
        "model.add(Convolution2D(18, 3, 3, activation='relu')) \n",
        "#Layer 6(18x18,18,9)\n",
        "model.add(Convolution2D(12, 3, 3, activation='relu'))\n",
        "#Layer 7(20x20,12,7)\n",
        "model.add(BatchNormalization())\n",
        "model.add(Dropout(0.1))\n",
        "\n",
        "model.add(Convolution2D(10, 1, activation='relu')) \n",
        "#Layer 8(22x22,10,7)\n",
        "model.add(Convolution2D(10, 7))\n",
        "#Layer 9(24x24,10,1)\n",
        "model.add(Flatten())\n",
        "model.add(Activation('softmax'))"
      ],
      "execution_count": 0,
      "outputs": [
        {
          "output_type": "stream",
          "text": [
            "WARNING:tensorflow:From /usr/local/lib/python3.6/dist-packages/tensorflow/python/framework/op_def_library.py:263: colocate_with (from tensorflow.python.framework.ops) is deprecated and will be removed in a future version.\n",
            "Instructions for updating:\n",
            "Colocations handled automatically by placer.\n"
          ],
          "name": "stdout"
        },
        {
          "output_type": "stream",
          "text": [
            "/usr/local/lib/python3.6/dist-packages/ipykernel_launcher.py:5: UserWarning: Update your `Conv2D` call to the Keras 2 API: `Conv2D(10, (3, 3), activation=\"relu\", input_shape=(28, 28, 1...)`\n",
            "  \"\"\"\n",
            "/usr/local/lib/python3.6/dist-packages/ipykernel_launcher.py:8: UserWarning: Update your `Conv2D` call to the Keras 2 API: `Conv2D(18, (3, 3), activation=\"relu\")`\n",
            "  \n"
          ],
          "name": "stderr"
        },
        {
          "output_type": "stream",
          "text": [
            "WARNING:tensorflow:From /usr/local/lib/python3.6/dist-packages/keras/backend/tensorflow_backend.py:3445: calling dropout (from tensorflow.python.ops.nn_ops) with keep_prob is deprecated and will be removed in a future version.\n",
            "Instructions for updating:\n",
            "Please use `rate` instead of `keep_prob`. Rate should be set to `rate = 1 - keep_prob`.\n"
          ],
          "name": "stdout"
        },
        {
          "output_type": "stream",
          "text": [
            "/usr/local/lib/python3.6/dist-packages/ipykernel_launcher.py:13: UserWarning: Update your `Conv2D` call to the Keras 2 API: `Conv2D(12, (3, 3), activation=\"relu\")`\n",
            "  del sys.path[0]\n",
            "/usr/local/lib/python3.6/dist-packages/ipykernel_launcher.py:17: UserWarning: Update your `Conv2D` call to the Keras 2 API: `Conv2D(10, (1, 1), activation=\"relu\")`\n",
            "/usr/local/lib/python3.6/dist-packages/ipykernel_launcher.py:23: UserWarning: Update your `Conv2D` call to the Keras 2 API: `Conv2D(18, (3, 3), activation=\"relu\")`\n",
            "/usr/local/lib/python3.6/dist-packages/ipykernel_launcher.py:25: UserWarning: Update your `Conv2D` call to the Keras 2 API: `Conv2D(12, (3, 3), activation=\"relu\")`\n"
          ],
          "name": "stderr"
        }
      ]
    },
    {
      "cell_type": "code",
      "metadata": {
        "id": "TzdAYg1k9K7Z",
        "colab_type": "code",
        "outputId": "cb12545c-01e1-48cd-cd05-06bb04f12a9e",
        "colab": {
          "base_uri": "https://localhost:8080/",
          "height": 729
        }
      },
      "source": [
        "#Display the summary of the model i.e. layers, output, parameter \n",
        "#generated\n",
        "model.summary()"
      ],
      "execution_count": 0,
      "outputs": [
        {
          "output_type": "stream",
          "text": [
            "_________________________________________________________________\n",
            "Layer (type)                 Output Shape              Param #   \n",
            "=================================================================\n",
            "conv2d_1 (Conv2D)            (None, 26, 26, 10)        100       \n",
            "_________________________________________________________________\n",
            "conv2d_2 (Conv2D)            (None, 24, 24, 18)        1638      \n",
            "_________________________________________________________________\n",
            "batch_normalization_1 (Batch (None, 24, 24, 18)        72        \n",
            "_________________________________________________________________\n",
            "dropout_1 (Dropout)          (None, 24, 24, 18)        0         \n",
            "_________________________________________________________________\n",
            "conv2d_3 (Conv2D)            (None, 22, 22, 12)        1956      \n",
            "_________________________________________________________________\n",
            "max_pooling2d_1 (MaxPooling2 (None, 11, 11, 12)        0         \n",
            "_________________________________________________________________\n",
            "conv2d_4 (Conv2D)            (None, 11, 11, 10)        130       \n",
            "_________________________________________________________________\n",
            "batch_normalization_2 (Batch (None, 11, 11, 10)        40        \n",
            "_________________________________________________________________\n",
            "dropout_2 (Dropout)          (None, 11, 11, 10)        0         \n",
            "_________________________________________________________________\n",
            "conv2d_5 (Conv2D)            (None, 9, 9, 18)          1638      \n",
            "_________________________________________________________________\n",
            "conv2d_6 (Conv2D)            (None, 7, 7, 12)          1956      \n",
            "_________________________________________________________________\n",
            "batch_normalization_3 (Batch (None, 7, 7, 12)          48        \n",
            "_________________________________________________________________\n",
            "dropout_3 (Dropout)          (None, 7, 7, 12)          0         \n",
            "_________________________________________________________________\n",
            "conv2d_7 (Conv2D)            (None, 7, 7, 10)          130       \n",
            "_________________________________________________________________\n",
            "conv2d_8 (Conv2D)            (None, 1, 1, 10)          4910      \n",
            "_________________________________________________________________\n",
            "flatten_1 (Flatten)          (None, 10)                0         \n",
            "_________________________________________________________________\n",
            "activation_1 (Activation)    (None, 10)                0         \n",
            "=================================================================\n",
            "Total params: 12,618\n",
            "Trainable params: 12,538\n",
            "Non-trainable params: 80\n",
            "_________________________________________________________________\n"
          ],
          "name": "stdout"
        }
      ]
    },
    {
      "cell_type": "code",
      "metadata": {
        "id": "Zp6SuGrL9M3h",
        "colab_type": "code",
        "outputId": "21ce4272-e76c-4a5d-ecea-63c0ee118076",
        "colab": {
          "base_uri": "https://localhost:8080/",
          "height": 2830
        }
      },
      "source": [
        "#compile function is used after the model is loaded\n",
        "#it is used to give the loss function, optimizer and metrics data\n",
        "#Here the loss function is categotical_crossentrophy, optimzer is adam\n",
        "# and metrics is accuracy.\n",
        "from keras.optimizers import Adam\n",
        "from keras.callbacks import LearningRateScheduler\n",
        "#scheduler function to reduce learning rate after every epoch.\n",
        "def scheduler(epoch, lr):\n",
        "  return round(0.003 * 1/(1 + 0.319 * epoch), 10)\n",
        "#initializing the learning rate to 0.003\n",
        "\n",
        "model.compile(loss='categorical_crossentropy', optimizer=Adam(lr=0.003), metrics=['accuracy'])\n",
        "\n",
        "#Fit function is used to train the model, The batch size here is 64 \n",
        "#meaning after a set of 64 data entries is taken at a time.\n",
        "#Total epochs is 40, meaning 60000 images will be loaded 40 times \n",
        "#fully in the system. Verbose is a parameter which is set for displaying the\n",
        "#output at every iteration.\n",
        "model.fit(X_train, Y_train, batch_size=128, epochs=40, verbose=1, validation_data=(X_test, Y_test), callbacks=[LearningRateScheduler(scheduler, verbose=1)])\n"
      ],
      "execution_count": 0,
      "outputs": [
        {
          "output_type": "stream",
          "text": [
            "Train on 60000 samples, validate on 10000 samples\n",
            "Epoch 1/40\n",
            "\n",
            "Epoch 00001: LearningRateScheduler setting learning rate to 0.003.\n",
            "60000/60000 [==============================] - 6s 99us/step - loss: 0.0370 - acc: 0.9885 - val_loss: 0.0437 - val_acc: 0.9864\n",
            "Epoch 2/40\n",
            "\n",
            "Epoch 00002: LearningRateScheduler setting learning rate to 0.0022744503.\n",
            "60000/60000 [==============================] - 5s 80us/step - loss: 0.0245 - acc: 0.9919 - val_loss: 0.0420 - val_acc: 0.9881\n",
            "Epoch 3/40\n",
            "\n",
            "Epoch 00003: LearningRateScheduler setting learning rate to 0.0018315018.\n",
            "60000/60000 [==============================] - 5s 80us/step - loss: 0.0200 - acc: 0.9934 - val_loss: 0.0314 - val_acc: 0.9907\n",
            "Epoch 4/40\n",
            "\n",
            "Epoch 00004: LearningRateScheduler setting learning rate to 0.0015329586.\n",
            "60000/60000 [==============================] - 5s 80us/step - loss: 0.0163 - acc: 0.9947 - val_loss: 0.0329 - val_acc: 0.9914\n",
            "Epoch 5/40\n",
            "\n",
            "Epoch 00005: LearningRateScheduler setting learning rate to 0.0013181019.\n",
            "60000/60000 [==============================] - 5s 80us/step - loss: 0.0156 - acc: 0.9948 - val_loss: 0.0288 - val_acc: 0.9914\n",
            "Epoch 6/40\n",
            "\n",
            "Epoch 00006: LearningRateScheduler setting learning rate to 0.0011560694.\n",
            "60000/60000 [==============================] - 5s 80us/step - loss: 0.0141 - acc: 0.9950 - val_loss: 0.0278 - val_acc: 0.9923\n",
            "Epoch 7/40\n",
            "\n",
            "Epoch 00007: LearningRateScheduler setting learning rate to 0.0010295127.\n",
            "60000/60000 [==============================] - 5s 80us/step - loss: 0.0129 - acc: 0.9956 - val_loss: 0.0326 - val_acc: 0.9922\n",
            "Epoch 8/40\n",
            "\n",
            "Epoch 00008: LearningRateScheduler setting learning rate to 0.0009279307.\n",
            "60000/60000 [==============================] - 5s 87us/step - loss: 0.0107 - acc: 0.9966 - val_loss: 0.0308 - val_acc: 0.9922\n",
            "Epoch 9/40\n",
            "\n",
            "Epoch 00009: LearningRateScheduler setting learning rate to 0.0008445946.\n",
            "60000/60000 [==============================] - 5s 89us/step - loss: 0.0112 - acc: 0.9961 - val_loss: 0.0278 - val_acc: 0.9924\n",
            "Epoch 10/40\n",
            "\n",
            "Epoch 00010: LearningRateScheduler setting learning rate to 0.0007749935.\n",
            "60000/60000 [==============================] - 5s 85us/step - loss: 0.0092 - acc: 0.9970 - val_loss: 0.0257 - val_acc: 0.9927\n",
            "Epoch 11/40\n",
            "\n",
            "Epoch 00011: LearningRateScheduler setting learning rate to 0.0007159905.\n",
            "60000/60000 [==============================] - 5s 86us/step - loss: 0.0093 - acc: 0.9968 - val_loss: 0.0325 - val_acc: 0.9914\n",
            "Epoch 12/40\n",
            "\n",
            "Epoch 00012: LearningRateScheduler setting learning rate to 0.000665336.\n",
            "60000/60000 [==============================] - 5s 84us/step - loss: 0.0090 - acc: 0.9972 - val_loss: 0.0312 - val_acc: 0.9920\n",
            "Epoch 13/40\n",
            "\n",
            "Epoch 00013: LearningRateScheduler setting learning rate to 0.0006213753.\n",
            "60000/60000 [==============================] - 5s 81us/step - loss: 0.0084 - acc: 0.9970 - val_loss: 0.0308 - val_acc: 0.9919\n",
            "Epoch 14/40\n",
            "\n",
            "Epoch 00014: LearningRateScheduler setting learning rate to 0.0005828638.\n",
            "60000/60000 [==============================] - 5s 80us/step - loss: 0.0075 - acc: 0.9974 - val_loss: 0.0285 - val_acc: 0.9924\n",
            "Epoch 15/40\n",
            "\n",
            "Epoch 00015: LearningRateScheduler setting learning rate to 0.0005488474.\n",
            "60000/60000 [==============================] - 5s 80us/step - loss: 0.0074 - acc: 0.9974 - val_loss: 0.0297 - val_acc: 0.9921\n",
            "Epoch 16/40\n",
            "\n",
            "Epoch 00016: LearningRateScheduler setting learning rate to 0.0005185825.\n",
            "60000/60000 [==============================] - 5s 79us/step - loss: 0.0073 - acc: 0.9975 - val_loss: 0.0277 - val_acc: 0.9924\n",
            "Epoch 17/40\n",
            "\n",
            "Epoch 00017: LearningRateScheduler setting learning rate to 0.000491481.\n",
            "60000/60000 [==============================] - 5s 80us/step - loss: 0.0074 - acc: 0.9973 - val_loss: 0.0274 - val_acc: 0.9929\n",
            "Epoch 18/40\n",
            "\n",
            "Epoch 00018: LearningRateScheduler setting learning rate to 0.0004670715.\n",
            "60000/60000 [==============================] - 5s 80us/step - loss: 0.0059 - acc: 0.9979 - val_loss: 0.0264 - val_acc: 0.9927\n",
            "Epoch 19/40\n",
            "\n",
            "Epoch 00019: LearningRateScheduler setting learning rate to 0.0004449718.\n",
            "60000/60000 [==============================] - 5s 80us/step - loss: 0.0061 - acc: 0.9979 - val_loss: 0.0278 - val_acc: 0.9930\n",
            "Epoch 20/40\n",
            "\n",
            "Epoch 00020: LearningRateScheduler setting learning rate to 0.000424869.\n",
            "60000/60000 [==============================] - 5s 80us/step - loss: 0.0062 - acc: 0.9980 - val_loss: 0.0264 - val_acc: 0.9928\n",
            "Epoch 21/40\n",
            "\n",
            "Epoch 00021: LearningRateScheduler setting learning rate to 0.0004065041.\n",
            "60000/60000 [==============================] - 5s 80us/step - loss: 0.0060 - acc: 0.9980 - val_loss: 0.0286 - val_acc: 0.9927\n",
            "Epoch 22/40\n",
            "\n",
            "Epoch 00022: LearningRateScheduler setting learning rate to 0.000389661.\n",
            "60000/60000 [==============================] - 5s 80us/step - loss: 0.0059 - acc: 0.9980 - val_loss: 0.0278 - val_acc: 0.9933\n",
            "Epoch 23/40\n",
            "\n",
            "Epoch 00023: LearningRateScheduler setting learning rate to 0.0003741581.\n",
            "60000/60000 [==============================] - 5s 80us/step - loss: 0.0055 - acc: 0.9982 - val_loss: 0.0272 - val_acc: 0.9929\n",
            "Epoch 24/40\n",
            "\n",
            "Epoch 00024: LearningRateScheduler setting learning rate to 0.0003598417.\n",
            "60000/60000 [==============================] - 5s 80us/step - loss: 0.0058 - acc: 0.9980 - val_loss: 0.0294 - val_acc: 0.9924\n",
            "Epoch 25/40\n",
            "\n",
            "Epoch 00025: LearningRateScheduler setting learning rate to 0.0003465804.\n",
            "60000/60000 [==============================] - 5s 80us/step - loss: 0.0054 - acc: 0.9983 - val_loss: 0.0299 - val_acc: 0.9926\n",
            "Epoch 26/40\n",
            "\n",
            "Epoch 00026: LearningRateScheduler setting learning rate to 0.0003342618.\n",
            "60000/60000 [==============================] - 5s 79us/step - loss: 0.0054 - acc: 0.9979 - val_loss: 0.0302 - val_acc: 0.9928\n",
            "Epoch 27/40\n",
            "\n",
            "Epoch 00027: LearningRateScheduler setting learning rate to 0.0003227889.\n",
            "60000/60000 [==============================] - 5s 86us/step - loss: 0.0049 - acc: 0.9983 - val_loss: 0.0303 - val_acc: 0.9923\n",
            "Epoch 28/40\n",
            "\n",
            "Epoch 00028: LearningRateScheduler setting learning rate to 0.0003120774.\n",
            "60000/60000 [==============================] - 5s 86us/step - loss: 0.0055 - acc: 0.9981 - val_loss: 0.0294 - val_acc: 0.9924\n",
            "Epoch 29/40\n",
            "\n",
            "Epoch 00029: LearningRateScheduler setting learning rate to 0.000302054.\n",
            "60000/60000 [==============================] - 5s 81us/step - loss: 0.0048 - acc: 0.9983 - val_loss: 0.0286 - val_acc: 0.9926\n",
            "Epoch 30/40\n",
            "\n",
            "Epoch 00030: LearningRateScheduler setting learning rate to 0.0002926544.\n",
            "60000/60000 [==============================] - 5s 79us/step - loss: 0.0047 - acc: 0.9984 - val_loss: 0.0281 - val_acc: 0.9919\n",
            "Epoch 31/40\n",
            "\n",
            "Epoch 00031: LearningRateScheduler setting learning rate to 0.0002838221.\n",
            "60000/60000 [==============================] - 5s 80us/step - loss: 0.0048 - acc: 0.9986 - val_loss: 0.0286 - val_acc: 0.9927\n",
            "Epoch 32/40\n",
            "\n",
            "Epoch 00032: LearningRateScheduler setting learning rate to 0.0002755074.\n",
            "60000/60000 [==============================] - 5s 80us/step - loss: 0.0049 - acc: 0.9983 - val_loss: 0.0272 - val_acc: 0.9929\n",
            "Epoch 33/40\n",
            "\n",
            "Epoch 00033: LearningRateScheduler setting learning rate to 0.000267666.\n",
            "60000/60000 [==============================] - 5s 81us/step - loss: 0.0040 - acc: 0.9987 - val_loss: 0.0279 - val_acc: 0.9923\n",
            "Epoch 34/40\n",
            "\n",
            "Epoch 00034: LearningRateScheduler setting learning rate to 0.0002602585.\n",
            "60000/60000 [==============================] - 5s 80us/step - loss: 0.0042 - acc: 0.9987 - val_loss: 0.0291 - val_acc: 0.9932\n",
            "Epoch 35/40\n",
            "\n",
            "Epoch 00035: LearningRateScheduler setting learning rate to 0.00025325.\n",
            "60000/60000 [==============================] - 5s 80us/step - loss: 0.0036 - acc: 0.9988 - val_loss: 0.0311 - val_acc: 0.9924\n",
            "Epoch 36/40\n",
            "\n",
            "Epoch 00036: LearningRateScheduler setting learning rate to 0.0002466091.\n",
            "60000/60000 [==============================] - 5s 80us/step - loss: 0.0042 - acc: 0.9987 - val_loss: 0.0312 - val_acc: 0.9928\n",
            "Epoch 37/40\n",
            "\n",
            "Epoch 00037: LearningRateScheduler setting learning rate to 0.0002403076.\n",
            "60000/60000 [==============================] - 5s 80us/step - loss: 0.0041 - acc: 0.9986 - val_loss: 0.0306 - val_acc: 0.9929\n",
            "Epoch 38/40\n",
            "\n",
            "Epoch 00038: LearningRateScheduler setting learning rate to 0.0002343201.\n",
            "60000/60000 [==============================] - 5s 80us/step - loss: 0.0043 - acc: 0.9984 - val_loss: 0.0310 - val_acc: 0.9930\n",
            "Epoch 39/40\n",
            "\n",
            "Epoch 00039: LearningRateScheduler setting learning rate to 0.0002286237.\n",
            "60000/60000 [==============================] - 5s 84us/step - loss: 0.0040 - acc: 0.9989 - val_loss: 0.0293 - val_acc: 0.9926\n",
            "Epoch 40/40\n",
            "\n",
            "Epoch 00040: LearningRateScheduler setting learning rate to 0.0002231977.\n",
            "60000/60000 [==============================] - 5s 83us/step - loss: 0.0042 - acc: 0.9986 - val_loss: 0.0279 - val_acc: 0.9931\n"
          ],
          "name": "stdout"
        },
        {
          "output_type": "execute_result",
          "data": {
            "text/plain": [
              "<keras.callbacks.History at 0x7f59c9af7240>"
            ]
          },
          "metadata": {
            "tags": []
          },
          "execution_count": 19
        }
      ]
    },
    {
      "cell_type": "code",
      "metadata": {
        "id": "AtsH-lLk-eLb",
        "colab_type": "code",
        "colab": {}
      },
      "source": [
        "#model.evaluate will return the loss and accuracy obtained\n",
        "#over the testing data\n",
        "score = model.evaluate(X_test, Y_test, verbose=0)"
      ],
      "execution_count": 0,
      "outputs": []
    },
    {
      "cell_type": "code",
      "metadata": {
        "id": "mkX8JMv79q9r",
        "colab_type": "code",
        "outputId": "17a12669-d040-4c23-d90e-73c1621b3035",
        "colab": {
          "base_uri": "https://localhost:8080/",
          "height": 34
        }
      },
      "source": [
        "print(score)# will display the value stored in variable score"
      ],
      "execution_count": 0,
      "outputs": [
        {
          "output_type": "stream",
          "text": [
            "[0.02776524857359145, 0.9929]\n"
          ],
          "name": "stdout"
        }
      ]
    },
    {
      "cell_type": "code",
      "metadata": {
        "id": "OCWoJkwE9suh",
        "colab_type": "code",
        "colab": {}
      },
      "source": [
        "#Trained model is run over the testing data\n",
        "#and the predicted output in stored in y_pred \n",
        "#variable.\n",
        "y_pred = model.predict(X_test)"
      ],
      "execution_count": 0,
      "outputs": []
    },
    {
      "cell_type": "code",
      "metadata": {
        "id": "Ym7iCFBm9uBs",
        "colab_type": "code",
        "outputId": "f550f9a7-446f-4551-a609-73881d4a97bb",
        "colab": {
          "base_uri": "https://localhost:8080/",
          "height": 347
        }
      },
      "source": [
        "print(y_pred[:9])#Will display the predicted values\n",
        "print(y_test[:9])#Will display the actual values"
      ],
      "execution_count": 0,
      "outputs": [
        {
          "output_type": "stream",
          "text": [
            "[[7.3538699e-17 2.6786323e-14 8.5118766e-11 3.1662049e-09 9.2517106e-21\n",
            "  2.8644592e-15 3.3369756e-26 1.0000000e+00 9.8692552e-16 5.2991549e-11]\n",
            " [2.0472649e-08 1.6640907e-08 1.0000000e+00 4.0598052e-14 1.8109664e-15\n",
            "  1.3003418e-14 3.3824277e-11 1.2178996e-16 2.1580647e-13 8.8188438e-16]\n",
            " [1.1673654e-10 9.9999988e-01 1.1423986e-09 4.5674722e-13 7.3112751e-08\n",
            "  3.2593012e-11 2.2518881e-12 9.6121902e-09 4.1211097e-11 4.7296833e-10]\n",
            " [9.9999356e-01 1.6475672e-14 2.1567548e-09 5.4099121e-09 5.6123617e-10\n",
            "  2.3282069e-10 3.3122574e-06 1.6990305e-10 1.1572744e-08 3.0843057e-06]\n",
            " [1.8882575e-15 9.2382224e-17 5.7938994e-11 3.3259775e-14 1.0000000e+00\n",
            "  5.5763182e-15 2.2754925e-12 1.2320628e-13 1.4958533e-11 2.1079365e-09]\n",
            " [2.7168556e-10 9.9999917e-01 2.0505879e-09 3.0434131e-14 2.1037216e-07\n",
            "  4.5200740e-12 5.2939146e-12 5.7685116e-07 1.8398521e-11 1.5056603e-09]\n",
            " [6.6058767e-20 6.0420401e-12 2.3225134e-10 2.7686216e-13 9.9999988e-01\n",
            "  9.4294006e-13 5.4237743e-15 4.3358352e-09 2.1479513e-08 1.4872445e-07]\n",
            " [3.7458249e-17 2.8233975e-12 8.3389823e-12 1.4621656e-09 4.2109191e-04\n",
            "  2.5399313e-11 2.8351776e-16 2.6584228e-13 4.9917079e-09 9.9957889e-01]\n",
            " [4.2998632e-10 7.3057100e-14 1.6166585e-10 3.2403732e-11 4.0156773e-15\n",
            "  8.3412105e-01 1.6587727e-01 6.6466900e-17 1.4872053e-06 1.5587301e-07]]\n",
            "[7 2 1 0 4 1 4 9 5]\n"
          ],
          "name": "stdout"
        }
      ]
    },
    {
      "cell_type": "code",
      "metadata": {
        "id": "CT--y98_dr2T",
        "colab_type": "code",
        "colab": {}
      },
      "source": [
        "#creating a dictionary of layer name and layer that the model has in layer_dict\n",
        "#variable.\n",
        "layer_dict = dict([(layer.name, layer) for layer in model.layers])"
      ],
      "execution_count": 0,
      "outputs": []
    },
    {
      "cell_type": "markdown",
      "metadata": {
        "id": "FlIXSJguKhFV",
        "colab_type": "text"
      },
      "source": [
        "\n",
        "This will visualize the input image and applied filter over the image\n"
      ]
    },
    {
      "cell_type": "code",
      "metadata": {
        "id": "2GY4Upv4dsUR",
        "colab_type": "code",
        "outputId": "5b0bc04c-9ed0-4f89-954c-1d1d8120fa86",
        "colab": {
          "base_uri": "https://localhost:8080/",
          "height": 741
        }
      },
      "source": [
        "from keras import backend as K\n",
        "%matplotlib inline\n",
        "# util function to convert a tensor into a valid image\n",
        "def deprocess_image(x):\n",
        "    # normalize tensor: center on 0., ensure std is 0.1\n",
        "    x -= x.mean()\n",
        "    x /= (x.std() + 1e-5)\n",
        "    x *= 0.1\n",
        "\n",
        "    # clip to [0, 1]\n",
        "    x += 0.5\n",
        "    x = np.clip(x, 0, 1)\n",
        "\n",
        "    # convert to RGB array\n",
        "    x *= 255\n",
        "    #x = x.transpose((1, 2, 0))\n",
        "    x = np.clip(x, 0, 255).astype('uint8')\n",
        "    return x\n",
        "\n",
        "def vis_img_in_filter(img = np.array(X_train[0]).reshape((1, 28, 28, 1)).astype(np.float64), \n",
        "                      layer_name = 'conv2d_2'):\n",
        "    layer_output = layer_dict[layer_name].output\n",
        "    img_ascs = list()\n",
        "    for filter_index in range(layer_output.shape[3]):\n",
        "        # build a loss function that maximizes the activation\n",
        "        # of the nth filter of the layer considered\n",
        "        loss = K.mean(layer_output[:, :, :, filter_index])\n",
        "\n",
        "        # compute the gradient of the input picture wrt this loss\n",
        "        grads = K.gradients(loss, model.input)[0]\n",
        "\n",
        "        # normalization trick: we normalize the gradient\n",
        "        grads /= (K.sqrt(K.mean(K.square(grads))) + 1e-5)\n",
        "\n",
        "        # this function returns the loss and grads given the input picture\n",
        "        iterate = K.function([model.input], [loss, grads])\n",
        "\n",
        "        # step size for gradient ascent\n",
        "        step = 5.\n",
        "\n",
        "        img_asc = np.array(img)\n",
        "        # run gradient ascent for 20 steps\n",
        "        for i in range(20):\n",
        "            loss_value, grads_value = iterate([img_asc])\n",
        "            img_asc += grads_value * step\n",
        "\n",
        "        img_asc = img_asc[0]\n",
        "        img_ascs.append(deprocess_image(img_asc).reshape((28, 28)))\n",
        "        \n",
        "    if layer_output.shape[3] >= 35:\n",
        "        plot_x, plot_y = 6, 6\n",
        "    elif layer_output.shape[3] >= 23:\n",
        "        plot_x, plot_y = 4, 6\n",
        "    elif layer_output.shape[3] >= 11:\n",
        "        plot_x, plot_y = 2, 6\n",
        "    else:\n",
        "        plot_x, plot_y = 1, 2\n",
        "    fig, ax = plt.subplots(plot_x, plot_y, figsize = (12, 12))\n",
        "    ax[0, 0].imshow(img.reshape((28, 28)), cmap = 'gray')\n",
        "    ax[0, 0].set_title('Input image')\n",
        "    fig.suptitle('Input image and %s filters' % (layer_name,))\n",
        "    fig.tight_layout(pad = 0.3, rect = [0, 0, 0.9, 0.9])\n",
        "    for (x, y) in [(i, j) for i in range(plot_x) for j in range(plot_y)]:\n",
        "        if x == 0 and y == 0:\n",
        "            continue\n",
        "        ax[x, y].imshow(img_ascs[x * plot_y + y - 1], cmap = 'gray')\n",
        "        ax[x, y].set_title('filter %d' % (x * plot_y + y - 1))\n",
        "\n",
        "vis_img_in_filter()"
      ],
      "execution_count": 0,
      "outputs": [
        {
          "output_type": "display_data",
          "data": {
            "image/png": "[encoded data removed]",
            "text/plain": [
              "<Figure size 864x864 with 12 Axes>"
            ]
          },
          "metadata": {
            "tags": []
          }
        }
      ]
    },
    {
      "cell_type": "markdown",
      "metadata": {
        "id": "bIqTDWbCf-l2",
        "colab_type": "text"
      },
      "source": [
        "## Result\n",
        "Under **12618 Parameters** with 3 batch normalization layer, 3 dropout layers, learing rate at 0.03 and **20 Epochs** with **batch size of 64**  an **accuracy of 99.4%** is obtained"
      ]
    }
  ]
}