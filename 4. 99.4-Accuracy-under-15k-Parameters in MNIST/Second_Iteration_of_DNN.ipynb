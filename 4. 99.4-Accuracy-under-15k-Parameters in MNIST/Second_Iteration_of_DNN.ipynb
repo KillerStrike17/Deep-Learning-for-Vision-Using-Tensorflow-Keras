{
  "nbformat": 4,
  "nbformat_minor": 0,
  "metadata": {
    "colab": {
      "name": "Second Iteration of DNN.ipynb",
      "provenance": [],
      "collapsed_sections": [],
      "include_colab_link": true
    },
    "kernelspec": {
      "name": "python3",
      "display_name": "Python 3"
    },
    "accelerator": "GPU"
  },
  "cells": [
    {
      "cell_type": "markdown",
      "metadata": {
        "id": "view-in-github",
        "colab_type": "text"
      },
      "source": [
        "<a href=\"https://colab.research.google.com/github/KillerStrike17/Deep-Learning-for-Vision-Using-Tensorflow-Keras/blob/master/4.%2099.4-Accuracy-under-15k-Parameters%20in%20MNIST/Second_Iteration_of_DNN.ipynb\" target=\"_parent\"><img src=\"https://colab.research.google.com/assets/colab-badge.svg\" alt=\"Open In Colab\"/></a>"
      ]
    },
    {
      "cell_type": "markdown",
      "metadata": {
        "id": "aNyZv-Ec52ot",
        "colab_type": "text"
      },
      "source": [
        "# **Import Libraries and modules**"
      ]
    },
    {
      "cell_type": "markdown",
      "metadata": {
        "id": "1UcC-Nju3iIW",
        "colab_type": "text"
      },
      "source": [
        "## Approach\n",
        "A Basic Network was developed in the last iteration, It had a total of **12458 Parameters** and achieved an **accuarcy of 98.99%** in **8 Epochs**.\n",
        "### Aim \n",
        "To make changes in the network that lead to increase in accuracy maintaining the parameter count under 15K.\n",
        "\n",
        "###GOAL\n",
        "To develop a Deep Neural Network under 15K Parameters having an Accuarcy better than 98.99%.\n",
        "\n",
        "###Observations from the results.\n",
        "On looking over the training, it is seen that in the initial 4 epochs, there was underfitting, this is because the training has just began and the system is yet to make a lot of adjustments in the weights. Next 4 epochs have difference between training accuracy and validation accuracy low. But then this difference starts increasing and leading to overfitting. We can conlude that becuase the difference between  in training and validation accuracy is increasing. Thus here some work can be done. It can be done by adding batch normalization layers and observing changes. \n",
        "\n",
        "###Way to asses the Developed Network\n",
        " Run the created network and observe the validation accuracy for initial few epochs, if it is better than the previous one then this network can perform well but if the developed network doesnot give a better accuracy than the previous one then it is better to change the network.\n",
        " \n",
        " ### Next Step\n",
        "Use Batch Normalization, alter epochs and batch sizes and observe changes in accuracy and select an appropriate network via the above stratergy."
      ]
    },
    {
      "cell_type": "code",
      "metadata": {
        "id": "3m3w1Cw49Zkt",
        "colab_type": "code",
        "colab": {}
      },
      "source": [
        "# https://keras.io/\n",
        "#to install keras library\n",
        "#'!'allows bash command to run\n",
        "#in notebook\n",
        "!pip install -q keras\n",
        "import keras"
      ],
      "execution_count": 0,
      "outputs": []
    },
    {
      "cell_type": "code",
      "metadata": {
        "id": "Eso6UHE080D4",
        "colab_type": "code",
        "colab": {}
      },
      "source": [
        "#importing numpy\n",
        "import numpy as np\n",
        "#by importing specific modules of keras\n",
        "#import time is saved\n",
        "from keras.models import Sequential\n",
        "from keras.layers import Dense, Dropout, Activation, Flatten, Add, BatchNormalization\n",
        "from keras.layers import Convolution2D, MaxPooling2D\n",
        "from keras.utils import np_utils\n",
        "#importingg the mnist dataset\n",
        "from keras.datasets import mnist"
      ],
      "execution_count": 0,
      "outputs": []
    },
    {
      "cell_type": "markdown",
      "metadata": {
        "id": "zByEi95J86RD",
        "colab_type": "text"
      },
      "source": [
        "### Load pre-shuffled MNIST data into train and test sets"
      ]
    },
    {
      "cell_type": "code",
      "metadata": {
        "id": "7eRM0QWN83PV",
        "colab_type": "code",
        "colab": {}
      },
      "source": [
        "#Loading the MNIST dataset and string in the varibles.\n",
        "(X_train, y_train), (X_test, y_test) = mnist.load_data()"
      ],
      "execution_count": 0,
      "outputs": []
    },
    {
      "cell_type": "code",
      "metadata": {
        "id": "4a4Be72j8-ZC",
        "colab_type": "code",
        "outputId": "d7765d3e-e729-436b-d65e-25c3b07b957a",
        "colab": {
          "base_uri": "https://localhost:8080/",
          "height": 304
        }
      },
      "source": [
        "#displaing thr shape of training dataset.\n",
        "print (X_train.shape)\n",
        "#importing matplotlib libraries to plot graphs\n",
        "from matplotlib import pyplot as plt\n",
        "#this helps in plotting the graphs in notebook\n",
        "%matplotlib inline\n",
        "#plotting the graph via imshow function call\n",
        "#this function has X-train[0] as parameter,\n",
        "#hence displaying the first image, user can change \n",
        "#0 to any positive value under\n",
        "#60000(as training size in 60000) to view other data entries. \n",
        "plt.imshow(X_train[0])"
      ],
      "execution_count": 0,
      "outputs": [
        {
          "output_type": "stream",
          "text": [
            "(60000, 28, 28)\n"
          ],
          "name": "stdout"
        },
        {
          "output_type": "execute_result",
          "data": {
            "text/plain": [
              "<matplotlib.image.AxesImage at 0x7f4fdab8d470>"
            ]
          },
          "metadata": {
            "tags": []
          },
          "execution_count": 23
        },
        {
          "output_type": "display_data",
          "data": {
            "image/png": "[encoded data removed]",
            "text/plain": [
              "<Figure size 432x288 with 1 Axes>"
            ]
          },
          "metadata": {
            "tags": []
          }
        }
      ]
    },
    {
      "cell_type": "code",
      "metadata": {
        "id": "dkmprriw9AnZ",
        "colab_type": "code",
        "colab": {}
      },
      "source": [
        "#reshaping the training and testing images,\n",
        "#representing the images in 3 Dimension.\n",
        "X_train = X_train.reshape(X_train.shape[0], 28, 28,1)\n",
        "X_test = X_test.reshape(X_test.shape[0], 28, 28,1)"
      ],
      "execution_count": 0,
      "outputs": []
    },
    {
      "cell_type": "code",
      "metadata": {
        "id": "X2m4YS4E9CRh",
        "colab_type": "code",
        "colab": {}
      },
      "source": [
        "#chaning the training and testing image datatype\n",
        "#to float\n",
        "X_train = X_train.astype('float32')\n",
        "X_test = X_test.astype('float32')\n",
        "#The data contains pixel values ranging\n",
        "#from 0-255, hence dividing all value by 255\n",
        "#so that the data comes in range of 0-1\n",
        "X_train /= 255\n",
        "X_test /= 255"
      ],
      "execution_count": 0,
      "outputs": []
    },
    {
      "cell_type": "code",
      "metadata": {
        "id": "0Mn0vAYD9DvB",
        "colab_type": "code",
        "outputId": "5ebf8236-9bf6-41f7-d5d6-e15c7bf58973",
        "colab": {
          "base_uri": "https://localhost:8080/",
          "height": 34
        }
      },
      "source": [
        "#displaying the first 10 values of y_train array\n",
        "y_train[:10]"
      ],
      "execution_count": 0,
      "outputs": [
        {
          "output_type": "execute_result",
          "data": {
            "text/plain": [
              "array([5, 0, 4, 1, 9, 2, 1, 3, 1, 4], dtype=uint8)"
            ]
          },
          "metadata": {
            "tags": []
          },
          "execution_count": 26
        }
      ]
    },
    {
      "cell_type": "code",
      "metadata": {
        "id": "ZG8JiXR39FHC",
        "colab_type": "code",
        "colab": {}
      },
      "source": [
        "# Convert 1-dimensional class arrays to 10-dimensional class matrices\n",
        "# As the total number of classes are 10\n",
        "Y_train = np_utils.to_categorical(y_train, 10)\n",
        "Y_test = np_utils.to_categorical(y_test, 10)"
      ],
      "execution_count": 0,
      "outputs": []
    },
    {
      "cell_type": "code",
      "metadata": {
        "id": "fYlFRvKS9HMB",
        "colab_type": "code",
        "outputId": "a84dc325-b127-4f0b-85c6-49ee291ca21a",
        "colab": {
          "base_uri": "https://localhost:8080/",
          "height": 191
        }
      },
      "source": [
        "#Displaying the first 10 entries of Y_train variable\n",
        "Y_train[:10]"
      ],
      "execution_count": 0,
      "outputs": [
        {
          "output_type": "execute_result",
          "data": {
            "text/plain": [
              "array([[0., 0., 0., 0., 0., 1., 0., 0., 0., 0.],\n",
              "       [1., 0., 0., 0., 0., 0., 0., 0., 0., 0.],\n",
              "       [0., 0., 0., 0., 1., 0., 0., 0., 0., 0.],\n",
              "       [0., 1., 0., 0., 0., 0., 0., 0., 0., 0.],\n",
              "       [0., 0., 0., 0., 0., 0., 0., 0., 0., 1.],\n",
              "       [0., 0., 1., 0., 0., 0., 0., 0., 0., 0.],\n",
              "       [0., 1., 0., 0., 0., 0., 0., 0., 0., 0.],\n",
              "       [0., 0., 0., 1., 0., 0., 0., 0., 0., 0.],\n",
              "       [0., 1., 0., 0., 0., 0., 0., 0., 0., 0.],\n",
              "       [0., 0., 0., 0., 1., 0., 0., 0., 0., 0.]], dtype=float32)"
            ]
          },
          "metadata": {
            "tags": []
          },
          "execution_count": 28
        }
      ]
    },
    {
      "cell_type": "markdown",
      "metadata": {
        "id": "IPOBR-RvHt1m",
        "colab_type": "text"
      },
      "source": [
        "\n",
        "### Neural Network\n",
        "\n",
        "This is the developed Neural Network, if every layer, receptive field and channel output in written in the format(Field, Channel, Output)\n"
      ]
    },
    {
      "cell_type": "code",
      "metadata": {
        "id": "osKqT73Q9JJB",
        "colab_type": "code",
        "outputId": "d65faf18-be8f-471d-c1ac-b143483db758",
        "colab": {
          "base_uri": "https://localhost:8080/",
          "height": 245
        }
      },
      "source": [
        "from keras.layers import Activation\n",
        "model = Sequential()\n",
        "\n",
        " \n",
        "model.add(Convolution2D(10, 3, 3, activation='relu', input_shape=(28,28,1)))\n",
        "#Layer 1(3x3,10,26)\n",
        "\n",
        "model.add(Convolution2D(18, 3, 3, activation='relu'))\n",
        "#Layer 2(5x5,18,24)\n",
        "model.add(BatchNormalization())\n",
        "\n",
        "model.add(Convolution2D(12, 3, 3, activation='relu'))\n",
        "#Layer 3(7x7,12,22)\n",
        "model.add(MaxPooling2D(pool_size=(2, 2)))\n",
        "#Layer 4(14x14,12,11)\n",
        "model.add(Convolution2D(10, 1, 1, activation='relu'))\n",
        "#Layer 5(16x16,10,11)\n",
        "model.add(BatchNormalization())\n",
        "\n",
        "model.add(Convolution2D(18, 3, 3, activation='relu')) \n",
        "#Layer 6(18x18,18,9)\n",
        "model.add(Convolution2D(12, 3, 3, activation='relu'))\n",
        "#Layer 7(20x20,12,7)\n",
        "model.add(BatchNormalization())\n",
        "\n",
        "model.add(Convolution2D(10, 1, activation='relu')) \n",
        "#Layer 8(22x22,10,7)\n",
        "model.add(Convolution2D(10, 7))\n",
        "#Layer 9(24x24,10,1)\n",
        "model.add(Flatten())\n",
        "model.add(Activation('softmax'))"
      ],
      "execution_count": 0,
      "outputs": [
        {
          "output_type": "stream",
          "text": [
            "/usr/local/lib/python3.6/dist-packages/ipykernel_launcher.py:5: UserWarning: Update your `Conv2D` call to the Keras 2 API: `Conv2D(10, (3, 3), activation=\"relu\", input_shape=(28, 28, 1...)`\n",
            "  \"\"\"\n",
            "/usr/local/lib/python3.6/dist-packages/ipykernel_launcher.py:6: UserWarning: Update your `Conv2D` call to the Keras 2 API: `Conv2D(18, (3, 3), activation=\"relu\")`\n",
            "  \n",
            "/usr/local/lib/python3.6/dist-packages/ipykernel_launcher.py:9: UserWarning: Update your `Conv2D` call to the Keras 2 API: `Conv2D(12, (3, 3), activation=\"relu\")`\n",
            "  if __name__ == '__main__':\n",
            "/usr/local/lib/python3.6/dist-packages/ipykernel_launcher.py:11: UserWarning: Update your `Conv2D` call to the Keras 2 API: `Conv2D(10, (1, 1), activation=\"relu\")`\n",
            "  # This is added back by InteractiveShellApp.init_path()\n",
            "/usr/local/lib/python3.6/dist-packages/ipykernel_launcher.py:14: UserWarning: Update your `Conv2D` call to the Keras 2 API: `Conv2D(18, (3, 3), activation=\"relu\")`\n",
            "  \n",
            "/usr/local/lib/python3.6/dist-packages/ipykernel_launcher.py:15: UserWarning: Update your `Conv2D` call to the Keras 2 API: `Conv2D(12, (3, 3), activation=\"relu\")`\n",
            "  from ipykernel import kernelapp as app\n"
          ],
          "name": "stderr"
        }
      ]
    },
    {
      "cell_type": "code",
      "metadata": {
        "id": "TzdAYg1k9K7Z",
        "colab_type": "code",
        "outputId": "b20493f8-24fb-49fc-bd4f-e83e74b03cb2",
        "colab": {
          "base_uri": "https://localhost:8080/",
          "height": 625
        }
      },
      "source": [
        "#Display the summary of the model i.e. layers, output, parameter \n",
        "#generated\n",
        "model.summary()"
      ],
      "execution_count": 0,
      "outputs": [
        {
          "output_type": "stream",
          "text": [
            "_________________________________________________________________\n",
            "Layer (type)                 Output Shape              Param #   \n",
            "=================================================================\n",
            "conv2d_9 (Conv2D)            (None, 26, 26, 10)        100       \n",
            "_________________________________________________________________\n",
            "conv2d_10 (Conv2D)           (None, 24, 24, 18)        1638      \n",
            "_________________________________________________________________\n",
            "batch_normalization_4 (Batch (None, 24, 24, 18)        72        \n",
            "_________________________________________________________________\n",
            "conv2d_11 (Conv2D)           (None, 22, 22, 12)        1956      \n",
            "_________________________________________________________________\n",
            "max_pooling2d_2 (MaxPooling2 (None, 11, 11, 12)        0         \n",
            "_________________________________________________________________\n",
            "conv2d_12 (Conv2D)           (None, 11, 11, 10)        130       \n",
            "_________________________________________________________________\n",
            "batch_normalization_5 (Batch (None, 11, 11, 10)        40        \n",
            "_________________________________________________________________\n",
            "conv2d_13 (Conv2D)           (None, 9, 9, 18)          1638      \n",
            "_________________________________________________________________\n",
            "conv2d_14 (Conv2D)           (None, 7, 7, 12)          1956      \n",
            "_________________________________________________________________\n",
            "batch_normalization_6 (Batch (None, 7, 7, 12)          48        \n",
            "_________________________________________________________________\n",
            "conv2d_15 (Conv2D)           (None, 7, 7, 10)          130       \n",
            "_________________________________________________________________\n",
            "conv2d_16 (Conv2D)           (None, 1, 1, 10)          4910      \n",
            "_________________________________________________________________\n",
            "flatten_2 (Flatten)          (None, 10)                0         \n",
            "_________________________________________________________________\n",
            "activation_2 (Activation)    (None, 10)                0         \n",
            "=================================================================\n",
            "Total params: 12,618\n",
            "Trainable params: 12,538\n",
            "Non-trainable params: 80\n",
            "_________________________________________________________________\n"
          ],
          "name": "stdout"
        }
      ]
    },
    {
      "cell_type": "code",
      "metadata": {
        "id": "Zp6SuGrL9M3h",
        "colab_type": "code",
        "colab": {}
      },
      "source": [
        "#compile function is used after the model is loaded\n",
        "#it is used to give the loss function, optimizer and metrics data\n",
        "#Here the loss function is categotical_crossentrophy, optimzer is adam\n",
        "# and metrics is accuracy.\n",
        "model.compile(loss='categorical_crossentropy',\n",
        "             optimizer='adam',\n",
        "             metrics=['accuracy'])"
      ],
      "execution_count": 0,
      "outputs": []
    },
    {
      "cell_type": "code",
      "metadata": {
        "id": "4xWoKhPY9Of5",
        "colab_type": "code",
        "outputId": "6966f963-a508-4517-b0a9-f8364a24b254",
        "colab": {
          "base_uri": "https://localhost:8080/",
          "height": 434
        }
      },
      "source": [
        "#Fit function is used to train the model, The batch size here is 32 \n",
        "#meaning after a set of 32 data entries is taken at a time.\n",
        "#Total epochs is 10, meaning 60000 images will be loaded 10 times \n",
        "#fully in the system. Verbose is a parameter which is set for displaying the\n",
        "#output at every iteration.\n",
        "model.fit(X_train, Y_train, batch_size=32, nb_epoch=10, verbose=1,validation_data=(X_test, Y_test))"
      ],
      "execution_count": 0,
      "outputs": [
        {
          "output_type": "stream",
          "text": [
            "/usr/local/lib/python3.6/dist-packages/ipykernel_launcher.py:1: UserWarning: The `nb_epoch` argument in `fit` has been renamed `epochs`.\n",
            "  \"\"\"Entry point for launching an IPython kernel.\n"
          ],
          "name": "stderr"
        },
        {
          "output_type": "stream",
          "text": [
            "Train on 60000 samples, validate on 10000 samples\n",
            "Epoch 1/10\n",
            "60000/60000 [==============================] - 17s 279us/step - loss: 0.1556 - acc: 0.9520 - val_loss: 0.0492 - val_acc: 0.9839\n",
            "Epoch 2/10\n",
            "60000/60000 [==============================] - 15s 252us/step - loss: 0.0520 - acc: 0.9841 - val_loss: 0.0432 - val_acc: 0.9861\n",
            "Epoch 3/10\n",
            "60000/60000 [==============================] - 15s 253us/step - loss: 0.0409 - acc: 0.9869 - val_loss: 0.0396 - val_acc: 0.9883\n",
            "Epoch 4/10\n",
            "60000/60000 [==============================] - 15s 251us/step - loss: 0.0357 - acc: 0.9888 - val_loss: 0.0427 - val_acc: 0.9889\n",
            "Epoch 5/10\n",
            "60000/60000 [==============================] - 15s 255us/step - loss: 0.0312 - acc: 0.9904 - val_loss: 0.0366 - val_acc: 0.9884\n",
            "Epoch 6/10\n",
            "60000/60000 [==============================] - 16s 267us/step - loss: 0.0275 - acc: 0.9912 - val_loss: 0.0345 - val_acc: 0.9904\n",
            "Epoch 7/10\n",
            "60000/60000 [==============================] - 16s 275us/step - loss: 0.0239 - acc: 0.9924 - val_loss: 0.0391 - val_acc: 0.9882\n",
            "Epoch 8/10\n",
            "60000/60000 [==============================] - 16s 263us/step - loss: 0.0223 - acc: 0.9926 - val_loss: 0.0324 - val_acc: 0.9901\n",
            "Epoch 9/10\n",
            "60000/60000 [==============================] - 15s 250us/step - loss: 0.0199 - acc: 0.9939 - val_loss: 0.0366 - val_acc: 0.9891\n",
            "Epoch 10/10\n",
            "60000/60000 [==============================] - 15s 249us/step - loss: 0.0188 - acc: 0.9938 - val_loss: 0.0352 - val_acc: 0.9896\n"
          ],
          "name": "stdout"
        },
        {
          "output_type": "execute_result",
          "data": {
            "text/plain": [
              "<keras.callbacks.History at 0x7f4fc5443780>"
            ]
          },
          "metadata": {
            "tags": []
          },
          "execution_count": 32
        }
      ]
    },
    {
      "cell_type": "code",
      "metadata": {
        "id": "AtsH-lLk-eLb",
        "colab_type": "code",
        "colab": {}
      },
      "source": [
        "#model.evaluate will return the loss and accuracy obtained\n",
        "#over the testing data\n",
        "score = model.evaluate(X_test, Y_test, verbose=0)"
      ],
      "execution_count": 0,
      "outputs": []
    },
    {
      "cell_type": "code",
      "metadata": {
        "id": "mkX8JMv79q9r",
        "colab_type": "code",
        "outputId": "b4284caa-8910-456e-aa40-e1dfcd5df126",
        "colab": {
          "base_uri": "https://localhost:8080/",
          "height": 34
        }
      },
      "source": [
        "print(score)# will display the value stored in variable score"
      ],
      "execution_count": 0,
      "outputs": [
        {
          "output_type": "stream",
          "text": [
            "[0.035215847284141635, 0.9896]\n"
          ],
          "name": "stdout"
        }
      ]
    },
    {
      "cell_type": "code",
      "metadata": {
        "id": "OCWoJkwE9suh",
        "colab_type": "code",
        "colab": {}
      },
      "source": [
        "#Trained model is run over the testing data\n",
        "#and the predicted output in stored in y_pred \n",
        "#variable.\n",
        "y_pred = model.predict(X_test)"
      ],
      "execution_count": 0,
      "outputs": []
    },
    {
      "cell_type": "code",
      "metadata": {
        "id": "Ym7iCFBm9uBs",
        "colab_type": "code",
        "outputId": "51aff725-39ec-43b7-85af-bdd320059ac6",
        "colab": {
          "base_uri": "https://localhost:8080/",
          "height": 503
        }
      },
      "source": [
        "print(y_pred[:9])#Will display the predicted values\n",
        "print(y_test[:9])#Will display the actual values"
      ],
      "execution_count": 0,
      "outputs": [
        {
          "output_type": "stream",
          "text": [
            "[[1.60105193e-10 4.93892038e-10 5.76559671e-07 3.02612818e-07\n",
            "  1.77918487e-12 5.17853074e-14 3.77028807e-15 9.99999166e-01\n",
            "  2.35215791e-10 1.81010351e-09]\n",
            " [2.24944525e-08 5.37460920e-08 9.99999762e-01 6.43304247e-12\n",
            "  5.33124760e-12 3.48025272e-14 1.73839183e-07 2.08697521e-11\n",
            "  8.77406758e-11 8.87923198e-16]\n",
            " [3.76305820e-10 9.99999762e-01 1.17042083e-08 1.02403941e-09\n",
            "  1.10899755e-07 1.10765841e-09 5.13647347e-09 6.83232315e-08\n",
            "  7.62912933e-09 2.82190467e-08]\n",
            " [9.99943256e-01 5.61990179e-13 6.81361769e-07 4.12819077e-08\n",
            "  1.63784708e-10 1.11080830e-07 2.62230569e-05 1.44904632e-07\n",
            "  2.40612408e-05 5.50904724e-06]\n",
            " [1.35777403e-13 1.00461262e-09 3.29244358e-07 7.37885556e-13\n",
            "  9.99998450e-01 1.58448330e-12 1.58672908e-10 1.46866685e-09\n",
            "  1.84608240e-08 1.20974767e-06]\n",
            " [1.89324126e-10 9.99999285e-01 1.52768465e-07 1.41933867e-10\n",
            "  1.23315871e-07 8.58812067e-12 1.60536644e-07 1.42555379e-07\n",
            "  8.00300626e-09 5.66719578e-08]\n",
            " [9.37485044e-19 3.30342189e-08 7.25175608e-09 1.12598212e-11\n",
            "  9.99976516e-01 1.21452382e-12 2.32804390e-13 6.44986675e-10\n",
            "  2.31535960e-05 2.98066539e-07]\n",
            " [1.00386632e-09 1.87841920e-09 2.42826832e-06 5.94407993e-07\n",
            "  5.99129680e-06 7.77276507e-11 7.79880500e-13 5.00982935e-07\n",
            "  2.74388958e-06 9.99987721e-01]\n",
            " [2.40583432e-13 2.40393968e-13 2.27367791e-10 1.06574083e-10\n",
            "  5.18519637e-11 9.93625402e-01 6.37458777e-03 4.04678976e-13\n",
            "  6.61459154e-09 9.35590494e-12]]\n",
            "[7 2 1 0 4 1 4 9 5]\n"
          ],
          "name": "stdout"
        }
      ]
    },
    {
      "cell_type": "code",
      "metadata": {
        "id": "CT--y98_dr2T",
        "colab_type": "code",
        "colab": {}
      },
      "source": [
        "#creating a dictionary of layer name and layer that the model has in layer_dict\n",
        "#variable.\n",
        "layer_dict = dict([(layer.name, layer) for layer in model.layers])"
      ],
      "execution_count": 0,
      "outputs": []
    },
    {
      "cell_type": "markdown",
      "metadata": {
        "id": "FlIXSJguKhFV",
        "colab_type": "text"
      },
      "source": [
        "\n",
        "This will visualize the input image and applied filter over the image\n"
      ]
    },
    {
      "cell_type": "code",
      "metadata": {
        "id": "2GY4Upv4dsUR",
        "colab_type": "code",
        "outputId": "a9fe867e-712e-4e43-b4d5-02f9fd60ccdf",
        "colab": {
          "base_uri": "https://localhost:8080/",
          "height": 741
        }
      },
      "source": [
        "from keras import backend as K\n",
        "%matplotlib inline\n",
        "# util function to convert a tensor into a valid image\n",
        "def deprocess_image(x):\n",
        "    # normalize tensor: center on 0., ensure std is 0.1\n",
        "    x -= x.mean()\n",
        "    x /= (x.std() + 1e-5)\n",
        "    x *= 0.1\n",
        "\n",
        "    # clip to [0, 1]\n",
        "    x += 0.5\n",
        "    x = np.clip(x, 0, 1)\n",
        "\n",
        "    # convert to RGB array\n",
        "    x *= 255\n",
        "    #x = x.transpose((1, 2, 0))\n",
        "    x = np.clip(x, 0, 255).astype('uint8')\n",
        "    return x\n",
        "\n",
        "def vis_img_in_filter(img = np.array(X_train[0]).reshape((1, 28, 28, 1)).astype(np.float64), \n",
        "                      layer_name = 'conv2d_10'):\n",
        "    layer_output = layer_dict[layer_name].output\n",
        "    img_ascs = list()\n",
        "    for filter_index in range(layer_output.shape[3]):\n",
        "        # build a loss function that maximizes the activation\n",
        "        # of the nth filter of the layer considered\n",
        "        loss = K.mean(layer_output[:, :, :, filter_index])\n",
        "\n",
        "        # compute the gradient of the input picture wrt this loss\n",
        "        grads = K.gradients(loss, model.input)[0]\n",
        "\n",
        "        # normalization trick: we normalize the gradient\n",
        "        grads /= (K.sqrt(K.mean(K.square(grads))) + 1e-5)\n",
        "\n",
        "        # this function returns the loss and grads given the input picture\n",
        "        iterate = K.function([model.input], [loss, grads])\n",
        "\n",
        "        # step size for gradient ascent\n",
        "        step = 5.\n",
        "\n",
        "        img_asc = np.array(img)\n",
        "        # run gradient ascent for 20 steps\n",
        "        for i in range(20):\n",
        "            loss_value, grads_value = iterate([img_asc])\n",
        "            img_asc += grads_value * step\n",
        "\n",
        "        img_asc = img_asc[0]\n",
        "        img_ascs.append(deprocess_image(img_asc).reshape((28, 28)))\n",
        "        \n",
        "    if layer_output.shape[3] >= 35:\n",
        "        plot_x, plot_y = 6, 6\n",
        "    elif layer_output.shape[3] >= 23:\n",
        "        plot_x, plot_y = 4, 6\n",
        "    elif layer_output.shape[3] >= 11:\n",
        "        plot_x, plot_y = 2, 6\n",
        "    else:\n",
        "        plot_x, plot_y = 1, 2\n",
        "    fig, ax = plt.subplots(plot_x, plot_y, figsize = (12, 12))\n",
        "    ax[0, 0].imshow(img.reshape((28, 28)), cmap = 'gray')\n",
        "    ax[0, 0].set_title('Input image')\n",
        "    fig.suptitle('Input image and %s filters' % (layer_name,))\n",
        "    fig.tight_layout(pad = 0.3, rect = [0, 0, 0.9, 0.9])\n",
        "    for (x, y) in [(i, j) for i in range(plot_x) for j in range(plot_y)]:\n",
        "        if x == 0 and y == 0:\n",
        "            continue\n",
        "        ax[x, y].imshow(img_ascs[x * plot_y + y - 1], cmap = 'gray')\n",
        "        ax[x, y].set_title('filter %d' % (x * plot_y + y - 1))\n",
        "\n",
        "vis_img_in_filter()"
      ],
      "execution_count": 0,
      "outputs": [
        {
          "output_type": "display_data",
          "data": {
            "image/png": "[encoded data removed]",
            "text/plain": [
              "<Figure size 864x864 with 12 Axes>"
            ]
          },
          "metadata": {
            "tags": []
          }
        }
      ]
    }
  ]
}