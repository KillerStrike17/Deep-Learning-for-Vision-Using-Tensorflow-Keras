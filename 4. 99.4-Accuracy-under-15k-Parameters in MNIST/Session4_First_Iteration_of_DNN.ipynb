{
  "nbformat": 4,
  "nbformat_minor": 0,
  "metadata": {
    "colab": {
      "name": "Session4 - First Iteration of DNN.ipynb",
      "version": "0.3.2",
      "provenance": [],
      "collapsed_sections": [],
      "include_colab_link": true
    },
    "kernelspec": {
      "name": "python3",
      "display_name": "Python 3"
    },
    "accelerator": "GPU"
  },
  "cells": [
    {
      "cell_type": "markdown",
      "metadata": {
        "id": "view-in-github",
        "colab_type": "text"
      },
      "source": [
        "<a href=\"https://colab.research.google.com/github/KillerStrike17/EVA---Session4-99.4-Accuracy-under-15k-Parameters-/blob/master/Session4_First_Iteration_of_DNN.ipynb\" target=\"_parent\"><img src=\"https://colab.research.google.com/assets/colab-badge.svg\" alt=\"Open In Colab\"/></a>"
      ]
    },
    {
      "cell_type": "markdown",
      "metadata": {
        "id": "aNyZv-Ec52ot",
        "colab_type": "text"
      },
      "source": [
        "# **Import Libraries and modules**"
      ]
    },
    {
      "cell_type": "markdown",
      "metadata": {
        "id": "7J1RhFP0zq4y",
        "colab_type": "text"
      },
      "source": [
        "## Approach\n",
        "The problem given is to achieve 99.4% Accuracy under 15K parameters. So initially we have to write a basic network which gives a decent Accuracy and then slowly make changes (either by varing learning rate, batch size, epochs,dropouts, normalization, etc. ) and and observe the accuracy.\n",
        "###GOAL\n",
        "To develop a Deep Neural Network under 15K Parameters\n",
        "\n",
        "###Way to asses the Developed Network\n",
        " Run the created network and observe the validation accuracy for initial few epochs, if it is better than the previous one then this network can perform well but if the developed network doesnot give a better accuracy than the previous one then it is better to change the network.\n",
        " \n",
        " ### Next Step\n",
        "  Observe the training and validation accuracy and make decisions accordinly in the next iteration."
      ]
    },
    {
      "cell_type": "code",
      "metadata": {
        "id": "3m3w1Cw49Zkt",
        "colab_type": "code",
        "colab": {
          "base_uri": "https://localhost:8080/",
          "height": 34
        },
        "outputId": "00acb785-6710-4ce1-f9e3-f51d4f168357"
      },
      "source": [
        "# https://keras.io/\n",
        "#to install keras library\n",
        "#'!'allows bash command to run\n",
        "#in notebook\n",
        "!pip install -q keras\n",
        "import keras"
      ],
      "execution_count": 1,
      "outputs": [
        {
          "output_type": "stream",
          "text": [
            "Using TensorFlow backend.\n"
          ],
          "name": "stderr"
        }
      ]
    },
    {
      "cell_type": "code",
      "metadata": {
        "id": "Eso6UHE080D4",
        "colab_type": "code",
        "colab": {}
      },
      "source": [
        "#importing numpy\n",
        "import numpy as np\n",
        "#by importing specific modules of keras\n",
        "#import time is saved\n",
        "from keras.models import Sequential\n",
        "from keras.layers import Dense, Dropout, Activation, Flatten, Add\n",
        "from keras.layers import Convolution2D, MaxPooling2D\n",
        "from keras.utils import np_utils\n",
        "#importingg the mnist dataset\n",
        "from keras.datasets import mnist"
      ],
      "execution_count": 0,
      "outputs": []
    },
    {
      "cell_type": "markdown",
      "metadata": {
        "id": "zByEi95J86RD",
        "colab_type": "text"
      },
      "source": [
        "### Load pre-shuffled MNIST data into train and test sets"
      ]
    },
    {
      "cell_type": "code",
      "metadata": {
        "id": "7eRM0QWN83PV",
        "colab_type": "code",
        "colab": {}
      },
      "source": [
        "#Loading the MNIST dataset and string in the varibles.\n",
        "(X_train, y_train), (X_test, y_test) = mnist.load_data()"
      ],
      "execution_count": 0,
      "outputs": []
    },
    {
      "cell_type": "code",
      "metadata": {
        "id": "4a4Be72j8-ZC",
        "colab_type": "code",
        "outputId": "7726291b-ff74-48be-dcb0-ba6b94b443e4",
        "colab": {
          "base_uri": "https://localhost:8080/",
          "height": 304
        }
      },
      "source": [
        "#displaing thr shape of training dataset.\n",
        "print (X_train.shape)\n",
        "#importing matplotlib libraries to plot graphs\n",
        "from matplotlib import pyplot as plt\n",
        "#this helps in plotting the graphs in notebook\n",
        "%matplotlib inline\n",
        "#plotting the graph via imshow function call\n",
        "#this function has X-train[0] as parameter,\n",
        "#hence displaying the first image, user can change \n",
        "#0 to any positive value under\n",
        "#60000(as training size in 60000) to view other data entries. \n",
        "plt.imshow(X_train[0])"
      ],
      "execution_count": 4,
      "outputs": [
        {
          "output_type": "stream",
          "text": [
            "(60000, 28, 28)\n"
          ],
          "name": "stdout"
        },
        {
          "output_type": "execute_result",
          "data": {
            "text/plain": [
              "<matplotlib.image.AxesImage at 0x7fc21a9df160>"
            ]
          },
          "metadata": {
            "tags": []
          },
          "execution_count": 4
        },
        {
          "output_type": "display_data",
          "data": {
            "image/png": "[encoded data removed]",
            "text/plain": [
              "<Figure size 432x288 with 1 Axes>"
            ]
          },
          "metadata": {
            "tags": []
          }
        }
      ]
    },
    {
      "cell_type": "code",
      "metadata": {
        "id": "dkmprriw9AnZ",
        "colab_type": "code",
        "colab": {}
      },
      "source": [
        "#reshaping the training and testing images,\n",
        "#representing the images in 3 Dimension.\n",
        "X_train = X_train.reshape(X_train.shape[0], 28, 28,1)\n",
        "X_test = X_test.reshape(X_test.shape[0], 28, 28,1)"
      ],
      "execution_count": 0,
      "outputs": []
    },
    {
      "cell_type": "code",
      "metadata": {
        "id": "X2m4YS4E9CRh",
        "colab_type": "code",
        "colab": {}
      },
      "source": [
        "#chaning the training and testing image datatype\n",
        "#to float\n",
        "X_train = X_train.astype('float32')\n",
        "X_test = X_test.astype('float32')\n",
        "#The data contains pixel values ranging\n",
        "#from 0-255, hence dividing all value by 255\n",
        "#so that the data comes in range of 0-1\n",
        "X_train /= 255\n",
        "X_test /= 255"
      ],
      "execution_count": 0,
      "outputs": []
    },
    {
      "cell_type": "code",
      "metadata": {
        "id": "0Mn0vAYD9DvB",
        "colab_type": "code",
        "outputId": "f82cba99-ea29-484f-80bf-5466c4243265",
        "colab": {
          "base_uri": "https://localhost:8080/",
          "height": 34
        }
      },
      "source": [
        "#displaying the first 10 values of y_train array\n",
        "y_train[:10]"
      ],
      "execution_count": 7,
      "outputs": [
        {
          "output_type": "execute_result",
          "data": {
            "text/plain": [
              "array([5, 0, 4, 1, 9, 2, 1, 3, 1, 4], dtype=uint8)"
            ]
          },
          "metadata": {
            "tags": []
          },
          "execution_count": 7
        }
      ]
    },
    {
      "cell_type": "code",
      "metadata": {
        "id": "ZG8JiXR39FHC",
        "colab_type": "code",
        "colab": {}
      },
      "source": [
        "# Convert 1-dimensional class arrays to 10-dimensional class matrices\n",
        "# As the total number of classes are 10\n",
        "Y_train = np_utils.to_categorical(y_train, 10)\n",
        "Y_test = np_utils.to_categorical(y_test, 10))"
      ],
      "execution_count": 0,
      "outputs": []
    },
    {
      "cell_type": "code",
      "metadata": {
        "id": "fYlFRvKS9HMB",
        "colab_type": "code",
        "outputId": "d2707665-6c58-471c-a647-3830ae62e850",
        "colab": {
          "base_uri": "https://localhost:8080/",
          "height": 191
        }
      },
      "source": [
        "#Displaying the first 10 entries of Y_train variable\n",
        "Y_train[:10]"
      ],
      "execution_count": 9,
      "outputs": [
        {
          "output_type": "execute_result",
          "data": {
            "text/plain": [
              "array([[0., 0., 0., 0., 0., 1., 0., 0., 0., 0.],\n",
              "       [1., 0., 0., 0., 0., 0., 0., 0., 0., 0.],\n",
              "       [0., 0., 0., 0., 1., 0., 0., 0., 0., 0.],\n",
              "       [0., 1., 0., 0., 0., 0., 0., 0., 0., 0.],\n",
              "       [0., 0., 0., 0., 0., 0., 0., 0., 0., 1.],\n",
              "       [0., 0., 1., 0., 0., 0., 0., 0., 0., 0.],\n",
              "       [0., 1., 0., 0., 0., 0., 0., 0., 0., 0.],\n",
              "       [0., 0., 0., 1., 0., 0., 0., 0., 0., 0.],\n",
              "       [0., 1., 0., 0., 0., 0., 0., 0., 0., 0.],\n",
              "       [0., 0., 0., 0., 1., 0., 0., 0., 0., 0.]], dtype=float32)"
            ]
          },
          "metadata": {
            "tags": []
          },
          "execution_count": 9
        }
      ]
    },
    {
      "cell_type": "markdown",
      "metadata": {
        "id": "f-ayNG_Q-Z3D",
        "colab_type": "text"
      },
      "source": [
        "### Neural Network\n",
        "This is the developed Neural Network, if every layer, receptive field and channel output in written in the format(Field, Channel, Output)"
      ]
    },
    {
      "cell_type": "code",
      "metadata": {
        "id": "osKqT73Q9JJB",
        "colab_type": "code",
        "outputId": "73896e4d-3420-4035-f2b1-6a40f5baa204",
        "colab": {
          "base_uri": "https://localhost:8080/",
          "height": 298
        }
      },
      "source": [
        "from keras.layers import Activation\n",
        "model = Sequential()\n",
        "\n",
        " \n",
        "model.add(Convolution2D(10, 3, 3, activation='relu', input_shape=(28,28,1)))\n",
        "#Layer 1(3x3,10,26)\n",
        "\n",
        "model.add(Convolution2D(18, 3, 3, activation='relu'))\n",
        "#Layer 2(5x5,18,24)\n",
        "model.add(Convolution2D(12, 3, 3, activation='relu'))\n",
        "#Layer 3(7x7,12,22)\n",
        "\n",
        "model.add(MaxPooling2D(pool_size=(2, 2)))\n",
        "#Layer 4(14x14,12,11)\n",
        "model.add(Convolution2D(10, 1, 1, activation='relu'))\n",
        "#Layer 5(16x16,10,11)\n",
        "\n",
        "model.add(Convolution2D(18, 3, 3, activation='relu'))\n",
        "#Layer 6(18x18,18,9)\n",
        "model.add(Convolution2D(12, 3, 3, activation='relu'))\n",
        "#Layer 7(20x20,12,7)\n",
        "\n",
        "model.add(Convolution2D(10, 1, activation='relu'))\n",
        "#Layer 8(22x22,10,7)\n",
        "model.add(Convolution2D(10, 7))\n",
        "#Layer 8(24x24,10,1)\n",
        "model.add(Flatten())\n",
        "model.add(Activation('softmax'))"
      ],
      "execution_count": 10,
      "outputs": [
        {
          "output_type": "stream",
          "text": [
            "WARNING:tensorflow:From /usr/local/lib/python3.6/dist-packages/tensorflow/python/framework/op_def_library.py:263: colocate_with (from tensorflow.python.framework.ops) is deprecated and will be removed in a future version.\n",
            "Instructions for updating:\n",
            "Colocations handled automatically by placer.\n"
          ],
          "name": "stdout"
        },
        {
          "output_type": "stream",
          "text": [
            "/usr/local/lib/python3.6/dist-packages/ipykernel_launcher.py:5: UserWarning: Update your `Conv2D` call to the Keras 2 API: `Conv2D(10, (3, 3), activation=\"relu\", input_shape=(28, 28, 1...)`\n",
            "  \"\"\"\n",
            "/usr/local/lib/python3.6/dist-packages/ipykernel_launcher.py:7: UserWarning: Update your `Conv2D` call to the Keras 2 API: `Conv2D(18, (3, 3), activation=\"relu\")`\n",
            "  import sys\n",
            "/usr/local/lib/python3.6/dist-packages/ipykernel_launcher.py:8: UserWarning: Update your `Conv2D` call to the Keras 2 API: `Conv2D(12, (3, 3), activation=\"relu\")`\n",
            "  \n",
            "/usr/local/lib/python3.6/dist-packages/ipykernel_launcher.py:11: UserWarning: Update your `Conv2D` call to the Keras 2 API: `Conv2D(10, (1, 1), activation=\"relu\")`\n",
            "  # This is added back by InteractiveShellApp.init_path()\n",
            "/usr/local/lib/python3.6/dist-packages/ipykernel_launcher.py:13: UserWarning: Update your `Conv2D` call to the Keras 2 API: `Conv2D(18, (3, 3), activation=\"relu\")`\n",
            "  del sys.path[0]\n",
            "/usr/local/lib/python3.6/dist-packages/ipykernel_launcher.py:14: UserWarning: Update your `Conv2D` call to the Keras 2 API: `Conv2D(12, (3, 3), activation=\"relu\")`\n",
            "  \n"
          ],
          "name": "stderr"
        }
      ]
    },
    {
      "cell_type": "code",
      "metadata": {
        "id": "TzdAYg1k9K7Z",
        "colab_type": "code",
        "outputId": "68496be4-7263-43e9-84f4-7a87e85ea795",
        "colab": {
          "base_uri": "https://localhost:8080/",
          "height": 521
        }
      },
      "source": [
        "#Display the summary of the model i.e. layers, output, parameter \n",
        "#generated\n",
        "model.summary()"
      ],
      "execution_count": 11,
      "outputs": [
        {
          "output_type": "stream",
          "text": [
            "_________________________________________________________________\n",
            "Layer (type)                 Output Shape              Param #   \n",
            "=================================================================\n",
            "conv2d_1 (Conv2D)            (None, 26, 26, 10)        100       \n",
            "_________________________________________________________________\n",
            "conv2d_2 (Conv2D)            (None, 24, 24, 18)        1638      \n",
            "_________________________________________________________________\n",
            "conv2d_3 (Conv2D)            (None, 22, 22, 12)        1956      \n",
            "_________________________________________________________________\n",
            "max_pooling2d_1 (MaxPooling2 (None, 11, 11, 12)        0         \n",
            "_________________________________________________________________\n",
            "conv2d_4 (Conv2D)            (None, 11, 11, 10)        130       \n",
            "_________________________________________________________________\n",
            "conv2d_5 (Conv2D)            (None, 9, 9, 18)          1638      \n",
            "_________________________________________________________________\n",
            "conv2d_6 (Conv2D)            (None, 7, 7, 12)          1956      \n",
            "_________________________________________________________________\n",
            "conv2d_7 (Conv2D)            (None, 7, 7, 10)          130       \n",
            "_________________________________________________________________\n",
            "conv2d_8 (Conv2D)            (None, 1, 1, 10)          4910      \n",
            "_________________________________________________________________\n",
            "flatten_1 (Flatten)          (None, 10)                0         \n",
            "_________________________________________________________________\n",
            "activation_1 (Activation)    (None, 10)                0         \n",
            "=================================================================\n",
            "Total params: 12,458\n",
            "Trainable params: 12,458\n",
            "Non-trainable params: 0\n",
            "_________________________________________________________________\n"
          ],
          "name": "stdout"
        }
      ]
    },
    {
      "cell_type": "code",
      "metadata": {
        "id": "Zp6SuGrL9M3h",
        "colab_type": "code",
        "colab": {}
      },
      "source": [
        "#compile function is used after the model is loaded\n",
        "#it is used to give the loss function, optimizer and metrics data\n",
        "#Here the loss function is categotical_crossentrophy, optimzer is adam\n",
        "# and metrics is accuracy.\n",
        "model.compile(loss='categorical_crossentropy',\n",
        "             optimizer='adam',\n",
        "             metrics=['accuracy'])"
      ],
      "execution_count": 0,
      "outputs": []
    },
    {
      "cell_type": "code",
      "metadata": {
        "id": "4xWoKhPY9Of5",
        "colab_type": "code",
        "outputId": "ea8c67ab-6197-4ffa-e963-22431e106f18",
        "colab": {
          "base_uri": "https://localhost:8080/",
          "height": 506
        }
      },
      "source": [
        "#Fit function is used to train the model, The batch size here is 32 \n",
        "#meaning after a set of 32 data entries is taken at a time.\n",
        "#Total epochs is 10, meaning 60000 images will be loaded 10 times \n",
        "#fully in the system. Verbose is a parameter which is set for displaying the\n",
        "#output at every iteration.\n",
        "model.fit(X_train, Y_train, batch_size=32, nb_epoch=10, verbose=1,validation_data=(X_test, Y_test))"
      ],
      "execution_count": 13,
      "outputs": [
        {
          "output_type": "stream",
          "text": [
            "WARNING:tensorflow:From /usr/local/lib/python3.6/dist-packages/tensorflow/python/ops/math_ops.py:3066: to_int32 (from tensorflow.python.ops.math_ops) is deprecated and will be removed in a future version.\n",
            "Instructions for updating:\n",
            "Use tf.cast instead.\n"
          ],
          "name": "stdout"
        },
        {
          "output_type": "stream",
          "text": [
            "/usr/local/lib/python3.6/dist-packages/ipykernel_launcher.py:1: UserWarning: The `nb_epoch` argument in `fit` has been renamed `epochs`.\n",
            "  \"\"\"Entry point for launching an IPython kernel.\n"
          ],
          "name": "stderr"
        },
        {
          "output_type": "stream",
          "text": [
            "Train on 60000 samples, validate on 10000 samples\n",
            "Epoch 1/10\n",
            "60000/60000 [==============================] - 14s 226us/step - loss: 0.2102 - acc: 0.9353 - val_loss: 0.0674 - val_acc: 0.9787\n",
            "Epoch 2/10\n",
            "60000/60000 [==============================] - 11s 184us/step - loss: 0.0715 - acc: 0.9780 - val_loss: 0.0507 - val_acc: 0.9846\n",
            "Epoch 3/10\n",
            "60000/60000 [==============================] - 11s 184us/step - loss: 0.0545 - acc: 0.9836 - val_loss: 0.0379 - val_acc: 0.9876\n",
            "Epoch 4/10\n",
            "60000/60000 [==============================] - 11s 183us/step - loss: 0.0460 - acc: 0.9858 - val_loss: 0.0379 - val_acc: 0.9880\n",
            "Epoch 5/10\n",
            "60000/60000 [==============================] - 11s 183us/step - loss: 0.0390 - acc: 0.9882 - val_loss: 0.0371 - val_acc: 0.9883\n",
            "Epoch 6/10\n",
            "60000/60000 [==============================] - 13s 211us/step - loss: 0.0347 - acc: 0.9894 - val_loss: 0.0309 - val_acc: 0.9898\n",
            "Epoch 7/10\n",
            "60000/60000 [==============================] - 11s 183us/step - loss: 0.0312 - acc: 0.9901 - val_loss: 0.0388 - val_acc: 0.9872\n",
            "Epoch 8/10\n",
            "60000/60000 [==============================] - 11s 183us/step - loss: 0.0269 - acc: 0.9917 - val_loss: 0.0367 - val_acc: 0.9899\n",
            "Epoch 9/10\n",
            "60000/60000 [==============================] - 12s 195us/step - loss: 0.0251 - acc: 0.9920 - val_loss: 0.0320 - val_acc: 0.9894\n",
            "Epoch 10/10\n",
            "60000/60000 [==============================] - 11s 182us/step - loss: 0.0221 - acc: 0.9930 - val_loss: 0.0351 - val_acc: 0.9896\n"
          ],
          "name": "stdout"
        },
        {
          "output_type": "execute_result",
          "data": {
            "text/plain": [
              "<keras.callbacks.History at 0x7fc2177e9be0>"
            ]
          },
          "metadata": {
            "tags": []
          },
          "execution_count": 13
        }
      ]
    },
    {
      "cell_type": "code",
      "metadata": {
        "id": "AtsH-lLk-eLb",
        "colab_type": "code",
        "colab": {}
      },
      "source": [
        "#model.evaluate will return the loss and accuracy obtained\n",
        "#over the testing data\n",
        "score = model.evaluate(X_test, Y_test, verbose=0)"
      ],
      "execution_count": 0,
      "outputs": []
    },
    {
      "cell_type": "code",
      "metadata": {
        "id": "mkX8JMv79q9r",
        "colab_type": "code",
        "colab": {
          "base_uri": "https://localhost:8080/",
          "height": 34
        },
        "outputId": "927b4712-11ae-4a46-83c5-014bcd88ff95"
      },
      "source": [
        "print(score)# will display the value stored in variable score"
      ],
      "execution_count": 15,
      "outputs": [
        {
          "output_type": "stream",
          "text": [
            "[0.035074360758063264, 0.9896]\n"
          ],
          "name": "stdout"
        }
      ]
    },
    {
      "cell_type": "code",
      "metadata": {
        "id": "OCWoJkwE9suh",
        "colab_type": "code",
        "colab": {}
      },
      "source": [
        "#Trained model is run over the testing data\n",
        "#and the predicted output in stored in y_pred \n",
        "#variable.\n",
        "y_pred = model.predict(X_test)"
      ],
      "execution_count": 0,
      "outputs": []
    },
    {
      "cell_type": "code",
      "metadata": {
        "id": "Ym7iCFBm9uBs",
        "colab_type": "code",
        "colab": {
          "base_uri": "https://localhost:8080/",
          "height": 503
        },
        "outputId": "0a4c43eb-a74a-4854-fb0a-c455d1c8bb16"
      },
      "source": [
        "print(y_pred[:9])#Will display the predicted values\n",
        "print(y_test[:9])#Will display the actual values"
      ],
      "execution_count": 17,
      "outputs": [
        {
          "output_type": "stream",
          "text": [
            "[[7.33350803e-16 5.87772192e-12 2.67031758e-10 1.54013371e-08\n",
            "  1.17758783e-21 4.79266048e-14 4.12327439e-25 1.00000000e+00\n",
            "  1.00248033e-12 8.01762878e-10]\n",
            " [5.99139582e-09 1.86155014e-09 1.00000000e+00 5.29979071e-15\n",
            "  1.81481732e-16 4.70400730e-14 1.40835210e-08 1.09955168e-14\n",
            "  7.19013737e-10 2.84911517e-15]\n",
            " [3.58588252e-08 9.99975920e-01 8.60154842e-07 3.81525789e-09\n",
            "  5.97122744e-06 1.00665866e-05 4.17824225e-07 5.17353465e-06\n",
            "  1.30550961e-06 3.95512586e-07]\n",
            " [9.99979734e-01 7.90186579e-12 6.70280942e-09 2.77368262e-09\n",
            "  2.50207472e-12 2.92895862e-07 1.93233591e-05 7.67181110e-11\n",
            "  5.03859553e-07 1.26183352e-07]\n",
            " [1.81998783e-09 8.19089669e-14 1.11255692e-10 4.75385844e-13\n",
            "  9.99949813e-01 3.69971637e-10 4.63981131e-10 3.05756679e-12\n",
            "  2.47739967e-10 5.01594077e-05]\n",
            " [4.47154150e-07 9.99979854e-01 1.82798794e-06 7.00664415e-10\n",
            "  7.08597554e-07 9.93279446e-06 6.43702691e-08 5.22476421e-06\n",
            "  6.74171815e-07 1.21358914e-06]\n",
            " [1.44505076e-20 1.95307414e-16 8.12250354e-12 1.26132842e-13\n",
            "  9.99998212e-01 4.74017665e-11 1.37910008e-17 3.54354573e-10\n",
            "  1.15766511e-06 6.79220534e-07]\n",
            " [6.00178934e-11 1.94218142e-10 5.44303891e-09 5.97385110e-08\n",
            "  3.36575904e-05 9.99388661e-08 1.06742696e-11 1.01153794e-10\n",
            "  2.24836594e-08 9.99966145e-01]\n",
            " [4.29065464e-11 3.86939419e-21 7.25021239e-15 9.63336712e-16\n",
            "  1.82211028e-16 9.99989748e-01 7.49690389e-06 5.70020774e-15\n",
            "  2.68631061e-06 3.63764485e-09]]\n",
            "[7 2 1 0 4 1 4 9 5]\n"
          ],
          "name": "stdout"
        }
      ]
    },
    {
      "cell_type": "code",
      "metadata": {
        "id": "CT--y98_dr2T",
        "colab_type": "code",
        "colab": {}
      },
      "source": [
        "#creating a dictionary of layer name and layer that the model has in layer_dict\n",
        "#variable.\n",
        "layer_dict = dict([(layer.name, layer) for layer in model.layers])"
      ],
      "execution_count": 0,
      "outputs": []
    },
    {
      "cell_type": "markdown",
      "metadata": {
        "id": "FlIXSJguKhFV",
        "colab_type": "text"
      },
      "source": [
        "\n",
        "This will visualize the input image and applied filter over the image\n"
      ]
    },
    {
      "cell_type": "code",
      "metadata": {
        "id": "2GY4Upv4dsUR",
        "colab_type": "code",
        "colab": {
          "base_uri": "https://localhost:8080/",
          "height": 741
        },
        "outputId": "5a059d5c-b8a3-41ea-c41d-4b1680537f3e"
      },
      "source": [
        "from keras import backend as K\n",
        "%matplotlib inline\n",
        "# util function to convert a tensor into a valid image\n",
        "def deprocess_image(x):\n",
        "    # normalize tensor: center on 0., ensure std is 0.1\n",
        "    x -= x.mean()\n",
        "    x /= (x.std() + 1e-5)\n",
        "    x *= 0.1\n",
        "\n",
        "    # clip to [0, 1]\n",
        "    x += 0.5\n",
        "    x = np.clip(x, 0, 1)\n",
        "\n",
        "    # convert to RGB array\n",
        "    x *= 255\n",
        "    #x = x.transpose((1, 2, 0))\n",
        "    x = np.clip(x, 0, 255).astype('uint8')\n",
        "    return x\n",
        "\n",
        "def vis_img_in_filter(img = np.array(X_train[0]).reshape((1, 28, 28, 1)).astype(np.float64), \n",
        "                      layer_name = 'conv2d_2'):\n",
        "    layer_output = layer_dict[layer_name].output\n",
        "    img_ascs = list()\n",
        "    for filter_index in range(layer_output.shape[3]):\n",
        "        # build a loss function that maximizes the activation\n",
        "        # of the nth filter of the layer considered\n",
        "        loss = K.mean(layer_output[:, :, :, filter_index])\n",
        "\n",
        "        # compute the gradient of the input picture wrt this loss\n",
        "        grads = K.gradients(loss, model.input)[0]\n",
        "\n",
        "        # normalization trick: we normalize the gradient\n",
        "        grads /= (K.sqrt(K.mean(K.square(grads))) + 1e-5)\n",
        "\n",
        "        # this function returns the loss and grads given the input picture\n",
        "        iterate = K.function([model.input], [loss, grads])\n",
        "\n",
        "        # step size for gradient ascent\n",
        "        step = 5.\n",
        "\n",
        "        img_asc = np.array(img)\n",
        "        # run gradient ascent for 20 steps\n",
        "        for i in range(20):\n",
        "            loss_value, grads_value = iterate([img_asc])\n",
        "            img_asc += grads_value * step\n",
        "\n",
        "        img_asc = img_asc[0]\n",
        "        img_ascs.append(deprocess_image(img_asc).reshape((28, 28)))\n",
        "        \n",
        "    if layer_output.shape[3] >= 35:\n",
        "        plot_x, plot_y = 6, 6\n",
        "    elif layer_output.shape[3] >= 23:\n",
        "        plot_x, plot_y = 4, 6\n",
        "    elif layer_output.shape[3] >= 11:\n",
        "        plot_x, plot_y = 2, 6\n",
        "    else:\n",
        "        plot_x, plot_y = 1, 2\n",
        "    fig, ax = plt.subplots(plot_x, plot_y, figsize = (12, 12))\n",
        "    ax[0, 0].imshow(img.reshape((28, 28)), cmap = 'gray')\n",
        "    ax[0, 0].set_title('Input image')\n",
        "    fig.suptitle('Input image and %s filters' % (layer_name,))\n",
        "    fig.tight_layout(pad = 0.3, rect = [0, 0, 0.9, 0.9])\n",
        "    for (x, y) in [(i, j) for i in range(plot_x) for j in range(plot_y)]:\n",
        "        if x == 0 and y == 0:\n",
        "            continue\n",
        "        ax[x, y].imshow(img_ascs[x * plot_y + y - 1], cmap = 'gray')\n",
        "        ax[x, y].set_title('filter %d' % (x * plot_y + y - 1))\n",
        "\n",
        "vis_img_in_filter()"
      ],
      "execution_count": 29,
      "outputs": [
        {
          "output_type": "display_data",
          "data": {
            "image/png": "[encoded data removed]",
            "text/plain": [
              "<Figure size 864x864 with 12 Axes>"
            ]
          },
          "metadata": {
            "tags": []
          }
        }
      ]
    },
    {
      "cell_type": "code",
      "metadata": {
        "id": "l4qpMbW7-BHe",
        "colab_type": "code",
        "colab": {}
      },
      "source": [
        ""
      ],
      "execution_count": 0,
      "outputs": []
    }
  ]
}