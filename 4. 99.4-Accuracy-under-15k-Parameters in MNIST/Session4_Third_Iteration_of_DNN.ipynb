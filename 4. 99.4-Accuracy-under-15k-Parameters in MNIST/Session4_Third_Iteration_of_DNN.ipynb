{
  "nbformat": 4,
  "nbformat_minor": 0,
  "metadata": {
    "colab": {
      "name": "Session4 Third Iteration of DNN.ipynb",
      "version": "0.3.2",
      "provenance": [],
      "collapsed_sections": [],
      "include_colab_link": true
    },
    "kernelspec": {
      "name": "python3",
      "display_name": "Python 3"
    },
    "accelerator": "GPU"
  },
  "cells": [
    {
      "cell_type": "markdown",
      "metadata": {
        "id": "view-in-github",
        "colab_type": "text"
      },
      "source": [
        "<a href=\"https://colab.research.google.com/github/KillerStrike17/EVA---Session4-99.4-Accuracy-under-15k-Parameters-/blob/master/Session4_Third_Iteration_of_DNN.ipynb\" target=\"_parent\"><img src=\"https://colab.research.google.com/assets/colab-badge.svg\" alt=\"Open In Colab\"/></a>"
      ]
    },
    {
      "cell_type": "markdown",
      "metadata": {
        "id": "aNyZv-Ec52ot",
        "colab_type": "text"
      },
      "source": [
        "# **Import Libraries and modules**"
      ]
    },
    {
      "cell_type": "markdown",
      "metadata": {
        "id": "iE0pY_oGMxHq",
        "colab_type": "text"
      },
      "source": [
        "## Approach\n",
        "A Basic Network was developed in the last iteration, It had a total of **12618 Parameters** and achieved an **accuracy of 99.04%** in **6 Epochs**.\n",
        "### Aim \n",
        "To make changes in the network that lead to increase in accuracy maintaining the parameter count under 15K.\n",
        "\n",
        "### GOAL\n",
        "To develop a Deep Neural Network under 15K Parameters having an Accuarcy greater than 99.40%\n",
        "\n",
        "### Observations from the results.\n",
        "On looking over the training, it is seen that via batch normalization, a bit of accuarcy has increased but the difference between the training accuracy and testing accuracy has increased. thus dropouts helps in reducing the the gap, hence it has to be added\n",
        "\n",
        "### Way to asses the Developed Network\n",
        " Run the created network and observe the validation accuracy for initial few epochs, if it is better than the previous one then this network can perform well but if the developed network doesnot give a better accuracy than the previous one then it is better to change the network.\n",
        " \n",
        " ### Next Step\n",
        "Use Dropouts, alter epochs and batch sizes and observe changes in accuracy and select an appropriate network via the above stratergy."
      ]
    },
    {
      "cell_type": "code",
      "metadata": {
        "id": "3m3w1Cw49Zkt",
        "colab_type": "code",
        "outputId": "71572e13-df94-45a2-bc12-c7b7c0847160",
        "colab": {
          "base_uri": "https://localhost:8080/",
          "height": 34
        }
      },
      "source": [
        "# https://keras.io/\n",
        "#to install keras library\n",
        "#'!'allows bash command to run\n",
        "#in notebook\n",
        "!pip install -q keras\n",
        "import keras"
      ],
      "execution_count": 1,
      "outputs": [
        {
          "output_type": "stream",
          "text": [
            "Using TensorFlow backend.\n"
          ],
          "name": "stderr"
        }
      ]
    },
    {
      "cell_type": "code",
      "metadata": {
        "id": "Eso6UHE080D4",
        "colab_type": "code",
        "colab": {}
      },
      "source": [
        "#importing numpy\n",
        "import numpy as np\n",
        "#by importing specific modules of keras\n",
        "#import time is saved\n",
        "from keras.models import Sequential\n",
        "from keras.layers import Dense, Dropout, Activation, Flatten, Add, BatchNormalization\n",
        "from keras.layers import Convolution2D, MaxPooling2D\n",
        "from keras.utils import np_utils\n",
        "#importingg the mnist dataset\n",
        "from keras.datasets import mnist"
      ],
      "execution_count": 0,
      "outputs": []
    },
    {
      "cell_type": "markdown",
      "metadata": {
        "id": "zByEi95J86RD",
        "colab_type": "text"
      },
      "source": [
        "### Load pre-shuffled MNIST data into train and test sets"
      ]
    },
    {
      "cell_type": "code",
      "metadata": {
        "id": "7eRM0QWN83PV",
        "colab_type": "code",
        "colab": {}
      },
      "source": [
        "#Loading the MNIST dataset and string in the varibles.\n",
        "(X_train, y_train), (X_test, y_test) = mnist.load_data()"
      ],
      "execution_count": 0,
      "outputs": []
    },
    {
      "cell_type": "code",
      "metadata": {
        "id": "4a4Be72j8-ZC",
        "colab_type": "code",
        "outputId": "2c4ebfe6-576d-404c-ebc8-572aabb141e6",
        "colab": {
          "base_uri": "https://localhost:8080/",
          "height": 304
        }
      },
      "source": [
        "#displaing thr shape of training dataset.\n",
        "print (X_train.shape)\n",
        "#importing matplotlib libraries to plot graphs\n",
        "from matplotlib import pyplot as plt\n",
        "#this helps in plotting the graphs in notebook\n",
        "%matplotlib inline\n",
        "#plotting the graph via imshow function call\n",
        "#this function has X-train[0] as parameter,\n",
        "#hence displaying the first image, user can change \n",
        "#0 to any positive value under\n",
        "#60000(as training size in 60000) to view other data entries. \n",
        "plt.imshow(X_train[0])"
      ],
      "execution_count": 4,
      "outputs": [
        {
          "output_type": "stream",
          "text": [
            "(60000, 28, 28)\n"
          ],
          "name": "stdout"
        },
        {
          "output_type": "execute_result",
          "data": {
            "text/plain": [
              "<matplotlib.image.AxesImage at 0x7eff38007198>"
            ]
          },
          "metadata": {
            "tags": []
          },
          "execution_count": 4
        },
        {
          "output_type": "display_data",
          "data": {
            "image/png": "[encoded data removed]",
            "text/plain": [
              "<Figure size 432x288 with 1 Axes>"
            ]
          },
          "metadata": {
            "tags": []
          }
        }
      ]
    },
    {
      "cell_type": "code",
      "metadata": {
        "id": "dkmprriw9AnZ",
        "colab_type": "code",
        "colab": {}
      },
      "source": [
        "#reshaping the training and testing images,\n",
        "#representing the images in 3 Dimension.\n",
        "X_train = X_train.reshape(X_train.shape[0], 28, 28,1)\n",
        "X_test = X_test.reshape(X_test.shape[0], 28, 28,1)"
      ],
      "execution_count": 0,
      "outputs": []
    },
    {
      "cell_type": "code",
      "metadata": {
        "id": "X2m4YS4E9CRh",
        "colab_type": "code",
        "colab": {}
      },
      "source": [
        "#chaning the training and testing image datatype\n",
        "#to float\n",
        "X_train = X_train.astype('float32')\n",
        "X_test = X_test.astype('float32')\n",
        "#The data contains pixel values ranging\n",
        "#from 0-255, hence dividing all value by 255\n",
        "#so that the data comes in range of 0-1\n",
        "X_train /= 255\n",
        "X_test /= 255"
      ],
      "execution_count": 0,
      "outputs": []
    },
    {
      "cell_type": "code",
      "metadata": {
        "id": "0Mn0vAYD9DvB",
        "colab_type": "code",
        "outputId": "b5c48d89-8c27-4d95-a2e1-47b35c701fd4",
        "colab": {
          "base_uri": "https://localhost:8080/",
          "height": 34
        }
      },
      "source": [
        "#displaying the first 10 values of y_train array\n",
        "y_train[:10]"
      ],
      "execution_count": 7,
      "outputs": [
        {
          "output_type": "execute_result",
          "data": {
            "text/plain": [
              "array([5, 0, 4, 1, 9, 2, 1, 3, 1, 4], dtype=uint8)"
            ]
          },
          "metadata": {
            "tags": []
          },
          "execution_count": 7
        }
      ]
    },
    {
      "cell_type": "code",
      "metadata": {
        "id": "ZG8JiXR39FHC",
        "colab_type": "code",
        "colab": {}
      },
      "source": [
        "# Convert 1-dimensional class arrays to 10-dimensional class matrices\n",
        "# As the total number of classes are 10\n",
        "Y_train = np_utils.to_categorical(y_train, 10)\n",
        "Y_test = np_utils.to_categorical(y_test, 10)"
      ],
      "execution_count": 0,
      "outputs": []
    },
    {
      "cell_type": "code",
      "metadata": {
        "id": "fYlFRvKS9HMB",
        "colab_type": "code",
        "outputId": "bb43be1e-cf81-4afc-fb6b-a5a74c4d9526",
        "colab": {
          "base_uri": "https://localhost:8080/",
          "height": 191
        }
      },
      "source": [
        "#Displaying the first 10 entries of Y_train variable\n",
        "Y_train[:10]"
      ],
      "execution_count": 9,
      "outputs": [
        {
          "output_type": "execute_result",
          "data": {
            "text/plain": [
              "array([[0., 0., 0., 0., 0., 1., 0., 0., 0., 0.],\n",
              "       [1., 0., 0., 0., 0., 0., 0., 0., 0., 0.],\n",
              "       [0., 0., 0., 0., 1., 0., 0., 0., 0., 0.],\n",
              "       [0., 1., 0., 0., 0., 0., 0., 0., 0., 0.],\n",
              "       [0., 0., 0., 0., 0., 0., 0., 0., 0., 1.],\n",
              "       [0., 0., 1., 0., 0., 0., 0., 0., 0., 0.],\n",
              "       [0., 1., 0., 0., 0., 0., 0., 0., 0., 0.],\n",
              "       [0., 0., 0., 1., 0., 0., 0., 0., 0., 0.],\n",
              "       [0., 1., 0., 0., 0., 0., 0., 0., 0., 0.],\n",
              "       [0., 0., 0., 0., 1., 0., 0., 0., 0., 0.]], dtype=float32)"
            ]
          },
          "metadata": {
            "tags": []
          },
          "execution_count": 9
        }
      ]
    },
    {
      "cell_type": "markdown",
      "metadata": {
        "id": "ZMnFtSfUdkzy",
        "colab_type": "text"
      },
      "source": [
        "### Neural Network\n",
        "\n",
        "This is the developed Neural Network, if every layer, receptive field and channel output in written in the format(Field, Channel, Output)\n"
      ]
    },
    {
      "cell_type": "code",
      "metadata": {
        "id": "osKqT73Q9JJB",
        "colab_type": "code",
        "outputId": "df36690d-c6b1-47a8-a9f9-5747f84d861e",
        "colab": {
          "base_uri": "https://localhost:8080/",
          "height": 298
        }
      },
      "source": [
        "from keras.layers import Activation\n",
        "model = Sequential()\n",
        "\n",
        " \n",
        "model.add(Convolution2D(10, 3, 3, activation='relu', input_shape=(28,28,1)))\n",
        "#Layer 1(3x3,10,26)\n",
        "\n",
        "model.add(Convolution2D(18, 3, 3, activation='relu'))\n",
        "#Layer 2(5x5,18,24)\n",
        "model.add(BatchNormalization())\n",
        "model.add(Dropout(0.1))\n",
        "\n",
        "model.add(Convolution2D(12, 3, 3, activation='relu'))\n",
        "#Layer 3(7x7,12,22)\n",
        "model.add(MaxPooling2D(pool_size=(2, 2)))\n",
        "#Layer 4(14x14,12,11)\n",
        "model.add(Convolution2D(10, 1, 1, activation='relu'))\n",
        "#Layer 5(16x16,10,11)\n",
        "model.add(BatchNormalization())\n",
        "model.add(Dropout(0.1))\n",
        "\n",
        "\n",
        "model.add(Convolution2D(18, 3, 3, activation='relu')) \n",
        "#Layer 6(18x18,18,9)\n",
        "model.add(Convolution2D(12, 3, 3, activation='relu'))\n",
        "#Layer 7(20x20,12,7)\n",
        "model.add(BatchNormalization())\n",
        "model.add(Dropout(0.1))\n",
        "\n",
        "model.add(Convolution2D(10, 1, activation='relu')) \n",
        "#Layer 8(22x22,10,7)\n",
        "model.add(Convolution2D(10, 7))\n",
        "#Layer 9(24x24,10,1)\n",
        "model.add(Flatten())\n",
        "model.add(Activation('softmax'))"
      ],
      "execution_count": 10,
      "outputs": [
        {
          "output_type": "stream",
          "text": [
            "WARNING:tensorflow:From /usr/local/lib/python3.6/dist-packages/tensorflow/python/framework/op_def_library.py:263: colocate_with (from tensorflow.python.framework.ops) is deprecated and will be removed in a future version.\n",
            "Instructions for updating:\n",
            "Colocations handled automatically by placer.\n"
          ],
          "name": "stdout"
        },
        {
          "output_type": "stream",
          "text": [
            "/usr/local/lib/python3.6/dist-packages/ipykernel_launcher.py:5: UserWarning: Update your `Conv2D` call to the Keras 2 API: `Conv2D(10, (3, 3), activation=\"relu\", input_shape=(28, 28, 1...)`\n",
            "  \"\"\"\n",
            "/usr/local/lib/python3.6/dist-packages/ipykernel_launcher.py:8: UserWarning: Update your `Conv2D` call to the Keras 2 API: `Conv2D(18, (3, 3), activation=\"relu\")`\n",
            "  \n"
          ],
          "name": "stderr"
        },
        {
          "output_type": "stream",
          "text": [
            "WARNING:tensorflow:From /usr/local/lib/python3.6/dist-packages/keras/backend/tensorflow_backend.py:3445: calling dropout (from tensorflow.python.ops.nn_ops) with keep_prob is deprecated and will be removed in a future version.\n",
            "Instructions for updating:\n",
            "Please use `rate` instead of `keep_prob`. Rate should be set to `rate = 1 - keep_prob`.\n"
          ],
          "name": "stdout"
        },
        {
          "output_type": "stream",
          "text": [
            "/usr/local/lib/python3.6/dist-packages/ipykernel_launcher.py:13: UserWarning: Update your `Conv2D` call to the Keras 2 API: `Conv2D(12, (3, 3), activation=\"relu\")`\n",
            "  del sys.path[0]\n",
            "/usr/local/lib/python3.6/dist-packages/ipykernel_launcher.py:17: UserWarning: Update your `Conv2D` call to the Keras 2 API: `Conv2D(10, (1, 1), activation=\"relu\")`\n",
            "/usr/local/lib/python3.6/dist-packages/ipykernel_launcher.py:23: UserWarning: Update your `Conv2D` call to the Keras 2 API: `Conv2D(18, (3, 3), activation=\"relu\")`\n",
            "/usr/local/lib/python3.6/dist-packages/ipykernel_launcher.py:25: UserWarning: Update your `Conv2D` call to the Keras 2 API: `Conv2D(12, (3, 3), activation=\"relu\")`\n"
          ],
          "name": "stderr"
        }
      ]
    },
    {
      "cell_type": "code",
      "metadata": {
        "id": "TzdAYg1k9K7Z",
        "colab_type": "code",
        "outputId": "143f42d0-67c2-42ee-8cb6-54ccc37e0430",
        "colab": {
          "base_uri": "https://localhost:8080/",
          "height": 729
        }
      },
      "source": [
        "#Display the summary of the model i.e. layers, output, parameter \n",
        "#generated\n",
        "model.summary()"
      ],
      "execution_count": 11,
      "outputs": [
        {
          "output_type": "stream",
          "text": [
            "_________________________________________________________________\n",
            "Layer (type)                 Output Shape              Param #   \n",
            "=================================================================\n",
            "conv2d_1 (Conv2D)            (None, 26, 26, 10)        100       \n",
            "_________________________________________________________________\n",
            "conv2d_2 (Conv2D)            (None, 24, 24, 18)        1638      \n",
            "_________________________________________________________________\n",
            "batch_normalization_1 (Batch (None, 24, 24, 18)        72        \n",
            "_________________________________________________________________\n",
            "dropout_1 (Dropout)          (None, 24, 24, 18)        0         \n",
            "_________________________________________________________________\n",
            "conv2d_3 (Conv2D)            (None, 22, 22, 12)        1956      \n",
            "_________________________________________________________________\n",
            "max_pooling2d_1 (MaxPooling2 (None, 11, 11, 12)        0         \n",
            "_________________________________________________________________\n",
            "conv2d_4 (Conv2D)            (None, 11, 11, 10)        130       \n",
            "_________________________________________________________________\n",
            "batch_normalization_2 (Batch (None, 11, 11, 10)        40        \n",
            "_________________________________________________________________\n",
            "dropout_2 (Dropout)          (None, 11, 11, 10)        0         \n",
            "_________________________________________________________________\n",
            "conv2d_5 (Conv2D)            (None, 9, 9, 18)          1638      \n",
            "_________________________________________________________________\n",
            "conv2d_6 (Conv2D)            (None, 7, 7, 12)          1956      \n",
            "_________________________________________________________________\n",
            "batch_normalization_3 (Batch (None, 7, 7, 12)          48        \n",
            "_________________________________________________________________\n",
            "dropout_3 (Dropout)          (None, 7, 7, 12)          0         \n",
            "_________________________________________________________________\n",
            "conv2d_7 (Conv2D)            (None, 7, 7, 10)          130       \n",
            "_________________________________________________________________\n",
            "conv2d_8 (Conv2D)            (None, 1, 1, 10)          4910      \n",
            "_________________________________________________________________\n",
            "flatten_1 (Flatten)          (None, 10)                0         \n",
            "_________________________________________________________________\n",
            "activation_1 (Activation)    (None, 10)                0         \n",
            "=================================================================\n",
            "Total params: 12,618\n",
            "Trainable params: 12,538\n",
            "Non-trainable params: 80\n",
            "_________________________________________________________________\n"
          ],
          "name": "stdout"
        }
      ]
    },
    {
      "cell_type": "code",
      "metadata": {
        "id": "Zp6SuGrL9M3h",
        "colab_type": "code",
        "colab": {}
      },
      "source": [
        "#compile function is used after the model is loaded\n",
        "#it is used to give the loss function, optimizer and metrics data\n",
        "#Here the loss function is categotical_crossentrophy, optimzer is adam\n",
        "# and metrics is accuracy.\n",
        "model.compile(loss='categorical_crossentropy',\n",
        "             optimizer='adam',\n",
        "             metrics=['accuracy'])"
      ],
      "execution_count": 0,
      "outputs": []
    },
    {
      "cell_type": "code",
      "metadata": {
        "id": "4xWoKhPY9Of5",
        "colab_type": "code",
        "outputId": "0f416c29-4960-45a5-f828-5a2a906afe35",
        "colab": {
          "base_uri": "https://localhost:8080/",
          "height": 506
        }
      },
      "source": [
        "#Fit function is used to train the model, The batch size here is 32 \n",
        "#meaning after a set of 32 data entries is taken at a time.\n",
        "#Total epochs is 10, meaning 60000 images will be loaded 10 times \n",
        "#fully in the system. Verbose is a parameter which is set for displaying the\n",
        "#output at every iteration.\n",
        "model.fit(X_train, Y_train, batch_size=32, nb_epoch=10, verbose=1,validation_data=(X_test, Y_test))"
      ],
      "execution_count": 13,
      "outputs": [
        {
          "output_type": "stream",
          "text": [
            "WARNING:tensorflow:From /usr/local/lib/python3.6/dist-packages/tensorflow/python/ops/math_ops.py:3066: to_int32 (from tensorflow.python.ops.math_ops) is deprecated and will be removed in a future version.\n",
            "Instructions for updating:\n",
            "Use tf.cast instead.\n"
          ],
          "name": "stdout"
        },
        {
          "output_type": "stream",
          "text": [
            "/usr/local/lib/python3.6/dist-packages/ipykernel_launcher.py:1: UserWarning: The `nb_epoch` argument in `fit` has been renamed `epochs`.\n",
            "  \"\"\"Entry point for launching an IPython kernel.\n"
          ],
          "name": "stderr"
        },
        {
          "output_type": "stream",
          "text": [
            "Train on 60000 samples, validate on 10000 samples\n",
            "Epoch 1/10\n",
            "60000/60000 [==============================] - 18s 302us/step - loss: 0.1898 - acc: 0.9406 - val_loss: 0.0583 - val_acc: 0.9806\n",
            "Epoch 2/10\n",
            "60000/60000 [==============================] - 16s 267us/step - loss: 0.0692 - acc: 0.9777 - val_loss: 0.0471 - val_acc: 0.9846\n",
            "Epoch 3/10\n",
            "60000/60000 [==============================] - 16s 265us/step - loss: 0.0541 - acc: 0.9829 - val_loss: 0.0500 - val_acc: 0.9848\n",
            "Epoch 4/10\n",
            "60000/60000 [==============================] - 16s 264us/step - loss: 0.0435 - acc: 0.9861 - val_loss: 0.0374 - val_acc: 0.9879\n",
            "Epoch 5/10\n",
            "60000/60000 [==============================] - 17s 284us/step - loss: 0.0404 - acc: 0.9871 - val_loss: 0.0271 - val_acc: 0.9905\n",
            "Epoch 6/10\n",
            "60000/60000 [==============================] - 16s 263us/step - loss: 0.0369 - acc: 0.9882 - val_loss: 0.0420 - val_acc: 0.9861\n",
            "Epoch 7/10\n",
            "60000/60000 [==============================] - 16s 262us/step - loss: 0.0337 - acc: 0.9890 - val_loss: 0.0305 - val_acc: 0.9899\n",
            "Epoch 8/10\n",
            "60000/60000 [==============================] - 16s 262us/step - loss: 0.0314 - acc: 0.9894 - val_loss: 0.0313 - val_acc: 0.9901\n",
            "Epoch 9/10\n",
            "60000/60000 [==============================] - 16s 264us/step - loss: 0.0294 - acc: 0.9910 - val_loss: 0.0254 - val_acc: 0.9918\n",
            "Epoch 10/10\n",
            "60000/60000 [==============================] - 17s 282us/step - loss: 0.0278 - acc: 0.9912 - val_loss: 0.0318 - val_acc: 0.9890\n"
          ],
          "name": "stdout"
        },
        {
          "output_type": "execute_result",
          "data": {
            "text/plain": [
              "<keras.callbacks.History at 0x7eff2829c160>"
            ]
          },
          "metadata": {
            "tags": []
          },
          "execution_count": 13
        }
      ]
    },
    {
      "cell_type": "code",
      "metadata": {
        "id": "AtsH-lLk-eLb",
        "colab_type": "code",
        "colab": {}
      },
      "source": [
        "#model.evaluate will return the loss and accuracy obtained\n",
        "#over the testing data\n",
        "score = model.evaluate(X_test, Y_test, verbose=0)"
      ],
      "execution_count": 0,
      "outputs": []
    },
    {
      "cell_type": "code",
      "metadata": {
        "id": "mkX8JMv79q9r",
        "colab_type": "code",
        "outputId": "e02fdf84-d847-4407-e96f-eea724ec3c02",
        "colab": {
          "base_uri": "https://localhost:8080/",
          "height": 34
        }
      },
      "source": [
        "print(score)# will display the value stored in variable score"
      ],
      "execution_count": 15,
      "outputs": [
        {
          "output_type": "stream",
          "text": [
            "[0.03180249533336028, 0.989]\n"
          ],
          "name": "stdout"
        }
      ]
    },
    {
      "cell_type": "code",
      "metadata": {
        "id": "OCWoJkwE9suh",
        "colab_type": "code",
        "colab": {}
      },
      "source": [
        "#Trained model is run over the testing data\n",
        "#and the predicted output in stored in y_pred \n",
        "#variable.\n",
        "y_pred = model.predict(X_test)"
      ],
      "execution_count": 0,
      "outputs": []
    },
    {
      "cell_type": "code",
      "metadata": {
        "id": "Ym7iCFBm9uBs",
        "colab_type": "code",
        "outputId": "616541a1-d9d8-4972-a446-7db0c40c5bac",
        "colab": {
          "base_uri": "https://localhost:8080/",
          "height": 503
        }
      },
      "source": [
        "print(y_pred[:9])#Will display the predicted values\n",
        "print(y_test[:9])#Will display the actual values"
      ],
      "execution_count": 17,
      "outputs": [
        {
          "output_type": "stream",
          "text": [
            "[[5.74753978e-09 4.83342255e-08 2.56510998e-06 5.49983291e-04\n",
            "  6.35042366e-11 2.71462659e-06 9.78012051e-13 9.99436677e-01\n",
            "  3.43729027e-07 7.58298165e-06]\n",
            " [2.67984035e-07 2.59448882e-07 9.99999166e-01 3.29624696e-11\n",
            "  4.01168947e-08 9.20097505e-12 2.77742373e-07 2.48002625e-11\n",
            "  6.13741591e-09 2.98726356e-11]\n",
            " [9.54657082e-08 9.99979615e-01 3.19617648e-08 2.31627517e-08\n",
            "  9.32912087e-07 8.90732281e-06 1.20225309e-07 8.98628150e-06\n",
            "  7.32372655e-07 5.29832960e-07]\n",
            " [9.99968767e-01 2.16017881e-14 2.37349385e-09 1.56927984e-10\n",
            "  1.11275836e-10 1.23864055e-07 2.95528444e-05 3.62746291e-11\n",
            "  1.03875118e-06 5.40904068e-07]\n",
            " [4.82958729e-10 4.98715236e-11 1.62327431e-08 7.54135310e-10\n",
            "  9.99990463e-01 2.58965575e-11 3.84289844e-09 6.14858209e-07\n",
            "  1.86162765e-06 7.02873194e-06]\n",
            " [1.32168722e-07 9.99985933e-01 2.15888374e-08 7.75951747e-09\n",
            "  6.64331083e-07 2.29332295e-06 1.06746798e-08 1.01605438e-05\n",
            "  7.41706685e-07 1.09122901e-07]\n",
            " [1.15821578e-13 1.70624705e-08 1.25361401e-08 2.01504156e-12\n",
            "  9.99971867e-01 1.30603772e-09 1.10706604e-12 8.79228068e-08\n",
            "  2.61756340e-05 1.81354028e-06]\n",
            " [8.18425796e-12 4.87218088e-08 1.95458085e-07 4.13780619e-08\n",
            "  1.23351847e-05 8.39367033e-07 1.98185202e-09 7.23313576e-10\n",
            "  1.80384211e-06 9.99984741e-01]\n",
            " [9.33192634e-09 3.84212817e-13 4.08762402e-09 6.35695452e-09\n",
            "  2.62989348e-12 3.07384312e-01 6.92472339e-01 3.88650445e-10\n",
            "  1.43164696e-04 1.30894634e-07]]\n",
            "[7 2 1 0 4 1 4 9 5]\n"
          ],
          "name": "stdout"
        }
      ]
    },
    {
      "cell_type": "code",
      "metadata": {
        "id": "CT--y98_dr2T",
        "colab_type": "code",
        "colab": {}
      },
      "source": [
        "#creating a dictionary of layer name and layer that the model has in layer_dict\n",
        "#variable.\n",
        "layer_dict = dict([(layer.name, layer) for layer in model.layers])"
      ],
      "execution_count": 0,
      "outputs": []
    },
    {
      "cell_type": "markdown",
      "metadata": {
        "id": "FlIXSJguKhFV",
        "colab_type": "text"
      },
      "source": [
        "\n",
        "This will visualize the input image and applied filter over the image\n"
      ]
    },
    {
      "cell_type": "code",
      "metadata": {
        "id": "2GY4Upv4dsUR",
        "colab_type": "code",
        "outputId": "2e8e0363-54c4-4710-8c35-8766de476116",
        "colab": {
          "base_uri": "https://localhost:8080/",
          "height": 741
        }
      },
      "source": [
        "from keras import backend as K\n",
        "%matplotlib inline\n",
        "# util function to convert a tensor into a valid image\n",
        "def deprocess_image(x):\n",
        "    # normalize tensor: center on 0., ensure std is 0.1\n",
        "    x -= x.mean()\n",
        "    x /= (x.std() + 1e-5)\n",
        "    x *= 0.1\n",
        "\n",
        "    # clip to [0, 1]\n",
        "    x += 0.5\n",
        "    x = np.clip(x, 0, 1)\n",
        "\n",
        "    # convert to RGB array\n",
        "    x *= 255\n",
        "    #x = x.transpose((1, 2, 0))\n",
        "    x = np.clip(x, 0, 255).astype('uint8')\n",
        "    return x\n",
        "\n",
        "def vis_img_in_filter(img = np.array(X_train[0]).reshape((1, 28, 28, 1)).astype(np.float64), \n",
        "                      layer_name = 'conv2d_2'):\n",
        "    layer_output = layer_dict[layer_name].output\n",
        "    img_ascs = list()\n",
        "    for filter_index in range(layer_output.shape[3]):\n",
        "        # build a loss function that maximizes the activation\n",
        "        # of the nth filter of the layer considered\n",
        "        loss = K.mean(layer_output[:, :, :, filter_index])\n",
        "\n",
        "        # compute the gradient of the input picture wrt this loss\n",
        "        grads = K.gradients(loss, model.input)[0]\n",
        "\n",
        "        # normalization trick: we normalize the gradient\n",
        "        grads /= (K.sqrt(K.mean(K.square(grads))) + 1e-5)\n",
        "\n",
        "        # this function returns the loss and grads given the input picture\n",
        "        iterate = K.function([model.input], [loss, grads])\n",
        "\n",
        "        # step size for gradient ascent\n",
        "        step = 5.\n",
        "\n",
        "        img_asc = np.array(img)\n",
        "        # run gradient ascent for 20 steps\n",
        "        for i in range(20):\n",
        "            loss_value, grads_value = iterate([img_asc])\n",
        "            img_asc += grads_value * step\n",
        "\n",
        "        img_asc = img_asc[0]\n",
        "        img_ascs.append(deprocess_image(img_asc).reshape((28, 28)))\n",
        "        \n",
        "    if layer_output.shape[3] >= 35:\n",
        "        plot_x, plot_y = 6, 6\n",
        "    elif layer_output.shape[3] >= 23:\n",
        "        plot_x, plot_y = 4, 6\n",
        "    elif layer_output.shape[3] >= 11:\n",
        "        plot_x, plot_y = 2, 6\n",
        "    else:\n",
        "        plot_x, plot_y = 1, 2\n",
        "    fig, ax = plt.subplots(plot_x, plot_y, figsize = (12, 12))\n",
        "    ax[0, 0].imshow(img.reshape((28, 28)), cmap = 'gray')\n",
        "    ax[0, 0].set_title('Input image')\n",
        "    fig.suptitle('Input image and %s filters' % (layer_name,))\n",
        "    fig.tight_layout(pad = 0.3, rect = [0, 0, 0.9, 0.9])\n",
        "    for (x, y) in [(i, j) for i in range(plot_x) for j in range(plot_y)]:\n",
        "        if x == 0 and y == 0:\n",
        "            continue\n",
        "        ax[x, y].imshow(img_ascs[x * plot_y + y - 1], cmap = 'gray')\n",
        "        ax[x, y].set_title('filter %d' % (x * plot_y + y - 1))\n",
        "\n",
        "vis_img_in_filter()"
      ],
      "execution_count": 20,
      "outputs": [
        {
          "output_type": "display_data",
          "data": {
            "image/png": "[encoded data removed]",
            "text/plain": [
              "<Figure size 864x864 with 12 Axes>"
            ]
          },
          "metadata": {
            "tags": []
          }
        }
      ]
    }
  ]
}