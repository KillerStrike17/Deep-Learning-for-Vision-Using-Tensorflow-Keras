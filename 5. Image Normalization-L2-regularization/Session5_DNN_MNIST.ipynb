{
  "nbformat": 4,
  "nbformat_minor": 0,
  "metadata": {
    "colab": {
      "name": "Session5 DNN MNIST.ipynb",
      "version": "0.3.2",
      "provenance": [],
      "collapsed_sections": [],
      "include_colab_link": true
    },
    "kernelspec": {
      "name": "python3",
      "display_name": "Python 3"
    },
    "accelerator": "GPU"
  },
  "cells": [
    {
      "cell_type": "markdown",
      "metadata": {
        "id": "view-in-github",
        "colab_type": "text"
      },
      "source": [
        "<a href=\"https://colab.research.google.com/github/KillerStrike17/EVA---Session5-Image-Normalization-L2-regularization/blob/master/Session5_DNN_MNIST.ipynb\" target=\"_parent\"><img src=\"https://colab.research.google.com/assets/colab-badge.svg\" alt=\"Open In Colab\"/></a>"
      ]
    },
    {
      "cell_type": "code",
      "metadata": {
        "id": "0SJyVpgSxHt4",
        "colab_type": "code",
        "colab": {}
      },
      "source": [
        "#load the libraries\n",
        "import numpy as np\n",
        "from keras.models import Sequential\n",
        "from keras.layers import Dense, Dropout, Activation, Flatten, Add, BatchNormalization\n",
        "from keras.layers import Convolution2D, MaxPooling2D\n",
        "from keras.preprocessing.image import ImageDataGenerator\n",
        "from keras.utils import np_utils\n",
        "from keras.datasets import mnist"
      ],
      "execution_count": 0,
      "outputs": []
    },
    {
      "cell_type": "code",
      "metadata": {
        "id": "Dm_-5Jj0KkCT",
        "colab_type": "code",
        "colab": {}
      },
      "source": [
        "#function to show the misclassified images\n",
        "def show_misclassified(X, Y, Y_pred, classes,columns=5, total=25,\n",
        "                       pick_randomly=True, image_size_multiplier=4):\n",
        "    y_true = np.argmax(Y, axis=1)\n",
        "    yp = np.argmax(Y_pred, axis=1)\n",
        "    \n",
        "    #checking for misclassified images and storing in variable\n",
        "    misclassified = y_true != yp\n",
        "    \n",
        "    #storing all the misclassified images with thier tags\n",
        "    X = X[misclassified]\n",
        "    Y = Y[misclassified]\n",
        "    Y_pred = Y_pred[misclassified]\n",
        "    y_true = y_true[misclassified]\n",
        "    yp = yp[misclassified]\n",
        "    \n",
        "    total = min(total, len(X))\n",
        "    rows = int(np.ceil(total / columns))\n",
        "\n",
        "    indexes = np.random.choice(len(X), total, replace=False) if pick_randomly else list(range(0, total))\n",
        "\n",
        "    X = np.take(X, indexes, axis=0)\n",
        "    Y = np.take(Y, indexes, axis=0)\n",
        "    Y_pred = np.take(Y_pred, indexes, axis=0)\n",
        "    y_true = np.take(y_true, indexes, axis=0)\n",
        "    yp = np.take(yp, indexes, axis=0)\n",
        "\n",
        "    fig_height = rows * image_size_multiplier * 2\n",
        "    fig_width = columns * image_size_multiplier\n",
        "    \n",
        "    #allocating space to plot all graphs\n",
        "    fig = plt.figure(figsize=(fig_width, fig_height))\n",
        "    plt.subplots_adjust(bottom=0.1, top=1.0)\n",
        "    idx1 = 0\n",
        "    idx2 = 0\n",
        "    jdx = 0\n",
        "    \n",
        "    #printing all the misclassified images\n",
        "    for row in range(rows):\n",
        "        for column in range(columns):\n",
        "            if idx1 >= len(X):\n",
        "                break\n",
        "            img = X[idx1]\n",
        "            assert (len(img.shape) == 3 and img.shape[2] in [1, 3, 4]) or len(img.shape) == 2\n",
        "            ax = fig.add_subplot(rows * 2, columns, jdx + 1, xticks=[], yticks=[])\n",
        "            cmap = None\n",
        "            if (len(img.shape) == 3 and img.shape[2] == 1) or len(img.shape) == 2:\n",
        "                cmap = \"binary\"\n",
        "            if len(img.shape) == 3 and img.shape[2] == 1:\n",
        "                img = img.reshape((img.shape[0], img.shape[1]))\n",
        "            ax.imshow(img, cmap=cmap)\n",
        "            ax.set_xlabel(\"Predicted = %s, Actual = %s\" % (classes[yp[idx1]], classes[y_true[idx1]]))\n",
        "            idx1 += 1\n",
        "            jdx += 1        \n",
        "    plt.show()\n",
        "    \n",
        "#returning class labels\n",
        "def get_mnist_labels():\n",
        "    return list(range(0, 10))"
      ],
      "execution_count": 0,
      "outputs": []
    },
    {
      "cell_type": "code",
      "metadata": {
        "id": "YlEUplvoxKAT",
        "colab_type": "code",
        "colab": {}
      },
      "source": [
        "#splitting data into training and testing\n",
        "(X_train, y_train), (X_test, y_test) = mnist.load_data()"
      ],
      "execution_count": 0,
      "outputs": []
    },
    {
      "cell_type": "code",
      "metadata": {
        "id": "I6Y9Va-xxMXG",
        "colab_type": "code",
        "outputId": "d9bc832f-f1f9-4812-b96e-e4f8d4156169",
        "colab": {
          "base_uri": "https://localhost:8080/",
          "height": 303
        }
      },
      "source": [
        "print (X_train.shape)\n",
        "from matplotlib import pyplot as plt\n",
        "%matplotlib inline\n",
        "#displaying the training image\n",
        "plt.imshow(X_train[1])"
      ],
      "execution_count": 74,
      "outputs": [
        {
          "output_type": "stream",
          "text": [
            "(60000, 28, 28)\n"
          ],
          "name": "stdout"
        },
        {
          "output_type": "execute_result",
          "data": {
            "text/plain": [
              "<matplotlib.image.AxesImage at 0x7fb9c4037128>"
            ]
          },
          "metadata": {
            "tags": []
          },
          "execution_count": 74
        },
        {
          "output_type": "display_data",
          "data": {
            "image/png": "[encoded data removed]",
            "text/plain": [
              "<Figure size 432x288 with 1 Axes>"
            ]
          },
          "metadata": {
            "tags": []
          }
        }
      ]
    },
    {
      "cell_type": "code",
      "metadata": {
        "id": "lxDZxPhhxOgO",
        "colab_type": "code",
        "outputId": "bacc5766-2e94-4a0f-82b2-727885027d31",
        "colab": {
          "base_uri": "https://localhost:8080/",
          "height": 34
        }
      },
      "source": [
        "#reshaping the training and testing data\n",
        "X_train = X_train.reshape(X_train.shape[0], 28, 28,1)\n",
        "X_test = X_test.reshape(X_test.shape[0], 28, 28,1)\n",
        "print(\"Shape\",X_train.shape[1])"
      ],
      "execution_count": 75,
      "outputs": [
        {
          "output_type": "stream",
          "text": [
            "Shape 28\n"
          ],
          "name": "stdout"
        }
      ]
    },
    {
      "cell_type": "code",
      "metadata": {
        "id": "3HzMqbTnxQQW",
        "colab_type": "code",
        "colab": {}
      },
      "source": [
        "#converting the pixel values to 0-1\n",
        "X_train = X_train.astype('float32')\n",
        "X_test = X_test.astype('float32')\n",
        "X_train /= 255\n",
        "X_test /= 255"
      ],
      "execution_count": 0,
      "outputs": []
    },
    {
      "cell_type": "code",
      "metadata": {
        "id": "7LdYiW6ixR9e",
        "colab_type": "code",
        "colab": {}
      },
      "source": [
        "#Categorizing the labels\n",
        "y_train[:10]\n",
        "Y_train = np_utils.to_categorical(y_train, 10)\n",
        "Y_test = np_utils.to_categorical(y_test, 10)"
      ],
      "execution_count": 0,
      "outputs": []
    },
    {
      "cell_type": "code",
      "metadata": {
        "id": "rFR0F9j0xVp2",
        "colab_type": "code",
        "outputId": "cc09c354-636a-4146-d2f6-f45c3e044ae4",
        "colab": {
          "base_uri": "https://localhost:8080/",
          "height": 187
        }
      },
      "source": [
        "Y_train[:10]"
      ],
      "execution_count": 78,
      "outputs": [
        {
          "output_type": "execute_result",
          "data": {
            "text/plain": [
              "array([[0., 0., 0., 0., 0., 1., 0., 0., 0., 0.],\n",
              "       [1., 0., 0., 0., 0., 0., 0., 0., 0., 0.],\n",
              "       [0., 0., 0., 0., 1., 0., 0., 0., 0., 0.],\n",
              "       [0., 1., 0., 0., 0., 0., 0., 0., 0., 0.],\n",
              "       [0., 0., 0., 0., 0., 0., 0., 0., 0., 1.],\n",
              "       [0., 0., 1., 0., 0., 0., 0., 0., 0., 0.],\n",
              "       [0., 1., 0., 0., 0., 0., 0., 0., 0., 0.],\n",
              "       [0., 0., 0., 1., 0., 0., 0., 0., 0., 0.],\n",
              "       [0., 1., 0., 0., 0., 0., 0., 0., 0., 0.],\n",
              "       [0., 0., 0., 0., 1., 0., 0., 0., 0., 0.]], dtype=float32)"
            ]
          },
          "metadata": {
            "tags": []
          },
          "execution_count": 78
        }
      ]
    },
    {
      "cell_type": "code",
      "metadata": {
        "id": "1_CC1ZeqrnfV",
        "colab_type": "code",
        "outputId": "1fadbcd3-8b63-4731-87f6-5978975fd823",
        "colab": {
          "base_uri": "https://localhost:8080/",
          "height": 51
        }
      },
      "source": [
        "print('Statistics train=%.3f (%.3f), test=%.3f (%.3f)' % (X_train.mean(), X_train.std(), X_test.mean(), X_test.std()))\n",
        "# create generator that centers pixel values\n",
        "datagen = ImageDataGenerator(featurewise_center=True, featurewise_std_normalization=True)\n",
        "datagen_validation = ImageDataGenerator(featurewise_center=True, featurewise_std_normalization=True)\n",
        "# calculate the mean on the training dataset\n",
        "datagen.fit(X_train)\n",
        "datagen_validation.fit(X_train)\n",
        "#valid_datagen.fit(X_test)\n",
        "print('Data Generator mean=%.3f, std=%.3f' % (datagen.mean, datagen.std))"
      ],
      "execution_count": 79,
      "outputs": [
        {
          "output_type": "stream",
          "text": [
            "Statistics train=0.131 (0.308), test=0.133 (0.310)\n",
            "Data Generator mean=0.131, std=0.308\n"
          ],
          "name": "stdout"
        }
      ]
    },
    {
      "cell_type": "code",
      "metadata": {
        "id": "mDpXf4YQxXRm",
        "colab_type": "code",
        "outputId": "7813ccf6-f374-4b31-bf86-d5b3f8eafb05",
        "colab": {
          "base_uri": "https://localhost:8080/",
          "height": 1193
        }
      },
      "source": [
        "#Developed Model\n",
        "from keras.layers import Activation\n",
        "from keras import regularizers\n",
        "model = Sequential()\n",
        " \n",
        "model.add(Convolution2D(16, 3, 3, activation='relu', input_shape=(28,28,1),kernel_regularizer=regularizers.l2(l=0.1))) #26\n",
        "model.add(BatchNormalization())\n",
        "model.add(Dropout(0.1))\n",
        "\n",
        "model.add(Convolution2D(32, 3, 3, activation='relu',kernel_regularizer=regularizers.l2(l=0.1))) #24\n",
        "model.add(BatchNormalization())\n",
        "model.add(Dropout(0.1))\n",
        "\n",
        "model.add(Convolution2D(10, 1, 1, activation='relu',kernel_regularizer=regularizers.l2(l=0.1))) #22\n",
        "\n",
        "model.add(MaxPooling2D(pool_size=(2, 2)))#11\n",
        "\n",
        "model.add(Convolution2D(16, 3, 3, activation='relu',kernel_regularizer=regularizers.l2(l=0.1)))#9\n",
        "model.add(BatchNormalization())\n",
        "model.add(Dropout(0.1))\n",
        "\n",
        "\n",
        "model.add(Convolution2D(16, 3, 3, activation='relu',kernel_regularizer=regularizers.l2(l=0.1)))#7\n",
        "model.add(BatchNormalization())\n",
        "model.add(Dropout(0.1))\n",
        "\n",
        "\n",
        "model.add(Convolution2D(16, 3, 3, activation='relu',kernel_regularizer=regularizers.l2(l=0.1)))#5\n",
        "model.add(BatchNormalization())\n",
        "model.add(Dropout(0.1))\n",
        "\n",
        "\n",
        "model.add(Convolution2D(16, 3, 3, activation='relu',kernel_regularizer=regularizers.l2(l=0.1)))#3\n",
        "model.add(BatchNormalization())\n",
        "model.add(Dropout(0.1))\n",
        "\n",
        "\n",
        "model.add(Convolution2D(10, 4, 4))\n",
        "model.add(BatchNormalization())\n",
        "model.add(Dropout(0.1))\n",
        "\n",
        "\n",
        "model.add(Flatten())\n",
        "model.add(Activation('softmax'))\n",
        "\n",
        "\n",
        "model.summary()"
      ],
      "execution_count": 80,
      "outputs": [
        {
          "output_type": "stream",
          "text": [
            "/usr/local/lib/python3.6/dist-packages/ipykernel_launcher.py:5: UserWarning: Update your `Conv2D` call to the Keras 2 API: `Conv2D(16, (3, 3), activation=\"relu\", input_shape=(28, 28, 1..., kernel_regularizer=<keras.reg...)`\n",
            "  \"\"\"\n",
            "/usr/local/lib/python3.6/dist-packages/ipykernel_launcher.py:9: UserWarning: Update your `Conv2D` call to the Keras 2 API: `Conv2D(32, (3, 3), activation=\"relu\", kernel_regularizer=<keras.reg...)`\n",
            "  if __name__ == '__main__':\n",
            "/usr/local/lib/python3.6/dist-packages/ipykernel_launcher.py:13: UserWarning: Update your `Conv2D` call to the Keras 2 API: `Conv2D(10, (1, 1), activation=\"relu\", kernel_regularizer=<keras.reg...)`\n",
            "  del sys.path[0]\n",
            "/usr/local/lib/python3.6/dist-packages/ipykernel_launcher.py:17: UserWarning: Update your `Conv2D` call to the Keras 2 API: `Conv2D(16, (3, 3), activation=\"relu\", kernel_regularizer=<keras.reg...)`\n",
            "/usr/local/lib/python3.6/dist-packages/ipykernel_launcher.py:22: UserWarning: Update your `Conv2D` call to the Keras 2 API: `Conv2D(16, (3, 3), activation=\"relu\", kernel_regularizer=<keras.reg...)`\n",
            "/usr/local/lib/python3.6/dist-packages/ipykernel_launcher.py:27: UserWarning: Update your `Conv2D` call to the Keras 2 API: `Conv2D(16, (3, 3), activation=\"relu\", kernel_regularizer=<keras.reg...)`\n",
            "/usr/local/lib/python3.6/dist-packages/ipykernel_launcher.py:32: UserWarning: Update your `Conv2D` call to the Keras 2 API: `Conv2D(16, (3, 3), activation=\"relu\", kernel_regularizer=<keras.reg...)`\n"
          ],
          "name": "stderr"
        },
        {
          "output_type": "stream",
          "text": [
            "_________________________________________________________________\n",
            "Layer (type)                 Output Shape              Param #   \n",
            "=================================================================\n",
            "conv2d_57 (Conv2D)           (None, 26, 26, 16)        160       \n",
            "_________________________________________________________________\n",
            "batch_normalization_50 (Batc (None, 26, 26, 16)        64        \n",
            "_________________________________________________________________\n",
            "dropout_50 (Dropout)         (None, 26, 26, 16)        0         \n",
            "_________________________________________________________________\n",
            "conv2d_58 (Conv2D)           (None, 24, 24, 32)        4640      \n",
            "_________________________________________________________________\n",
            "batch_normalization_51 (Batc (None, 24, 24, 32)        128       \n",
            "_________________________________________________________________\n",
            "dropout_51 (Dropout)         (None, 24, 24, 32)        0         \n",
            "_________________________________________________________________\n",
            "conv2d_59 (Conv2D)           (None, 24, 24, 10)        330       \n",
            "_________________________________________________________________\n",
            "max_pooling2d_8 (MaxPooling2 (None, 12, 12, 10)        0         \n",
            "_________________________________________________________________\n",
            "conv2d_60 (Conv2D)           (None, 10, 10, 16)        1456      \n",
            "_________________________________________________________________\n",
            "batch_normalization_52 (Batc (None, 10, 10, 16)        64        \n",
            "_________________________________________________________________\n",
            "dropout_52 (Dropout)         (None, 10, 10, 16)        0         \n",
            "_________________________________________________________________\n",
            "conv2d_61 (Conv2D)           (None, 8, 8, 16)          2320      \n",
            "_________________________________________________________________\n",
            "batch_normalization_53 (Batc (None, 8, 8, 16)          64        \n",
            "_________________________________________________________________\n",
            "dropout_53 (Dropout)         (None, 8, 8, 16)          0         \n",
            "_________________________________________________________________\n",
            "conv2d_62 (Conv2D)           (None, 6, 6, 16)          2320      \n",
            "_________________________________________________________________\n",
            "batch_normalization_54 (Batc (None, 6, 6, 16)          64        \n",
            "_________________________________________________________________\n",
            "dropout_54 (Dropout)         (None, 6, 6, 16)          0         \n",
            "_________________________________________________________________\n",
            "conv2d_63 (Conv2D)           (None, 4, 4, 16)          2320      \n",
            "_________________________________________________________________\n",
            "batch_normalization_55 (Batc (None, 4, 4, 16)          64        \n",
            "_________________________________________________________________\n",
            "dropout_55 (Dropout)         (None, 4, 4, 16)          0         \n",
            "_________________________________________________________________\n",
            "conv2d_64 (Conv2D)           (None, 1, 1, 10)          2570      \n",
            "_________________________________________________________________\n",
            "batch_normalization_56 (Batc (None, 1, 1, 10)          40        \n",
            "_________________________________________________________________\n",
            "dropout_56 (Dropout)         (None, 1, 1, 10)          0         \n",
            "_________________________________________________________________\n",
            "flatten_8 (Flatten)          (None, 10)                0         \n",
            "_________________________________________________________________\n",
            "activation_8 (Activation)    (None, 10)                0         \n",
            "=================================================================\n",
            "Total params: 16,604\n",
            "Trainable params: 16,360\n",
            "Non-trainable params: 244\n",
            "_________________________________________________________________\n"
          ],
          "name": "stdout"
        },
        {
          "output_type": "stream",
          "text": [
            "/usr/local/lib/python3.6/dist-packages/ipykernel_launcher.py:37: UserWarning: Update your `Conv2D` call to the Keras 2 API: `Conv2D(10, (4, 4))`\n"
          ],
          "name": "stderr"
        }
      ]
    },
    {
      "cell_type": "code",
      "metadata": {
        "id": "L2IicGJ4x3Be",
        "colab_type": "code",
        "outputId": "46983a17-a2c7-4160-b134-ed53657c02a4",
        "colab": {
          "base_uri": "https://localhost:8080/",
          "height": 4168
        }
      },
      "source": [
        "from keras.optimizers import Adam\n",
        "from keras.callbacks import LearningRateScheduler\n",
        "from keras.callbacks import ModelCheckpoint\n",
        "#Schedduler function\n",
        "def scheduler(epoch, lr):\n",
        "  return round(0.003 * 1/(1 + 0.319 * epoch), 10)\n",
        "\n",
        "#compiling the model\n",
        "model.compile(loss='categorical_crossentropy', optimizer=Adam(lr=0.003), metrics=['accuracy'])\n",
        "\n",
        "#saving path\n",
        "filepath=\"model.hdf5\"\n",
        "\n",
        "#saving the best model\n",
        "checkpoint = ModelCheckpoint(filepath, monitor='val_acc', verbose=1, save_best_only=True, mode='max')\n",
        "\n",
        "#training the model\n",
        "model.fit_generator(datagen.flow(X_train, Y_train, batch_size=128), steps_per_epoch=X_train.shape[0]/128,\n",
        "                    verbose=1,nb_epoch = 40,\n",
        "                     callbacks=[checkpoint,LearningRateScheduler(scheduler, verbose=1)],\n",
        "                     validation_data=datagen_validation.flow(X_test, Y_test,batch_size = 128), validation_steps = X_test.shape[0]/128)"
      ],
      "execution_count": 81,
      "outputs": [
        {
          "output_type": "stream",
          "text": [
            "/usr/local/lib/python3.6/dist-packages/ipykernel_launcher.py:21: UserWarning: The semantics of the Keras 2 argument `steps_per_epoch` is not the same as the Keras 1 argument `samples_per_epoch`. `steps_per_epoch` is the number of batches to draw from the generator at each epoch. Basically steps_per_epoch = samples_per_epoch/batch_size. Similarly `nb_val_samples`->`validation_steps` and `val_samples`->`steps` arguments have changed. Update your method calls accordingly.\n",
            "/usr/local/lib/python3.6/dist-packages/ipykernel_launcher.py:21: UserWarning: Update your `fit_generator` call to the Keras 2 API: `fit_generator(<keras_pre..., steps_per_epoch=468.75, verbose=1, callbacks=[<keras.ca..., validation_data=<keras_pre..., validation_steps=78.125, epochs=40)`\n"
          ],
          "name": "stderr"
        },
        {
          "output_type": "stream",
          "text": [
            "Epoch 1/40\n",
            "\n",
            "Epoch 00001: LearningRateScheduler setting learning rate to 0.003.\n",
            "469/468 [==============================] - 20s 43ms/step - loss: 1.2877 - acc: 0.8519 - val_loss: 0.6924 - val_acc: 0.9185\n",
            "\n",
            "Epoch 00001: val_acc improved from -inf to 0.91850, saving model to model.hdf5\n",
            "Epoch 2/40\n",
            "\n",
            "Epoch 00002: LearningRateScheduler setting learning rate to 0.0022744503.\n",
            "469/468 [==============================] - 9s 19ms/step - loss: 0.4371 - acc: 0.9073 - val_loss: 0.3931 - val_acc: 0.9513\n",
            "\n",
            "Epoch 00002: val_acc improved from 0.91850 to 0.95130, saving model to model.hdf5\n",
            "Epoch 3/40\n",
            "\n",
            "Epoch 00003: LearningRateScheduler setting learning rate to 0.0018315018.\n",
            "469/468 [==============================] - 9s 19ms/step - loss: 0.3744 - acc: 0.9193 - val_loss: 0.2648 - val_acc: 0.9611\n",
            "\n",
            "Epoch 00003: val_acc improved from 0.95130 to 0.96110, saving model to model.hdf5\n",
            "Epoch 4/40\n",
            "\n",
            "Epoch 00004: LearningRateScheduler setting learning rate to 0.0015329586.\n",
            "469/468 [==============================] - 9s 19ms/step - loss: 0.3388 - acc: 0.9245 - val_loss: 0.2045 - val_acc: 0.9764\n",
            "\n",
            "Epoch 00004: val_acc improved from 0.96110 to 0.97640, saving model to model.hdf5\n",
            "Epoch 5/40\n",
            "\n",
            "Epoch 00005: LearningRateScheduler setting learning rate to 0.0013181019.\n",
            "469/468 [==============================] - 9s 19ms/step - loss: 0.3117 - acc: 0.9294 - val_loss: 0.1948 - val_acc: 0.9739\n",
            "\n",
            "Epoch 00005: val_acc did not improve from 0.97640\n",
            "Epoch 6/40\n",
            "\n",
            "Epoch 00006: LearningRateScheduler setting learning rate to 0.0011560694.\n",
            "469/468 [==============================] - 9s 19ms/step - loss: 0.2874 - acc: 0.9325 - val_loss: 0.1531 - val_acc: 0.9816\n",
            "\n",
            "Epoch 00006: val_acc improved from 0.97640 to 0.98160, saving model to model.hdf5\n",
            "Epoch 7/40\n",
            "\n",
            "Epoch 00007: LearningRateScheduler setting learning rate to 0.0010295127.\n",
            "469/468 [==============================] - 9s 19ms/step - loss: 0.2697 - acc: 0.9353 - val_loss: 0.1735 - val_acc: 0.9730\n",
            "\n",
            "Epoch 00007: val_acc did not improve from 0.98160\n",
            "Epoch 8/40\n",
            "\n",
            "Epoch 00008: LearningRateScheduler setting learning rate to 0.0009279307.\n",
            "469/468 [==============================] - 9s 19ms/step - loss: 0.2567 - acc: 0.9384 - val_loss: 0.1599 - val_acc: 0.9780\n",
            "\n",
            "Epoch 00008: val_acc did not improve from 0.98160\n",
            "Epoch 9/40\n",
            "\n",
            "Epoch 00009: LearningRateScheduler setting learning rate to 0.0008445946.\n",
            "469/468 [==============================] - 9s 19ms/step - loss: 0.2446 - acc: 0.9386 - val_loss: 0.1232 - val_acc: 0.9846\n",
            "\n",
            "Epoch 00009: val_acc improved from 0.98160 to 0.98460, saving model to model.hdf5\n",
            "Epoch 10/40\n",
            "\n",
            "Epoch 00010: LearningRateScheduler setting learning rate to 0.0007749935.\n",
            "469/468 [==============================] - 9s 19ms/step - loss: 0.2299 - acc: 0.9413 - val_loss: 0.1230 - val_acc: 0.9861\n",
            "\n",
            "Epoch 00010: val_acc improved from 0.98460 to 0.98610, saving model to model.hdf5\n",
            "Epoch 11/40\n",
            "\n",
            "Epoch 00011: LearningRateScheduler setting learning rate to 0.0007159905.\n",
            "469/468 [==============================] - 9s 19ms/step - loss: 0.2257 - acc: 0.9399 - val_loss: 0.1131 - val_acc: 0.9864\n",
            "\n",
            "Epoch 00011: val_acc improved from 0.98610 to 0.98640, saving model to model.hdf5\n",
            "Epoch 12/40\n",
            "\n",
            "Epoch 00012: LearningRateScheduler setting learning rate to 0.000665336.\n",
            "469/468 [==============================] - 9s 18ms/step - loss: 0.2181 - acc: 0.9420 - val_loss: 0.1063 - val_acc: 0.9873\n",
            "\n",
            "Epoch 00012: val_acc improved from 0.98640 to 0.98730, saving model to model.hdf5\n",
            "Epoch 13/40\n",
            "\n",
            "Epoch 00013: LearningRateScheduler setting learning rate to 0.0006213753.\n",
            "469/468 [==============================] - 9s 18ms/step - loss: 0.2070 - acc: 0.9441 - val_loss: 0.1098 - val_acc: 0.9845\n",
            "\n",
            "Epoch 00013: val_acc did not improve from 0.98730\n",
            "Epoch 14/40\n",
            "\n",
            "Epoch 00014: LearningRateScheduler setting learning rate to 0.0005828638.\n",
            "469/468 [==============================] - 9s 18ms/step - loss: 0.2037 - acc: 0.9437 - val_loss: 0.1031 - val_acc: 0.9862\n",
            "\n",
            "Epoch 00014: val_acc did not improve from 0.98730\n",
            "Epoch 15/40\n",
            "\n",
            "Epoch 00015: LearningRateScheduler setting learning rate to 0.0005488474.\n",
            "469/468 [==============================] - 9s 18ms/step - loss: 0.1976 - acc: 0.9447 - val_loss: 0.1224 - val_acc: 0.9779\n",
            "\n",
            "Epoch 00015: val_acc did not improve from 0.98730\n",
            "Epoch 16/40\n",
            "\n",
            "Epoch 00016: LearningRateScheduler setting learning rate to 0.0005185825.\n",
            "469/468 [==============================] - 9s 18ms/step - loss: 0.1985 - acc: 0.9445 - val_loss: 0.1142 - val_acc: 0.9819\n",
            "\n",
            "Epoch 00016: val_acc did not improve from 0.98730\n",
            "Epoch 17/40\n",
            "\n",
            "Epoch 00017: LearningRateScheduler setting learning rate to 0.000491481.\n",
            "469/468 [==============================] - 9s 19ms/step - loss: 0.1925 - acc: 0.9451 - val_loss: 0.0829 - val_acc: 0.9904\n",
            "\n",
            "Epoch 00017: val_acc improved from 0.98730 to 0.99040, saving model to model.hdf5\n",
            "Epoch 18/40\n",
            "\n",
            "Epoch 00018: LearningRateScheduler setting learning rate to 0.0004670715.\n",
            "469/468 [==============================] - 9s 19ms/step - loss: 0.1856 - acc: 0.9465 - val_loss: 0.0974 - val_acc: 0.9857\n",
            "\n",
            "Epoch 00018: val_acc did not improve from 0.99040\n",
            "Epoch 19/40\n",
            "\n",
            "Epoch 00019: LearningRateScheduler setting learning rate to 0.0004449718.\n",
            "469/468 [==============================] - 9s 19ms/step - loss: 0.1854 - acc: 0.9456 - val_loss: 0.0862 - val_acc: 0.9878\n",
            "\n",
            "Epoch 00019: val_acc did not improve from 0.99040\n",
            "Epoch 20/40\n",
            "\n",
            "Epoch 00020: LearningRateScheduler setting learning rate to 0.000424869.\n",
            "469/468 [==============================] - 9s 18ms/step - loss: 0.1829 - acc: 0.9462 - val_loss: 0.0855 - val_acc: 0.9886\n",
            "\n",
            "Epoch 00020: val_acc did not improve from 0.99040\n",
            "Epoch 21/40\n",
            "\n",
            "Epoch 00021: LearningRateScheduler setting learning rate to 0.0004065041.\n",
            "469/468 [==============================] - 9s 18ms/step - loss: 0.1772 - acc: 0.9476 - val_loss: 0.0948 - val_acc: 0.9854\n",
            "\n",
            "Epoch 00021: val_acc did not improve from 0.99040\n",
            "Epoch 22/40\n",
            "\n",
            "Epoch 00022: LearningRateScheduler setting learning rate to 0.000389661.\n",
            "469/468 [==============================] - 9s 18ms/step - loss: 0.1783 - acc: 0.9461 - val_loss: 0.0835 - val_acc: 0.9876\n",
            "\n",
            "Epoch 00022: val_acc did not improve from 0.99040\n",
            "Epoch 23/40\n",
            "\n",
            "Epoch 00023: LearningRateScheduler setting learning rate to 0.0003741581.\n",
            "469/468 [==============================] - 9s 18ms/step - loss: 0.1722 - acc: 0.9485 - val_loss: 0.0829 - val_acc: 0.9870\n",
            "\n",
            "Epoch 00023: val_acc did not improve from 0.99040\n",
            "Epoch 24/40\n",
            "\n",
            "Epoch 00024: LearningRateScheduler setting learning rate to 0.0003598417.\n",
            "469/468 [==============================] - 9s 18ms/step - loss: 0.1696 - acc: 0.9476 - val_loss: 0.0769 - val_acc: 0.9893\n",
            "\n",
            "Epoch 00024: val_acc did not improve from 0.99040\n",
            "Epoch 25/40\n",
            "\n",
            "Epoch 00025: LearningRateScheduler setting learning rate to 0.0003465804.\n",
            "469/468 [==============================] - 9s 18ms/step - loss: 0.1679 - acc: 0.9482 - val_loss: 0.0814 - val_acc: 0.9881\n",
            "\n",
            "Epoch 00025: val_acc did not improve from 0.99040\n",
            "Epoch 26/40\n",
            "\n",
            "Epoch 00026: LearningRateScheduler setting learning rate to 0.0003342618.\n",
            "469/468 [==============================] - 9s 18ms/step - loss: 0.1665 - acc: 0.9488 - val_loss: 0.0771 - val_acc: 0.9884\n",
            "\n",
            "Epoch 00026: val_acc did not improve from 0.99040\n",
            "Epoch 27/40\n",
            "\n",
            "Epoch 00027: LearningRateScheduler setting learning rate to 0.0003227889.\n",
            "469/468 [==============================] - 9s 18ms/step - loss: 0.1653 - acc: 0.9488 - val_loss: 0.0860 - val_acc: 0.9862\n",
            "\n",
            "Epoch 00027: val_acc did not improve from 0.99040\n",
            "Epoch 28/40\n",
            "\n",
            "Epoch 00028: LearningRateScheduler setting learning rate to 0.0003120774.\n",
            "469/468 [==============================] - 9s 19ms/step - loss: 0.1627 - acc: 0.9496 - val_loss: 0.0796 - val_acc: 0.9869\n",
            "\n",
            "Epoch 00028: val_acc did not improve from 0.99040\n",
            "Epoch 29/40\n",
            "\n",
            "Epoch 00029: LearningRateScheduler setting learning rate to 0.000302054.\n",
            "469/468 [==============================] - 9s 18ms/step - loss: 0.1612 - acc: 0.9483 - val_loss: 0.0730 - val_acc: 0.9882\n",
            "\n",
            "Epoch 00029: val_acc did not improve from 0.99040\n",
            "Epoch 30/40\n",
            "\n",
            "Epoch 00030: LearningRateScheduler setting learning rate to 0.0002926544.\n",
            "469/468 [==============================] - 9s 18ms/step - loss: 0.1610 - acc: 0.9484 - val_loss: 0.0740 - val_acc: 0.9891\n",
            "\n",
            "Epoch 00030: val_acc did not improve from 0.99040\n",
            "Epoch 31/40\n",
            "\n",
            "Epoch 00031: LearningRateScheduler setting learning rate to 0.0002838221.\n",
            "469/468 [==============================] - 9s 18ms/step - loss: 0.1590 - acc: 0.9489 - val_loss: 0.1377 - val_acc: 0.9707\n",
            "\n",
            "Epoch 00031: val_acc did not improve from 0.99040\n",
            "Epoch 32/40\n",
            "\n",
            "Epoch 00032: LearningRateScheduler setting learning rate to 0.0002755074.\n",
            "469/468 [==============================] - 9s 18ms/step - loss: 0.1565 - acc: 0.9502 - val_loss: 0.0804 - val_acc: 0.9858\n",
            "\n",
            "Epoch 00032: val_acc did not improve from 0.99040\n",
            "Epoch 33/40\n",
            "\n",
            "Epoch 00033: LearningRateScheduler setting learning rate to 0.000267666.\n",
            "469/468 [==============================] - 9s 18ms/step - loss: 0.1558 - acc: 0.9501 - val_loss: 0.0600 - val_acc: 0.9916\n",
            "\n",
            "Epoch 00033: val_acc improved from 0.99040 to 0.99160, saving model to model.hdf5\n",
            "Epoch 34/40\n",
            "\n",
            "Epoch 00034: LearningRateScheduler setting learning rate to 0.0002602585.\n",
            "469/468 [==============================] - 9s 18ms/step - loss: 0.1538 - acc: 0.9496 - val_loss: 0.0646 - val_acc: 0.9907\n",
            "\n",
            "Epoch 00034: val_acc did not improve from 0.99160\n",
            "Epoch 35/40\n",
            "\n",
            "Epoch 00035: LearningRateScheduler setting learning rate to 0.00025325.\n",
            "469/468 [==============================] - 9s 19ms/step - loss: 0.1502 - acc: 0.9526 - val_loss: 0.0670 - val_acc: 0.9904\n",
            "\n",
            "Epoch 00035: val_acc did not improve from 0.99160\n",
            "Epoch 36/40\n",
            "\n",
            "Epoch 00036: LearningRateScheduler setting learning rate to 0.0002466091.\n",
            "469/468 [==============================] - 9s 19ms/step - loss: 0.1509 - acc: 0.9510 - val_loss: 0.0616 - val_acc: 0.9908\n",
            "\n",
            "Epoch 00036: val_acc did not improve from 0.99160\n",
            "Epoch 37/40\n",
            "\n",
            "Epoch 00037: LearningRateScheduler setting learning rate to 0.0002403076.\n",
            "469/468 [==============================] - 9s 19ms/step - loss: 0.1511 - acc: 0.9507 - val_loss: 0.0672 - val_acc: 0.9898\n",
            "\n",
            "Epoch 00037: val_acc did not improve from 0.99160\n",
            "Epoch 38/40\n",
            "\n",
            "Epoch 00038: LearningRateScheduler setting learning rate to 0.0002343201.\n",
            "469/468 [==============================] - 9s 18ms/step - loss: 0.1497 - acc: 0.9506 - val_loss: 0.0618 - val_acc: 0.9911\n",
            "\n",
            "Epoch 00038: val_acc did not improve from 0.99160\n",
            "Epoch 39/40\n",
            "\n",
            "Epoch 00039: LearningRateScheduler setting learning rate to 0.0002286237.\n",
            "469/468 [==============================] - 9s 18ms/step - loss: 0.1490 - acc: 0.9498 - val_loss: 0.0663 - val_acc: 0.9892\n",
            "\n",
            "Epoch 00039: val_acc did not improve from 0.99160\n",
            "Epoch 40/40\n",
            "\n",
            "Epoch 00040: LearningRateScheduler setting learning rate to 0.0002231977.\n",
            "469/468 [==============================] - 9s 18ms/step - loss: 0.1475 - acc: 0.9520 - val_loss: 0.0623 - val_acc: 0.9912\n",
            "\n",
            "Epoch 00040: val_acc did not improve from 0.99160\n"
          ],
          "name": "stdout"
        },
        {
          "output_type": "execute_result",
          "data": {
            "text/plain": [
              "<keras.callbacks.History at 0x7fb9c37c6e48>"
            ]
          },
          "metadata": {
            "tags": []
          },
          "execution_count": 81
        }
      ]
    },
    {
      "cell_type": "code",
      "metadata": {
        "id": "WLxlW9ufyQiO",
        "colab_type": "code",
        "outputId": "34f4eb35-63da-46f4-febe-7987edd2d088",
        "colab": {
          "base_uri": "https://localhost:8080/",
          "height": 1312
        }
      },
      "source": [
        "from keras.models import load_model\n",
        "#loading the model\n",
        "model = load_model('model.hdf5')\n",
        "iterator = datagen_validation.flow(X_test, Y_test, batch_size=128, shuffle=False)\n",
        "#evaluating the score\n",
        "\n",
        "score = model.evaluate_generator(iterator,steps=len(iterator))\n",
        "print(\"Score:- \",score)\n",
        "iterator = datagen_validation.flow(X_test, Y_test, batch_size=128, shuffle=False)\n",
        "predictions = model.predict_generator(iterator,steps=len(iterator))\n",
        "\n",
        "#Printin the misclassified images\n",
        "show_misclassified(X_test, Y_test, predictions[:len(Y_test)], \n",
        "                   classes=get_mnist_labels(),columns=5, total=25, \n",
        "                       pick_randomly=True, image_size_multiplier=4)"
      ],
      "execution_count": 82,
      "outputs": [
        {
          "output_type": "stream",
          "text": [
            "Score:-  [0.059969704830646516, 0.9916]\n"
          ],
          "name": "stdout"
        },
        {
          "output_type": "display_data",
          "data": {
            "image/png": "[encoded data removed]",
            "text/plain": [
              "<Figure size 1440x2880 with 25 Axes>"
            ]
          },
          "metadata": {
            "tags": []
          }
        }
      ]
    }
  ]
}