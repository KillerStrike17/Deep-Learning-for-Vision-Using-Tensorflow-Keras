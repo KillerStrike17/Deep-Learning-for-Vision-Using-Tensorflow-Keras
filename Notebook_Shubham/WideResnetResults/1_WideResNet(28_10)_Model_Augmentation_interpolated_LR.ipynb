{
  "nbformat": 4,
  "nbformat_minor": 0,
  "metadata": {
    "colab": {
      "name": "1 - WideResNet(28 - 10) Model Augmentation - interpolated LR.ipynb",
      "provenance": [],
      "collapsed_sections": [],
      "include_colab_link": true
    },
    "kernelspec": {
      "name": "python3",
      "display_name": "Python 3"
    },
    "accelerator": "GPU"
  },
  "cells": [
    {
      "cell_type": "markdown",
      "metadata": {
        "id": "view-in-github",
        "colab_type": "text"
      },
      "source": [
        "<a href=\"https://colab.research.google.com/github/KillerStrike17/EVA---Session-1-Basics-Of-DNN/blob/master/Notebook_Shubham/WideResnetResults/1_WideResNet(28_10)_Model_Augmentation_interpolated_LR.ipynb\" target=\"_parent\"><img src=\"https://colab.research.google.com/assets/colab-badge.svg\" alt=\"Open In Colab\"/></a>"
      ]
    },
    {
      "cell_type": "markdown",
      "metadata": {
        "id": "ynqEXKR8Quk9",
        "colab_type": "text"
      },
      "source": [
        "### Choose tf2 backend on colab"
      ]
    },
    {
      "cell_type": "code",
      "metadata": {
        "id": "gzpm6z7xyQ2m",
        "colab_type": "code",
        "outputId": "24c062e2-8f49-4431-ead2-5b3b71699e21",
        "colab": {
          "base_uri": "https://localhost:8080/",
          "height": 416
        }
      },
      "source": [
        "from __future__ import absolute_import, division, print_function, unicode_literals\n",
        "\n",
        "# Install TensorFlow\n",
        "try:\n",
        "  # %tensorflow_version only exists in Colab.\n",
        "  %tensorflow_version 2.x\n",
        "except Exception:\n",
        "  pass\n",
        "\n",
        "#import tensorflow as tf\n",
        "!pip install tensorflow_addons\n",
        "import tensorflow_addons as tfa\n",
        "import tensorflow as tf"
      ],
      "execution_count": 0,
      "outputs": [
        {
          "output_type": "stream",
          "text": [
            "TensorFlow 2.x selected.\n",
            "Requirement already satisfied: tensorflow_addons in /usr/local/lib/python3.6/dist-packages (0.6.0)\n",
            "Requirement already satisfied: tensorflow-gpu==2.0.0 in /usr/local/lib/python3.6/dist-packages (from tensorflow_addons) (2.0.0)\n",
            "Requirement already satisfied: six>=1.10.0 in /tensorflow-2.0.0-rc2/python3.6 (from tensorflow_addons) (1.12.0)\n",
            "Requirement already satisfied: keras-applications>=1.0.8 in /tensorflow-2.0.0-rc2/python3.6 (from tensorflow-gpu==2.0.0->tensorflow_addons) (1.0.8)\n",
            "Requirement already satisfied: absl-py>=0.7.0 in /tensorflow-2.0.0-rc2/python3.6 (from tensorflow-gpu==2.0.0->tensorflow_addons) (0.8.1)\n",
            "Requirement already satisfied: google-pasta>=0.1.6 in /tensorflow-2.0.0-rc2/python3.6 (from tensorflow-gpu==2.0.0->tensorflow_addons) (0.1.7)\n",
            "Requirement already satisfied: numpy<2.0,>=1.16.0 in /tensorflow-2.0.0-rc2/python3.6 (from tensorflow-gpu==2.0.0->tensorflow_addons) (1.17.2)\n",
            "Requirement already satisfied: protobuf>=3.6.1 in /tensorflow-2.0.0-rc2/python3.6 (from tensorflow-gpu==2.0.0->tensorflow_addons) (3.10.0)\n",
            "Requirement already satisfied: wheel>=0.26 in /tensorflow-2.0.0-rc2/python3.6 (from tensorflow-gpu==2.0.0->tensorflow_addons) (0.33.6)\n",
            "Requirement already satisfied: tensorflow-estimator<2.1.0,>=2.0.0 in /usr/local/lib/python3.6/dist-packages (from tensorflow-gpu==2.0.0->tensorflow_addons) (2.0.0)\n",
            "Requirement already satisfied: termcolor>=1.1.0 in /tensorflow-2.0.0-rc2/python3.6 (from tensorflow-gpu==2.0.0->tensorflow_addons) (1.1.0)\n",
            "Requirement already satisfied: astor>=0.6.0 in /tensorflow-2.0.0-rc2/python3.6 (from tensorflow-gpu==2.0.0->tensorflow_addons) (0.8.0)\n",
            "Requirement already satisfied: grpcio>=1.8.6 in /tensorflow-2.0.0-rc2/python3.6 (from tensorflow-gpu==2.0.0->tensorflow_addons) (1.24.1)\n",
            "Requirement already satisfied: wrapt>=1.11.1 in /tensorflow-2.0.0-rc2/python3.6 (from tensorflow-gpu==2.0.0->tensorflow_addons) (1.11.2)\n",
            "Requirement already satisfied: gast==0.2.2 in /tensorflow-2.0.0-rc2/python3.6 (from tensorflow-gpu==2.0.0->tensorflow_addons) (0.2.2)\n",
            "Requirement already satisfied: tensorboard<2.1.0,>=2.0.0 in /tensorflow-2.0.0-rc2/python3.6 (from tensorflow-gpu==2.0.0->tensorflow_addons) (2.0.0)\n",
            "Requirement already satisfied: keras-preprocessing>=1.0.5 in /tensorflow-2.0.0-rc2/python3.6 (from tensorflow-gpu==2.0.0->tensorflow_addons) (1.1.0)\n",
            "Requirement already satisfied: opt-einsum>=2.3.2 in /tensorflow-2.0.0-rc2/python3.6 (from tensorflow-gpu==2.0.0->tensorflow_addons) (3.1.0)\n",
            "Requirement already satisfied: h5py in /tensorflow-2.0.0-rc2/python3.6 (from keras-applications>=1.0.8->tensorflow-gpu==2.0.0->tensorflow_addons) (2.10.0)\n",
            "Requirement already satisfied: setuptools in /tensorflow-2.0.0-rc2/python3.6 (from protobuf>=3.6.1->tensorflow-gpu==2.0.0->tensorflow_addons) (41.4.0)\n",
            "Requirement already satisfied: markdown>=2.6.8 in /tensorflow-2.0.0-rc2/python3.6 (from tensorboard<2.1.0,>=2.0.0->tensorflow-gpu==2.0.0->tensorflow_addons) (3.1.1)\n",
            "Requirement already satisfied: werkzeug>=0.11.15 in /tensorflow-2.0.0-rc2/python3.6 (from tensorboard<2.1.0,>=2.0.0->tensorflow-gpu==2.0.0->tensorflow_addons) (0.16.0)\n"
          ],
          "name": "stdout"
        }
      ]
    },
    {
      "cell_type": "markdown",
      "metadata": {
        "id": "jFPFRpPDQ2e6",
        "colab_type": "text"
      },
      "source": [
        "### Install tf_utils"
      ]
    },
    {
      "cell_type": "code",
      "metadata": {
        "id": "E0yHfmeMv-rI",
        "colab_type": "code",
        "outputId": "3c464c47-01ad-4fb6-f385-cfd468f85daa",
        "colab": {
          "base_uri": "https://localhost:8080/",
          "height": 242
        }
      },
      "source": [
        "!pip install --upgrade git+https://github.com/ravindrabharathi/tf_utils "
      ],
      "execution_count": 0,
      "outputs": [
        {
          "output_type": "stream",
          "text": [
            "Collecting git+https://github.com/ravindrabharathi/tf_utils\n",
            "  Cloning https://github.com/ravindrabharathi/tf_utils to /tmp/pip-req-build-w06egld9\n",
            "  Running command git clone -q https://github.com/ravindrabharathi/tf_utils /tmp/pip-req-build-w06egld9\n",
            "Building wheels for collected packages: tf-utils\n",
            "  Building wheel for tf-utils (setup.py) ... \u001b[?25l\u001b[?25hdone\n",
            "  Created wheel for tf-utils: filename=tf_utils-0.2-cp36-none-any.whl size=8945 sha256=89cd7b0974bd24152f16ab20e79bfd77bb290b1ae27b47cbef876ec80df65b53\n",
            "  Stored in directory: /tmp/pip-ephem-wheel-cache-gy32g90s/wheels/95/af/bb/690b94c65a5aad47a5c39e75f158a2b043448e908c5c121791\n",
            "Successfully built tf-utils\n",
            "Installing collected packages: tf-utils\n",
            "  Found existing installation: tf-utils 0.2\n",
            "    Uninstalling tf-utils-0.2:\n",
            "      Successfully uninstalled tf-utils-0.2\n",
            "Successfully installed tf-utils-0.2\n"
          ],
          "name": "stdout"
        }
      ]
    },
    {
      "cell_type": "markdown",
      "metadata": {
        "id": "VH-5ffTMQ8ms",
        "colab_type": "text"
      },
      "source": [
        "### import the data module"
      ]
    },
    {
      "cell_type": "code",
      "metadata": {
        "id": "NBcelJMpwYoX",
        "colab_type": "code",
        "outputId": "d9888e4a-751c-4cf6-a4b9-aadad54c09ef",
        "colab": {
          "base_uri": "https://localhost:8080/",
          "height": 34
        }
      },
      "source": [
        "import tf_utils.data as ds"
      ],
      "execution_count": 0,
      "outputs": [
        {
          "output_type": "stream",
          "text": [
            "Finished 'get_cpu_num' in 0.0000 secs\n"
          ],
          "name": "stdout"
        }
      ]
    },
    {
      "cell_type": "markdown",
      "metadata": {
        "id": "Vb0kbJalRCPJ",
        "colab_type": "text"
      },
      "source": [
        "### set batch size"
      ]
    },
    {
      "cell_type": "code",
      "metadata": {
        "id": "VJTA3CO8xOtg",
        "colab_type": "code",
        "colab": {}
      },
      "source": [
        "batch_size=128\n",
        "ds.batch_size=batch_size\n",
        "EPOCHS=200"
      ],
      "execution_count": 0,
      "outputs": []
    },
    {
      "cell_type": "markdown",
      "metadata": {
        "id": "oTroxaquRE2Z",
        "colab_type": "text"
      },
      "source": [
        "### downlaod data and create tf records"
      ]
    },
    {
      "cell_type": "code",
      "metadata": {
        "id": "zF3qoDnbykb6",
        "colab_type": "code",
        "outputId": "d783aea8-50b1-475d-fa14-01fc84c7e8ee",
        "colab": {
          "base_uri": "https://localhost:8080/",
          "height": 173
        }
      },
      "source": [
        "ds.get_cifar10_and_create_tfrecords()"
      ],
      "execution_count": 0,
      "outputs": [
        {
          "output_type": "stream",
          "text": [
            "dataset archive file exists!\n",
            "Finished 'download_cifar10_files' in 0.0009 secs\n",
            "./cifar10_data/cifar-10-batches-py/ is not empty and has test_batch file!\n",
            "Finished 'extract_cifar10_files' in 0.0011 secs\n",
            "Finished '_get_file_names' in 0.0000 secs\n",
            "train.tfrecords exists!\n",
            "eval.tfrecords exists!\n",
            "Finished 'create_tf_records' in 0.0018 secs\n",
            "Finished 'get_cifar10_and_create_tfrecords' in 0.0047 secs\n"
          ],
          "name": "stdout"
        }
      ]
    },
    {
      "cell_type": "markdown",
      "metadata": {
        "id": "7U-_CmC6RKDF",
        "colab_type": "text"
      },
      "source": [
        "### create train and test dataset"
      ]
    },
    {
      "cell_type": "code",
      "metadata": {
        "id": "1lYOp7UKyoG5",
        "colab_type": "code",
        "outputId": "341b5715-e800-49ca-92a9-9bc8cd0e802e",
        "colab": {
          "base_uri": "https://localhost:8080/",
          "height": 190
        }
      },
      "source": [
        "train_ds1=ds.get_train_ds(batch_size=batch_size,shuffle=True,distort=True)\n",
        "train_ds2=ds.get_train_ds(batch_size=batch_size,shuffle=True,distort=False)\n",
        "\n",
        "test_ds=ds.get_eval_ds(batch_size=batch_size)"
      ],
      "execution_count": 0,
      "outputs": [
        {
          "output_type": "stream",
          "text": [
            "distorting image\n",
            "Finished 'get_tf_dataset' in 1.7325 secs\n",
            "Finished 'get_tf_dataset_in_batches' in 1.7329 secs\n",
            "Finished 'get_train_ds' in 1.7331 secs\n",
            "Finished 'get_tf_dataset' in 0.1609 secs\n",
            "Finished 'get_tf_dataset_in_batches' in 0.1612 secs\n",
            "Finished 'get_train_ds' in 0.1613 secs\n",
            "Finished 'get_tf_dataset' in 0.0268 secs\n",
            "Finished 'get_tf_dataset_in_batches' in 0.0270 secs\n",
            "Finished 'get_eval_ds' in 0.0272 secs\n"
          ],
          "name": "stdout"
        }
      ]
    },
    {
      "cell_type": "markdown",
      "metadata": {
        "id": "-7z9t4e5RRbH",
        "colab_type": "text"
      },
      "source": [
        "### import visualization module"
      ]
    },
    {
      "cell_type": "code",
      "metadata": {
        "id": "xHq2g5VjzmDz",
        "colab_type": "code",
        "colab": {}
      },
      "source": [
        "import tf_utils.visualize as vz"
      ],
      "execution_count": 0,
      "outputs": []
    },
    {
      "cell_type": "markdown",
      "metadata": {
        "id": "utItaz0RRXft",
        "colab_type": "text"
      },
      "source": [
        "### plot images from train dataset1 , train dataset by default uses image augmenttation of cutout,flip-left-right,random-pad-crop "
      ]
    },
    {
      "cell_type": "code",
      "metadata": {
        "id": "pvonf0IP0uOX",
        "colab_type": "code",
        "outputId": "8e0b3758-96fa-41e1-c14a-e3ed55d9e53f",
        "colab": {
          "base_uri": "https://localhost:8080/",
          "height": 1000
        }
      },
      "source": [
        "vz.plot_cifar10_files(train_ds1)"
      ],
      "execution_count": 0,
      "outputs": [
        {
          "output_type": "display_data",
          "data": {
            "image/png": "[encoded data removed]",
            "text/plain": [
              "<Figure size 432x288 with 1 Axes>"
            ]
          },
          "metadata": {
            "tags": []
          }
        },
        {
          "output_type": "display_data",
          "data": {
            "image/png": "[encoded data removed]",
            "text/plain": [
              "<Figure size 432x288 with 1 Axes>"
            ]
          },
          "metadata": {
            "tags": []
          }
        },
        {
          "output_type": "display_data",
          "data": {
            "image/png": "[encoded data removed]",
            "text/plain": [
              "<Figure size 432x288 with 1 Axes>"
            ]
          },
          "metadata": {
            "tags": []
          }
        },
        {
          "output_type": "display_data",
          "data": {
            "image/png": "[encoded data removed]",
            "text/plain": [
              "<Figure size 432x288 with 1 Axes>"
            ]
          },
          "metadata": {
            "tags": []
          }
        },
        {
          "output_type": "display_data",
          "data": {
            "image/png": "[encoded data removed]",
            "text/plain": [
              "<Figure size 432x288 with 1 Axes>"
            ]
          },
          "metadata": {
            "tags": []
          }
        }
      ]
    },
    {
      "cell_type": "code",
      "metadata": {
        "id": "jKnsdKUUovds",
        "colab_type": "code",
        "outputId": "8f473383-84cb-417e-e91c-fba44e725f6a",
        "colab": {
          "base_uri": "https://localhost:8080/",
          "height": 1000
        }
      },
      "source": [
        "vz.plot_cifar10_files(train_ds2)"
      ],
      "execution_count": 0,
      "outputs": [
        {
          "output_type": "display_data",
          "data": {
            "image/png": "[encoded data removed]",
            "text/plain": [
              "<Figure size 432x288 with 1 Axes>"
            ]
          },
          "metadata": {
            "tags": []
          }
        },
        {
          "output_type": "display_data",
          "data": {
            "image/png": "[encoded data removed]",
            "text/plain": [
              "<Figure size 432x288 with 1 Axes>"
            ]
          },
          "metadata": {
            "tags": []
          }
        },
        {
          "output_type": "display_data",
          "data": {
            "image/png": "[encoded data removed]",
            "text/plain": [
              "<Figure size 432x288 with 1 Axes>"
            ]
          },
          "metadata": {
            "tags": []
          }
        },
        {
          "output_type": "display_data",
          "data": {
            "image/png": "[encoded data removed]",
            "text/plain": [
              "<Figure size 432x288 with 1 Axes>"
            ]
          },
          "metadata": {
            "tags": []
          }
        },
        {
          "output_type": "display_data",
          "data": {
            "image/png": "[encoded data removed]",
            "text/plain": [
              "<Figure size 432x288 with 1 Axes>"
            ]
          },
          "metadata": {
            "tags": []
          }
        }
      ]
    },
    {
      "cell_type": "code",
      "metadata": {
        "id": "1sp9Qy173e1o",
        "colab_type": "code",
        "outputId": "9eb6c2a6-4cde-4904-d5a3-cf9a68efd5bd",
        "colab": {
          "base_uri": "https://localhost:8080/",
          "height": 34
        }
      },
      "source": [
        "print(tf.__version__)"
      ],
      "execution_count": 0,
      "outputs": [
        {
          "output_type": "stream",
          "text": [
            "2.0.0\n"
          ],
          "name": "stdout"
        }
      ]
    },
    {
      "cell_type": "markdown",
      "metadata": {
        "id": "7qN5z9vjRsvL",
        "colab_type": "text"
      },
      "source": [
        "### Training - Build model , compile and train "
      ]
    },
    {
      "cell_type": "code",
      "metadata": {
        "id": "m26XDkJi1YyS",
        "colab_type": "code",
        "colab": {}
      },
      "source": [
        "import numpy as np\n",
        "import math\n",
        "weight_decay=5e-4\n",
        "def aug_fn1(img):\n",
        "  shp=img.get_shape().as_list()\n",
        "  out_shp=[shp[0],shp[1],shp[2]]\n",
        "  return ds.flip_left_right(ds.random_crop(ds.cutout(ds.pad_img(img,padding=4),100,size=16),out_shape=out_shp))\n",
        "\n",
        "def aug1(image):\n",
        "  print('is_training',is_training)\n",
        "  if is_training:\n",
        "    \n",
        "    #return tf.map_fn(lambda img: aug_fn1(img),image,parallel_iterations=ds.CPU_CORES,back_prop=is_training) \n",
        "    return tf.map_fn(lambda img: aug_fn1(img) ,image,parallel_iterations=10*ds.CPU_CORES,back_prop=is_training)    \n",
        "  else:\n",
        "    print('inside validation cycle\\n===============\\n')\n",
        "    return image  \n",
        "\n",
        "\n",
        "def aug_fn2(img):\n",
        "  shp=img.get_shape().as_list()\n",
        "  out_shp=[shp[0],shp[1],shp[2]]\n",
        "  return ds.flip_left_right(ds.random_crop(ds.cutout(ds.pad_img(img,padding=4),100,size=8),out_shape=out_shp))\n",
        "\n",
        "def aug2(image):\n",
        "  print('is_training',is_training)\n",
        "  if is_training:\n",
        "    \n",
        "    #return tf.map_fn(lambda img: aug_fn1(img),image,parallel_iterations=ds.CPU_CORES,back_prop=is_training) \n",
        "    return tf.map_fn(lambda img: aug_fn2(img) ,image,parallel_iterations=10*ds.CPU_CORES,back_prop=is_training)    \n",
        "  else:\n",
        "    print('inside validation cycle\\n===============\\n')\n",
        "    return image  \n",
        "\n",
        "\n",
        "def aug_fn3(img):\n",
        "  shp=img.get_shape().as_list()\n",
        "  out_shp=[shp[0],shp[1],shp[2]]\n",
        "  return ds.flip_left_right(ds.random_crop(ds.cutout(ds.pad_img(img,padding=4),100,size=4),out_shape=out_shp))\n",
        "\n",
        "def aug3(image):\n",
        "  print('is_training',is_training)\n",
        "  if is_training:\n",
        "    \n",
        "    #return tf.map_fn(lambda img: aug_fn1(img),image,parallel_iterations=ds.CPU_CORES,back_prop=is_training) \n",
        "    return tf.map_fn(lambda img: aug_fn3(img) ,image,parallel_iterations=10*ds.CPU_CORES,back_prop=is_training)    \n",
        "  else:\n",
        "    print('inside validation cycle\\n===============\\n')\n",
        "    return image  "
      ],
      "execution_count": 0,
      "outputs": []
    },
    {
      "cell_type": "code",
      "metadata": {
        "id": "FY-E056n7Ipb",
        "colab_type": "code",
        "colab": {}
      },
      "source": [
        "from __future__ import absolute_import, division, print_function, unicode_literals\n",
        "\n",
        "import tensorflow as tf\n",
        "\n",
        "from tensorflow import keras\n",
        "tf.keras.backend.clear_session()  \n",
        "from tensorflow.keras.models import Model\n",
        "from tensorflow.keras.layers import Input, GlobalAveragePooling2D,  Activation, GlobalMaxPooling2D, Add\n",
        "from tensorflow.keras.layers import Convolution2D, MaxPooling2D, BatchNormalization , Dense, Lambda, AveragePooling2D, Flatten,Dropout\n",
        "from tensorflow.keras import backend as K\n",
        "from tensorflow.keras.optimizers import Adam,SGD\n",
        "from tensorflow.keras.regularizers import l2\n"
      ],
      "execution_count": 0,
      "outputs": []
    },
    {
      "cell_type": "code",
      "metadata": {
        "id": "udo0uZRu2py6",
        "colab_type": "code",
        "colab": {}
      },
      "source": [
        "def initial_conv(input):\n",
        "    x = Convolution2D(16, (3, 3), padding='same', kernel_initializer='he_normal',\n",
        "                      kernel_regularizer=l2(weight_decay),\n",
        "                      use_bias=False)(input)\n",
        "\n",
        "    channel_axis = 1 if K.image_data_format() == \"channels_first\" else -1\n",
        "\n",
        "    x = BatchNormalization(axis=channel_axis, momentum=0.1, epsilon=1e-5, gamma_initializer='uniform')(x)\n",
        "    x = Activation('relu')(x)\n",
        "    return x\n",
        "\n",
        "def expand_conv(init, base, k, strides=(1, 1)):\n",
        "    x = Convolution2D(base * k, (3, 3), padding='same', strides=strides, kernel_initializer='he_normal',\n",
        "                      kernel_regularizer=l2(weight_decay),\n",
        "                      use_bias=False)(init)\n",
        "\n",
        "    channel_axis = 1 if K.image_data_format() == \"channels_first\" else -1\n",
        "\n",
        "    x = BatchNormalization(axis=channel_axis, momentum=0.1, epsilon=1e-5, gamma_initializer='uniform')(x)\n",
        "    x = Activation('relu')(x)\n",
        "\n",
        "    x = Convolution2D(base * k, (3, 3), padding='same', kernel_initializer='he_normal',\n",
        "                      kernel_regularizer=l2(weight_decay),\n",
        "                      use_bias=False)(x)\n",
        "\n",
        "    skip = Convolution2D(base * k, (1, 1), padding='same', strides=strides, kernel_initializer='he_normal',\n",
        "                      kernel_regularizer=l2(weight_decay),\n",
        "                      use_bias=False)(init)\n",
        "\n",
        "    m = Add()([x, skip])\n",
        "\n",
        "    return m\n",
        "def conv1_block(input, k=1, dropout=0.0):\n",
        "    init = input\n",
        "\n",
        "    channel_axis = 1 if K.image_data_format() == \"channels_first\" else -1\n",
        "\n",
        "    x = BatchNormalization(axis=channel_axis, momentum=0.1, epsilon=1e-5, gamma_initializer='uniform')(input)\n",
        "    x = Activation('relu')(x)\n",
        "    x = Convolution2D(16 * k, (3, 3), padding='same', kernel_initializer='he_normal',\n",
        "                      kernel_regularizer=l2(weight_decay),\n",
        "                      use_bias=False)(x)\n",
        "\n",
        "    if dropout > 0.0: x = Dropout(dropout)(x)\n",
        "\n",
        "    x = BatchNormalization(axis=channel_axis, momentum=0.1, epsilon=1e-5, gamma_initializer='uniform')(x)\n",
        "    x = Activation('relu')(x)\n",
        "    x = Convolution2D(16 * k, (3, 3), padding='same', kernel_initializer='he_normal',\n",
        "                      kernel_regularizer=l2(weight_decay),\n",
        "                      use_bias=False)(x)\n",
        "\n",
        "    m = Add()([init, x])\n",
        "    return m\n",
        "\n",
        "def conv2_block(input, k=1, dropout=0.0):\n",
        "    init = input\n",
        "\n",
        "    channel_axis = 1 if K.image_data_format() == \"th\" else -1\n",
        "\n",
        "    x = BatchNormalization(axis=channel_axis, momentum=0.1, epsilon=1e-5, gamma_initializer='uniform')(input)\n",
        "    x = Activation('relu')(x)\n",
        "    x = Convolution2D(32 * k, (3, 3), padding='same', kernel_initializer='he_normal',\n",
        "                      kernel_regularizer=l2(weight_decay),\n",
        "                      use_bias=False)(x)\n",
        "\n",
        "    if dropout > 0.0: x = Dropout(dropout)(x)\n",
        "\n",
        "    x = BatchNormalization(axis=channel_axis, momentum=0.1, epsilon=1e-5, gamma_initializer='uniform')(x)\n",
        "    x = Activation('relu')(x)\n",
        "    x = Convolution2D(32 * k, (3, 3), padding='same', kernel_initializer='he_normal',\n",
        "                      kernel_regularizer=l2(weight_decay),\n",
        "                      use_bias=False)(x)\n",
        "\n",
        "    m = Add()([init, x])\n",
        "    return m\n",
        "\n",
        "def conv3_block(input, k=1, dropout=0.0):\n",
        "    init = input\n",
        "\n",
        "    channel_axis = 1 if K.image_data_format() == \"th\" else -1\n",
        "\n",
        "    x = BatchNormalization(axis=channel_axis, momentum=0.1, epsilon=1e-5, gamma_initializer='uniform')(input)\n",
        "    x = Activation('relu')(x)\n",
        "    x = Convolution2D(64 * k, (3, 3), padding='same', kernel_initializer='he_normal',\n",
        "                      kernel_regularizer=l2(weight_decay),\n",
        "                      use_bias=False)(x)\n",
        "\n",
        "    if dropout > 0.0: x = Dropout(dropout)(x)\n",
        "\n",
        "    x = BatchNormalization(axis=channel_axis, momentum=0.1, epsilon=1e-5, gamma_initializer='uniform')(x)\n",
        "    x = Activation('relu')(x)\n",
        "    x = Convolution2D(64 * k, (3, 3), padding='same', kernel_initializer='he_normal',\n",
        "                      kernel_regularizer=l2(weight_decay),\n",
        "                      use_bias=False)(x)\n",
        "\n",
        "    m = Add()([init, x])\n",
        "    return m\n",
        "\n",
        "def create_wide_residual_network(input_dim, nb_classes=100, N=2, k=1, dropout=0.0, verbose=1,model_param =0):\n",
        "    \"\"\"\n",
        "    Creates a Wide Residual Network with specified parameters\n",
        "    :param input: Input Keras object\n",
        "    :param nb_classes: Number of output classes\n",
        "    :param N: Depth of the network. Compute N = (n - 4) / 6.\n",
        "              Example : For a depth of 16, n = 16, N = (16 - 4) / 6 = 2\n",
        "              Example2: For a depth of 28, n = 28, N = (28 - 4) / 6 = 4\n",
        "              Example3: For a depth of 40, n = 40, N = (40 - 4) / 6 = 6\n",
        "    :param k: Width of the network.\n",
        "    :param dropout: Adds dropout if value is greater than 0.0\n",
        "    :param verbose: Debug info to describe created WRN\n",
        "    :return:\n",
        "    \"\"\"\n",
        "    channel_axis = 1 if K.image_data_format() == \"channels_first\" else -1\n",
        "\n",
        "    ip = Input(shape=input_dim)\n",
        "\n",
        "    x = initial_conv(ip)\n",
        "    nb_conv = 4\n",
        "\n",
        "    x = expand_conv(x, 16, k)\n",
        "    if model_param == 1:\n",
        "      x = Lambda(aug1)(x)\n",
        "\n",
        "    nb_conv += 2\n",
        "\n",
        "    for i in range(N - 1):\n",
        "        x = conv1_block(x, k, dropout)\n",
        "        nb_conv += 2\n",
        "\n",
        "    x = BatchNormalization(axis=channel_axis, momentum=0.1, epsilon=1e-5, gamma_initializer='uniform')(x)\n",
        "    x = Activation('relu')(x)\n",
        "\n",
        "\n",
        "    x = expand_conv(x, 32, k, strides=(2, 2))\n",
        "    if model_param == 2:\n",
        "      x = Lambda(aug2)(x)\n",
        "\n",
        "    nb_conv += 2\n",
        "\n",
        "    for i in range(N - 1):\n",
        "        x = conv2_block(x, k, dropout)\n",
        "        nb_conv += 2\n",
        "\n",
        "    x = BatchNormalization(axis=channel_axis, momentum=0.1, epsilon=1e-5, gamma_initializer='uniform')(x)\n",
        "    x = Activation('relu')(x)\n",
        "\n",
        "    x = expand_conv(x, 64, k, strides=(2, 2))\n",
        "    if model_param == 3:\n",
        "      x = Lambda(aug3)(x)\n",
        "    nb_conv += 2\n",
        "\n",
        "    for i in range(N - 1):\n",
        "        x = conv3_block(x, k, dropout)\n",
        "        nb_conv += 2\n",
        "\n",
        "    x = BatchNormalization(axis=channel_axis, momentum=0.1, epsilon=1e-5, gamma_initializer='uniform')(x)\n",
        "    x = Activation('relu')(x)\n",
        "\n",
        "    x = AveragePooling2D((8, 8))(x)\n",
        "    x = Flatten()(x)\n",
        "\n",
        "    x = Dense(nb_classes, kernel_regularizer=l2(weight_decay), activation='softmax')(x)\n",
        "\n",
        "    model = Model(ip, x)\n",
        "\n",
        "    if verbose: print(\"Wide Residual Network-%d-%d created.\" % (nb_conv, k))\n",
        "    return model\n"
      ],
      "execution_count": 0,
      "outputs": []
    },
    {
      "cell_type": "code",
      "metadata": {
        "id": "nR5iyCvy9XUs",
        "colab_type": "code",
        "colab": {}
      },
      "source": [
        ""
      ],
      "execution_count": 0,
      "outputs": []
    },
    {
      "cell_type": "code",
      "metadata": {
        "id": "L8fQc_Ji9ycm",
        "colab_type": "code",
        "outputId": "38416e05-5044-4804-8c72-43bf3f1532dc",
        "colab": {
          "base_uri": "https://localhost:8080/",
          "height": 182
        }
      },
      "source": [
        "from tensorflow.keras.utils import plot_model\n",
        "plot_model(model)"
      ],
      "execution_count": 0,
      "outputs": [
        {
          "output_type": "error",
          "ename": "NameError",
          "evalue": "ignored",
          "traceback": [
            "\u001b[0;31m---------------------------------------------------------------------------\u001b[0m",
            "\u001b[0;31mNameError\u001b[0m                                 Traceback (most recent call last)",
            "\u001b[0;32m<ipython-input-14-31ed56d03f0e>\u001b[0m in \u001b[0;36m<module>\u001b[0;34m()\u001b[0m\n\u001b[1;32m      1\u001b[0m \u001b[0;32mfrom\u001b[0m \u001b[0mtensorflow\u001b[0m\u001b[0;34m.\u001b[0m\u001b[0mkeras\u001b[0m\u001b[0;34m.\u001b[0m\u001b[0mutils\u001b[0m \u001b[0;32mimport\u001b[0m \u001b[0mplot_model\u001b[0m\u001b[0;34m\u001b[0m\u001b[0;34m\u001b[0m\u001b[0m\n\u001b[0;32m----> 2\u001b[0;31m \u001b[0mplot_model\u001b[0m\u001b[0;34m(\u001b[0m\u001b[0mmodel\u001b[0m\u001b[0;34m)\u001b[0m\u001b[0;34m\u001b[0m\u001b[0;34m\u001b[0m\u001b[0m\n\u001b[0m",
            "\u001b[0;31mNameError\u001b[0m: name 'model' is not defined"
          ]
        }
      ]
    },
    {
      "cell_type": "code",
      "metadata": {
        "id": "4nng9bFm1rQq",
        "colab_type": "code",
        "colab": {}
      },
      "source": [
        "\n",
        "from tensorflow.keras.callbacks import LearningRateScheduler\n",
        "\n",
        "def lr_schedule():\n",
        "    \n",
        "    def schedule(epoch):\n",
        "\n",
        "      lr=lr1=np.interp([epoch],[0, 60,120,160], [0.1, 0.02, 0.004,0.0008])[0]\n",
        "      print('epoch ', epoch+1, ': setting learning rate to ',lr1)\n",
        "      return lr\n",
        "    \n",
        "    return LearningRateScheduler(schedule)\n",
        "\n",
        "lr_sched = lr_schedule()"
      ],
      "execution_count": 0,
      "outputs": []
    },
    {
      "cell_type": "code",
      "metadata": {
        "id": "eHO9x1JnOjAs",
        "colab_type": "code",
        "colab": {}
      },
      "source": [
        ""
      ],
      "execution_count": 0,
      "outputs": []
    },
    {
      "cell_type": "code",
      "metadata": {
        "id": "6R8TUyCAA8--",
        "colab_type": "code",
        "outputId": "5f5b77c9-4386-4c48-dc8c-b1f5c8124ff5",
        "colab": {
          "base_uri": "https://localhost:8080/",
          "height": 1000
        }
      },
      "source": [
        "for i in [0]:\n",
        "  init = (32, 32, 3)\n",
        "  is_training = True\n",
        "  model = create_wide_residual_network(init, nb_classes=10, N=4, k=10, dropout=0.3,model_param = i)\n",
        "\n",
        "  model.summary()\n",
        "\n",
        "\n",
        "  opt=SGD(lr=0.1,momentum=0.9,nesterov=True)\n",
        "  model.compile(loss='categorical_crossentropy',\n",
        "            optimizer=opt,metrics=['accuracy']\n",
        "            )\n",
        "  train_ds=train_ds2  \n",
        "  model.fit(train_ds,epochs=EPOCHS, steps_per_epoch=np.ceil(50000/batch_size), \n",
        "          callbacks=[lr_sched],\n",
        "          verbose=1,validation_data = test_ds, validation_steps = np.ceil(10000/batch_size))\n",
        "  #score=model.evaluate(test_ds, steps =np.ceil(10000/batch_size), verbose=1)\n",
        "\n",
        "\n",
        "  #print('val accuracy score at the end of training model type ', score)\n",
        "  print(\"=========================================\\n\")\n",
        "\n",
        "  #validation_data=test_ds, validation_steps=np.ceil(10000/batch_size),"
      ],
      "execution_count": 0,
      "outputs": [
        {
          "output_type": "stream",
          "text": [
            "Wide Residual Network-28-10 created.\n",
            "Model: \"model\"\n",
            "__________________________________________________________________________________________________\n",
            "Layer (type)                    Output Shape         Param #     Connected to                     \n",
            "==================================================================================================\n",
            "input_1 (InputLayer)            [(None, 32, 32, 3)]  0                                            \n",
            "__________________________________________________________________________________________________\n",
            "conv2d (Conv2D)                 (None, 32, 32, 16)   432         input_1[0][0]                    \n",
            "__________________________________________________________________________________________________\n",
            "batch_normalization (BatchNorma (None, 32, 32, 16)   64          conv2d[0][0]                     \n",
            "__________________________________________________________________________________________________\n",
            "activation (Activation)         (None, 32, 32, 16)   0           batch_normalization[0][0]        \n",
            "__________________________________________________________________________________________________\n",
            "conv2d_1 (Conv2D)               (None, 32, 32, 160)  23040       activation[0][0]                 \n",
            "__________________________________________________________________________________________________\n",
            "batch_normalization_1 (BatchNor (None, 32, 32, 160)  640         conv2d_1[0][0]                   \n",
            "__________________________________________________________________________________________________\n",
            "activation_1 (Activation)       (None, 32, 32, 160)  0           batch_normalization_1[0][0]      \n",
            "__________________________________________________________________________________________________\n",
            "conv2d_2 (Conv2D)               (None, 32, 32, 160)  230400      activation_1[0][0]               \n",
            "__________________________________________________________________________________________________\n",
            "conv2d_3 (Conv2D)               (None, 32, 32, 160)  2560        activation[0][0]                 \n",
            "__________________________________________________________________________________________________\n",
            "add (Add)                       (None, 32, 32, 160)  0           conv2d_2[0][0]                   \n",
            "                                                                 conv2d_3[0][0]                   \n",
            "__________________________________________________________________________________________________\n",
            "batch_normalization_2 (BatchNor (None, 32, 32, 160)  640         add[0][0]                        \n",
            "__________________________________________________________________________________________________\n",
            "activation_2 (Activation)       (None, 32, 32, 160)  0           batch_normalization_2[0][0]      \n",
            "__________________________________________________________________________________________________\n",
            "conv2d_4 (Conv2D)               (None, 32, 32, 160)  230400      activation_2[0][0]               \n",
            "__________________________________________________________________________________________________\n",
            "dropout (Dropout)               (None, 32, 32, 160)  0           conv2d_4[0][0]                   \n",
            "__________________________________________________________________________________________________\n",
            "batch_normalization_3 (BatchNor (None, 32, 32, 160)  640         dropout[0][0]                    \n",
            "__________________________________________________________________________________________________\n",
            "activation_3 (Activation)       (None, 32, 32, 160)  0           batch_normalization_3[0][0]      \n",
            "__________________________________________________________________________________________________\n",
            "conv2d_5 (Conv2D)               (None, 32, 32, 160)  230400      activation_3[0][0]               \n",
            "__________________________________________________________________________________________________\n",
            "add_1 (Add)                     (None, 32, 32, 160)  0           add[0][0]                        \n",
            "                                                                 conv2d_5[0][0]                   \n",
            "__________________________________________________________________________________________________\n",
            "batch_normalization_4 (BatchNor (None, 32, 32, 160)  640         add_1[0][0]                      \n",
            "__________________________________________________________________________________________________\n",
            "activation_4 (Activation)       (None, 32, 32, 160)  0           batch_normalization_4[0][0]      \n",
            "__________________________________________________________________________________________________\n",
            "conv2d_6 (Conv2D)               (None, 32, 32, 160)  230400      activation_4[0][0]               \n",
            "__________________________________________________________________________________________________\n",
            "dropout_1 (Dropout)             (None, 32, 32, 160)  0           conv2d_6[0][0]                   \n",
            "__________________________________________________________________________________________________\n",
            "batch_normalization_5 (BatchNor (None, 32, 32, 160)  640         dropout_1[0][0]                  \n",
            "__________________________________________________________________________________________________\n",
            "activation_5 (Activation)       (None, 32, 32, 160)  0           batch_normalization_5[0][0]      \n",
            "__________________________________________________________________________________________________\n",
            "conv2d_7 (Conv2D)               (None, 32, 32, 160)  230400      activation_5[0][0]               \n",
            "__________________________________________________________________________________________________\n",
            "add_2 (Add)                     (None, 32, 32, 160)  0           add_1[0][0]                      \n",
            "                                                                 conv2d_7[0][0]                   \n",
            "__________________________________________________________________________________________________\n",
            "batch_normalization_6 (BatchNor (None, 32, 32, 160)  640         add_2[0][0]                      \n",
            "__________________________________________________________________________________________________\n",
            "activation_6 (Activation)       (None, 32, 32, 160)  0           batch_normalization_6[0][0]      \n",
            "__________________________________________________________________________________________________\n",
            "conv2d_8 (Conv2D)               (None, 32, 32, 160)  230400      activation_6[0][0]               \n",
            "__________________________________________________________________________________________________\n",
            "dropout_2 (Dropout)             (None, 32, 32, 160)  0           conv2d_8[0][0]                   \n",
            "__________________________________________________________________________________________________\n",
            "batch_normalization_7 (BatchNor (None, 32, 32, 160)  640         dropout_2[0][0]                  \n",
            "__________________________________________________________________________________________________\n",
            "activation_7 (Activation)       (None, 32, 32, 160)  0           batch_normalization_7[0][0]      \n",
            "__________________________________________________________________________________________________\n",
            "conv2d_9 (Conv2D)               (None, 32, 32, 160)  230400      activation_7[0][0]               \n",
            "__________________________________________________________________________________________________\n",
            "add_3 (Add)                     (None, 32, 32, 160)  0           add_2[0][0]                      \n",
            "                                                                 conv2d_9[0][0]                   \n",
            "__________________________________________________________________________________________________\n",
            "batch_normalization_8 (BatchNor (None, 32, 32, 160)  640         add_3[0][0]                      \n",
            "__________________________________________________________________________________________________\n",
            "activation_8 (Activation)       (None, 32, 32, 160)  0           batch_normalization_8[0][0]      \n",
            "__________________________________________________________________________________________________\n",
            "conv2d_10 (Conv2D)              (None, 16, 16, 320)  460800      activation_8[0][0]               \n",
            "__________________________________________________________________________________________________\n",
            "batch_normalization_9 (BatchNor (None, 16, 16, 320)  1280        conv2d_10[0][0]                  \n",
            "__________________________________________________________________________________________________\n",
            "activation_9 (Activation)       (None, 16, 16, 320)  0           batch_normalization_9[0][0]      \n",
            "__________________________________________________________________________________________________\n",
            "conv2d_11 (Conv2D)              (None, 16, 16, 320)  921600      activation_9[0][0]               \n",
            "__________________________________________________________________________________________________\n",
            "conv2d_12 (Conv2D)              (None, 16, 16, 320)  51200       activation_8[0][0]               \n",
            "__________________________________________________________________________________________________\n",
            "add_4 (Add)                     (None, 16, 16, 320)  0           conv2d_11[0][0]                  \n",
            "                                                                 conv2d_12[0][0]                  \n",
            "__________________________________________________________________________________________________\n",
            "batch_normalization_10 (BatchNo (None, 16, 16, 320)  1280        add_4[0][0]                      \n",
            "__________________________________________________________________________________________________\n",
            "activation_10 (Activation)      (None, 16, 16, 320)  0           batch_normalization_10[0][0]     \n",
            "__________________________________________________________________________________________________\n",
            "conv2d_13 (Conv2D)              (None, 16, 16, 320)  921600      activation_10[0][0]              \n",
            "__________________________________________________________________________________________________\n",
            "dropout_3 (Dropout)             (None, 16, 16, 320)  0           conv2d_13[0][0]                  \n",
            "__________________________________________________________________________________________________\n",
            "batch_normalization_11 (BatchNo (None, 16, 16, 320)  1280        dropout_3[0][0]                  \n",
            "__________________________________________________________________________________________________\n",
            "activation_11 (Activation)      (None, 16, 16, 320)  0           batch_normalization_11[0][0]     \n",
            "__________________________________________________________________________________________________\n",
            "conv2d_14 (Conv2D)              (None, 16, 16, 320)  921600      activation_11[0][0]              \n",
            "__________________________________________________________________________________________________\n",
            "add_5 (Add)                     (None, 16, 16, 320)  0           add_4[0][0]                      \n",
            "                                                                 conv2d_14[0][0]                  \n",
            "__________________________________________________________________________________________________\n",
            "batch_normalization_12 (BatchNo (None, 16, 16, 320)  1280        add_5[0][0]                      \n",
            "__________________________________________________________________________________________________\n",
            "activation_12 (Activation)      (None, 16, 16, 320)  0           batch_normalization_12[0][0]     \n",
            "__________________________________________________________________________________________________\n",
            "conv2d_15 (Conv2D)              (None, 16, 16, 320)  921600      activation_12[0][0]              \n",
            "__________________________________________________________________________________________________\n",
            "dropout_4 (Dropout)             (None, 16, 16, 320)  0           conv2d_15[0][0]                  \n",
            "__________________________________________________________________________________________________\n",
            "batch_normalization_13 (BatchNo (None, 16, 16, 320)  1280        dropout_4[0][0]                  \n",
            "__________________________________________________________________________________________________\n",
            "activation_13 (Activation)      (None, 16, 16, 320)  0           batch_normalization_13[0][0]     \n",
            "__________________________________________________________________________________________________\n",
            "conv2d_16 (Conv2D)              (None, 16, 16, 320)  921600      activation_13[0][0]              \n",
            "__________________________________________________________________________________________________\n",
            "add_6 (Add)                     (None, 16, 16, 320)  0           add_5[0][0]                      \n",
            "                                                                 conv2d_16[0][0]                  \n",
            "__________________________________________________________________________________________________\n",
            "batch_normalization_14 (BatchNo (None, 16, 16, 320)  1280        add_6[0][0]                      \n",
            "__________________________________________________________________________________________________\n",
            "activation_14 (Activation)      (None, 16, 16, 320)  0           batch_normalization_14[0][0]     \n",
            "__________________________________________________________________________________________________\n",
            "conv2d_17 (Conv2D)              (None, 16, 16, 320)  921600      activation_14[0][0]              \n",
            "__________________________________________________________________________________________________\n",
            "dropout_5 (Dropout)             (None, 16, 16, 320)  0           conv2d_17[0][0]                  \n",
            "__________________________________________________________________________________________________\n",
            "batch_normalization_15 (BatchNo (None, 16, 16, 320)  1280        dropout_5[0][0]                  \n",
            "__________________________________________________________________________________________________\n",
            "activation_15 (Activation)      (None, 16, 16, 320)  0           batch_normalization_15[0][0]     \n",
            "__________________________________________________________________________________________________\n",
            "conv2d_18 (Conv2D)              (None, 16, 16, 320)  921600      activation_15[0][0]              \n",
            "__________________________________________________________________________________________________\n",
            "add_7 (Add)                     (None, 16, 16, 320)  0           add_6[0][0]                      \n",
            "                                                                 conv2d_18[0][0]                  \n",
            "__________________________________________________________________________________________________\n",
            "batch_normalization_16 (BatchNo (None, 16, 16, 320)  1280        add_7[0][0]                      \n",
            "__________________________________________________________________________________________________\n",
            "activation_16 (Activation)      (None, 16, 16, 320)  0           batch_normalization_16[0][0]     \n",
            "__________________________________________________________________________________________________\n",
            "conv2d_19 (Conv2D)              (None, 8, 8, 640)    1843200     activation_16[0][0]              \n",
            "__________________________________________________________________________________________________\n",
            "batch_normalization_17 (BatchNo (None, 8, 8, 640)    2560        conv2d_19[0][0]                  \n",
            "__________________________________________________________________________________________________\n",
            "activation_17 (Activation)      (None, 8, 8, 640)    0           batch_normalization_17[0][0]     \n",
            "__________________________________________________________________________________________________\n",
            "conv2d_20 (Conv2D)              (None, 8, 8, 640)    3686400     activation_17[0][0]              \n",
            "__________________________________________________________________________________________________\n",
            "conv2d_21 (Conv2D)              (None, 8, 8, 640)    204800      activation_16[0][0]              \n",
            "__________________________________________________________________________________________________\n",
            "add_8 (Add)                     (None, 8, 8, 640)    0           conv2d_20[0][0]                  \n",
            "                                                                 conv2d_21[0][0]                  \n",
            "__________________________________________________________________________________________________\n",
            "batch_normalization_18 (BatchNo (None, 8, 8, 640)    2560        add_8[0][0]                      \n",
            "__________________________________________________________________________________________________\n",
            "activation_18 (Activation)      (None, 8, 8, 640)    0           batch_normalization_18[0][0]     \n",
            "__________________________________________________________________________________________________\n",
            "conv2d_22 (Conv2D)              (None, 8, 8, 640)    3686400     activation_18[0][0]              \n",
            "__________________________________________________________________________________________________\n",
            "dropout_6 (Dropout)             (None, 8, 8, 640)    0           conv2d_22[0][0]                  \n",
            "__________________________________________________________________________________________________\n",
            "batch_normalization_19 (BatchNo (None, 8, 8, 640)    2560        dropout_6[0][0]                  \n",
            "__________________________________________________________________________________________________\n",
            "activation_19 (Activation)      (None, 8, 8, 640)    0           batch_normalization_19[0][0]     \n",
            "__________________________________________________________________________________________________\n",
            "conv2d_23 (Conv2D)              (None, 8, 8, 640)    3686400     activation_19[0][0]              \n",
            "__________________________________________________________________________________________________\n",
            "add_9 (Add)                     (None, 8, 8, 640)    0           add_8[0][0]                      \n",
            "                                                                 conv2d_23[0][0]                  \n",
            "__________________________________________________________________________________________________\n",
            "batch_normalization_20 (BatchNo (None, 8, 8, 640)    2560        add_9[0][0]                      \n",
            "__________________________________________________________________________________________________\n",
            "activation_20 (Activation)      (None, 8, 8, 640)    0           batch_normalization_20[0][0]     \n",
            "__________________________________________________________________________________________________\n",
            "conv2d_24 (Conv2D)              (None, 8, 8, 640)    3686400     activation_20[0][0]              \n",
            "__________________________________________________________________________________________________\n",
            "dropout_7 (Dropout)             (None, 8, 8, 640)    0           conv2d_24[0][0]                  \n",
            "__________________________________________________________________________________________________\n",
            "batch_normalization_21 (BatchNo (None, 8, 8, 640)    2560        dropout_7[0][0]                  \n",
            "__________________________________________________________________________________________________\n",
            "activation_21 (Activation)      (None, 8, 8, 640)    0           batch_normalization_21[0][0]     \n",
            "__________________________________________________________________________________________________\n",
            "conv2d_25 (Conv2D)              (None, 8, 8, 640)    3686400     activation_21[0][0]              \n",
            "__________________________________________________________________________________________________\n",
            "add_10 (Add)                    (None, 8, 8, 640)    0           add_9[0][0]                      \n",
            "                                                                 conv2d_25[0][0]                  \n",
            "__________________________________________________________________________________________________\n",
            "batch_normalization_22 (BatchNo (None, 8, 8, 640)    2560        add_10[0][0]                     \n",
            "__________________________________________________________________________________________________\n",
            "activation_22 (Activation)      (None, 8, 8, 640)    0           batch_normalization_22[0][0]     \n",
            "__________________________________________________________________________________________________\n",
            "conv2d_26 (Conv2D)              (None, 8, 8, 640)    3686400     activation_22[0][0]              \n",
            "__________________________________________________________________________________________________\n",
            "dropout_8 (Dropout)             (None, 8, 8, 640)    0           conv2d_26[0][0]                  \n",
            "__________________________________________________________________________________________________\n",
            "batch_normalization_23 (BatchNo (None, 8, 8, 640)    2560        dropout_8[0][0]                  \n",
            "__________________________________________________________________________________________________\n",
            "activation_23 (Activation)      (None, 8, 8, 640)    0           batch_normalization_23[0][0]     \n",
            "__________________________________________________________________________________________________\n",
            "conv2d_27 (Conv2D)              (None, 8, 8, 640)    3686400     activation_23[0][0]              \n",
            "__________________________________________________________________________________________________\n",
            "add_11 (Add)                    (None, 8, 8, 640)    0           add_10[0][0]                     \n",
            "                                                                 conv2d_27[0][0]                  \n",
            "__________________________________________________________________________________________________\n",
            "batch_normalization_24 (BatchNo (None, 8, 8, 640)    2560        add_11[0][0]                     \n",
            "__________________________________________________________________________________________________\n",
            "activation_24 (Activation)      (None, 8, 8, 640)    0           batch_normalization_24[0][0]     \n",
            "__________________________________________________________________________________________________\n",
            "average_pooling2d (AveragePooli (None, 1, 1, 640)    0           activation_24[0][0]              \n",
            "__________________________________________________________________________________________________\n",
            "flatten (Flatten)               (None, 640)          0           average_pooling2d[0][0]          \n",
            "__________________________________________________________________________________________________\n",
            "dense (Dense)                   (None, 10)           6410        flatten[0][0]                    \n",
            "==================================================================================================\n",
            "Total params: 36,497,146\n",
            "Trainable params: 36,479,194\n",
            "Non-trainable params: 17,952\n",
            "__________________________________________________________________________________________________\n",
            "Train for 391.0 steps, validate for 79.0 steps\n",
            "epoch  1 : setting learning rate to  0.1\n",
            "Epoch 1/200\n",
            "391/391 [==============================] - 480s 1s/step - loss: 8.5673 - accuracy: 0.4738 - val_loss: 5.8907 - val_accuracy: 0.6036\n",
            "epoch  2 : setting learning rate to  0.09866666666666667\n",
            "Epoch 2/200\n",
            "391/391 [==============================] - 468s 1s/step - loss: 4.2300 - accuracy: 0.7012 - val_loss: 3.1314 - val_accuracy: 0.7290\n",
            "epoch  3 : setting learning rate to  0.09733333333333334\n",
            "Epoch 3/200\n",
            "391/391 [==============================] - 468s 1s/step - loss: 2.3640 - accuracy: 0.7755 - val_loss: 1.9788 - val_accuracy: 0.7544\n",
            "epoch  4 : setting learning rate to  0.096\n",
            "Epoch 4/200\n",
            "391/391 [==============================] - 468s 1s/step - loss: 1.5154 - accuracy: 0.8111 - val_loss: 1.4530 - val_accuracy: 0.7774\n",
            "epoch  5 : setting learning rate to  0.09466666666666668\n",
            "Epoch 5/200\n",
            "391/391 [==============================] - 467s 1s/step - loss: 1.1234 - accuracy: 0.8330 - val_loss: 1.1817 - val_accuracy: 0.7926\n",
            "epoch  6 : setting learning rate to  0.09333333333333334\n",
            "Epoch 6/200\n",
            "391/391 [==============================] - 467s 1s/step - loss: 0.9358 - accuracy: 0.8518 - val_loss: 1.0236 - val_accuracy: 0.8130\n",
            "epoch  7 : setting learning rate to  0.092\n",
            "Epoch 7/200\n",
            "391/391 [==============================] - 467s 1s/step - loss: 0.8443 - accuracy: 0.8631 - val_loss: 0.9784 - val_accuracy: 0.8172\n",
            "epoch  8 : setting learning rate to  0.09066666666666667\n",
            "Epoch 8/200\n",
            "391/391 [==============================] - 469s 1s/step - loss: 0.8114 - accuracy: 0.8702 - val_loss: 0.9794 - val_accuracy: 0.8283\n",
            "epoch  9 : setting learning rate to  0.08933333333333333\n",
            "Epoch 9/200\n",
            "391/391 [==============================] - 473s 1s/step - loss: 0.7945 - accuracy: 0.8797 - val_loss: 1.0077 - val_accuracy: 0.8242\n",
            "epoch  10 : setting learning rate to  0.08800000000000001\n",
            "Epoch 10/200\n",
            "391/391 [==============================] - 469s 1s/step - loss: 0.7856 - accuracy: 0.8858 - val_loss: 1.0725 - val_accuracy: 0.8176\n",
            "epoch  11 : setting learning rate to  0.08666666666666667\n",
            "Epoch 11/200\n",
            "391/391 [==============================] - 468s 1s/step - loss: 0.7812 - accuracy: 0.8929 - val_loss: 1.0065 - val_accuracy: 0.8348\n",
            "epoch  12 : setting learning rate to  0.08533333333333334\n",
            "Epoch 12/200\n",
            "391/391 [==============================] - 468s 1s/step - loss: 0.7841 - accuracy: 0.8982 - val_loss: 1.0274 - val_accuracy: 0.8314\n",
            "epoch  13 : setting learning rate to  0.084\n",
            "Epoch 13/200\n",
            "391/391 [==============================] - 468s 1s/step - loss: 0.7831 - accuracy: 0.9024 - val_loss: 1.1023 - val_accuracy: 0.8247\n",
            "epoch  14 : setting learning rate to  0.08266666666666667\n",
            "Epoch 14/200\n",
            "391/391 [==============================] - 468s 1s/step - loss: 0.7875 - accuracy: 0.9058 - val_loss: 1.0493 - val_accuracy: 0.8431\n",
            "epoch  15 : setting learning rate to  0.08133333333333334\n",
            "Epoch 15/200\n",
            "391/391 [==============================] - 468s 1s/step - loss: 0.7888 - accuracy: 0.9104 - val_loss: 1.0612 - val_accuracy: 0.8416\n",
            "epoch  16 : setting learning rate to  0.08\n",
            "Epoch 16/200\n",
            "391/391 [==============================] - 468s 1s/step - loss: 0.7925 - accuracy: 0.9129 - val_loss: 1.0762 - val_accuracy: 0.8454\n",
            "epoch  17 : setting learning rate to  0.07866666666666668\n",
            "Epoch 17/200\n",
            "391/391 [==============================] - 469s 1s/step - loss: 0.7934 - accuracy: 0.9186 - val_loss: 1.0826 - val_accuracy: 0.8451\n",
            "epoch  18 : setting learning rate to  0.07733333333333334\n",
            "Epoch 18/200\n",
            "391/391 [==============================] - 468s 1s/step - loss: 0.7912 - accuracy: 0.9213 - val_loss: 1.0686 - val_accuracy: 0.8510\n",
            "epoch  19 : setting learning rate to  0.07600000000000001\n",
            "Epoch 19/200\n",
            "391/391 [==============================] - 468s 1s/step - loss: 0.8064 - accuracy: 0.9199 - val_loss: 1.1186 - val_accuracy: 0.8439\n",
            "epoch  20 : setting learning rate to  0.07466666666666667\n",
            "Epoch 20/200\n",
            "391/391 [==============================] - 472s 1s/step - loss: 0.7982 - accuracy: 0.9270 - val_loss: 1.1278 - val_accuracy: 0.8396\n",
            "epoch  21 : setting learning rate to  0.07333333333333333\n",
            "Epoch 21/200\n",
            "391/391 [==============================] - 474s 1s/step - loss: 0.7934 - accuracy: 0.9304 - val_loss: 1.1075 - val_accuracy: 0.8480\n",
            "epoch  22 : setting learning rate to  0.07200000000000001\n",
            "Epoch 22/200\n",
            "391/391 [==============================] - 474s 1s/step - loss: 0.7956 - accuracy: 0.9293 - val_loss: 1.1327 - val_accuracy: 0.8452\n",
            "epoch  23 : setting learning rate to  0.07066666666666667\n",
            "Epoch 23/200\n",
            "391/391 [==============================] - 474s 1s/step - loss: 0.7950 - accuracy: 0.9319 - val_loss: 1.1342 - val_accuracy: 0.8462\n",
            "epoch  24 : setting learning rate to  0.06933333333333334\n",
            "Epoch 24/200\n",
            "391/391 [==============================] - 474s 1s/step - loss: 0.7893 - accuracy: 0.9346 - val_loss: 1.1896 - val_accuracy: 0.8385\n",
            "epoch  25 : setting learning rate to  0.068\n",
            "Epoch 25/200\n",
            "391/391 [==============================] - 474s 1s/step - loss: 0.7897 - accuracy: 0.9349 - val_loss: 1.1377 - val_accuracy: 0.8515\n",
            "epoch  26 : setting learning rate to  0.06666666666666668\n",
            "Epoch 26/200\n",
            "391/391 [==============================] - 474s 1s/step - loss: 0.7873 - accuracy: 0.9377 - val_loss: 1.1781 - val_accuracy: 0.8451\n",
            "epoch  27 : setting learning rate to  0.06533333333333334\n",
            "Epoch 27/200\n",
            "391/391 [==============================] - 474s 1s/step - loss: 0.7766 - accuracy: 0.9421 - val_loss: 1.1518 - val_accuracy: 0.8470\n",
            "epoch  28 : setting learning rate to  0.064\n",
            "Epoch 28/200\n",
            "391/391 [==============================] - 474s 1s/step - loss: 0.7645 - accuracy: 0.9442 - val_loss: 1.1271 - val_accuracy: 0.8484\n",
            "epoch  29 : setting learning rate to  0.06266666666666668\n",
            "Epoch 29/200\n",
            "391/391 [==============================] - 475s 1s/step - loss: 0.7794 - accuracy: 0.9426 - val_loss: 1.1250 - val_accuracy: 0.8534\n",
            "epoch  30 : setting learning rate to  0.06133333333333334\n",
            "Epoch 30/200\n",
            "391/391 [==============================] - 475s 1s/step - loss: 0.7582 - accuracy: 0.9476 - val_loss: 1.1397 - val_accuracy: 0.8441\n",
            "epoch  31 : setting learning rate to  0.060000000000000005\n",
            "Epoch 31/200\n",
            "391/391 [==============================] - 473s 1s/step - loss: 0.7451 - accuracy: 0.9484 - val_loss: 1.1869 - val_accuracy: 0.8432\n",
            "epoch  32 : setting learning rate to  0.05866666666666667\n",
            "Epoch 32/200\n",
            "391/391 [==============================] - 474s 1s/step - loss: 0.7581 - accuracy: 0.9461 - val_loss: 1.1489 - val_accuracy: 0.8501\n",
            "epoch  33 : setting learning rate to  0.05733333333333334\n",
            "Epoch 33/200\n",
            "391/391 [==============================] - 471s 1s/step - loss: 0.7340 - accuracy: 0.9514 - val_loss: 1.2850 - val_accuracy: 0.8296\n",
            "epoch  34 : setting learning rate to  0.05600000000000001\n",
            "Epoch 34/200\n",
            "391/391 [==============================] - 469s 1s/step - loss: 0.7321 - accuracy: 0.9521 - val_loss: 1.1580 - val_accuracy: 0.8482\n",
            "epoch  35 : setting learning rate to  0.054666666666666676\n",
            "Epoch 35/200\n",
            "391/391 [==============================] - 469s 1s/step - loss: 0.7233 - accuracy: 0.9543 - val_loss: 1.2180 - val_accuracy: 0.8444\n",
            "epoch  36 : setting learning rate to  0.053333333333333344\n",
            "Epoch 36/200\n",
            "391/391 [==============================] - 469s 1s/step - loss: 0.7170 - accuracy: 0.9552 - val_loss: 1.1074 - val_accuracy: 0.8597\n",
            "epoch  37 : setting learning rate to  0.052000000000000005\n",
            "Epoch 37/200\n",
            "391/391 [==============================] - 469s 1s/step - loss: 0.6981 - accuracy: 0.9595 - val_loss: 1.1639 - val_accuracy: 0.8418\n",
            "epoch  38 : setting learning rate to  0.05066666666666667\n",
            "Epoch 38/200\n",
            "391/391 [==============================] - 469s 1s/step - loss: 0.6976 - accuracy: 0.9579 - val_loss: 1.1271 - val_accuracy: 0.8564\n",
            "epoch  39 : setting learning rate to  0.04933333333333334\n",
            "Epoch 39/200\n",
            "391/391 [==============================] - 469s 1s/step - loss: 0.6871 - accuracy: 0.9589 - val_loss: 1.1116 - val_accuracy: 0.8576\n",
            "epoch  40 : setting learning rate to  0.04800000000000001\n",
            "Epoch 40/200\n",
            "391/391 [==============================] - 469s 1s/step - loss: 0.6717 - accuracy: 0.9629 - val_loss: 1.0894 - val_accuracy: 0.8556\n",
            "epoch  41 : setting learning rate to  0.046666666666666676\n",
            "Epoch 41/200\n",
            "391/391 [==============================] - 469s 1s/step - loss: 0.6647 - accuracy: 0.9620 - val_loss: 1.0523 - val_accuracy: 0.8615\n",
            "epoch  42 : setting learning rate to  0.045333333333333344\n",
            "Epoch 42/200\n",
            "391/391 [==============================] - 469s 1s/step - loss: 0.6540 - accuracy: 0.9644 - val_loss: 1.0770 - val_accuracy: 0.8624\n",
            "epoch  43 : setting learning rate to  0.044000000000000004\n",
            "Epoch 43/200\n",
            "391/391 [==============================] - 469s 1s/step - loss: 0.6297 - accuracy: 0.9674 - val_loss: 1.0583 - val_accuracy: 0.8583\n",
            "epoch  44 : setting learning rate to  0.04266666666666667\n",
            "Epoch 44/200\n",
            "391/391 [==============================] - 469s 1s/step - loss: 0.6225 - accuracy: 0.9669 - val_loss: 1.0756 - val_accuracy: 0.8556\n",
            "epoch  45 : setting learning rate to  0.04133333333333334\n",
            "Epoch 45/200\n",
            "391/391 [==============================] - 467s 1s/step - loss: 0.6171 - accuracy: 0.9670 - val_loss: 1.0850 - val_accuracy: 0.8569\n",
            "epoch  46 : setting learning rate to  0.04000000000000001\n",
            "Epoch 46/200\n",
            "391/391 [==============================] - 471s 1s/step - loss: 0.6055 - accuracy: 0.9684 - val_loss: 1.1221 - val_accuracy: 0.8496\n",
            "epoch  47 : setting learning rate to  0.038666666666666676\n",
            "Epoch 47/200\n",
            "391/391 [==============================] - 472s 1s/step - loss: 0.5875 - accuracy: 0.9717 - val_loss: 1.1332 - val_accuracy: 0.8562\n",
            "epoch  48 : setting learning rate to  0.03733333333333334\n",
            "Epoch 48/200\n",
            "391/391 [==============================] - 472s 1s/step - loss: 0.5743 - accuracy: 0.9719 - val_loss: 1.0227 - val_accuracy: 0.8670\n",
            "epoch  49 : setting learning rate to  0.036000000000000004\n",
            "Epoch 49/200\n",
            "391/391 [==============================] - 469s 1s/step - loss: 0.5684 - accuracy: 0.9732 - val_loss: 1.0436 - val_accuracy: 0.8603\n",
            "epoch  50 : setting learning rate to  0.03466666666666668\n",
            "Epoch 50/200\n",
            "391/391 [==============================] - 469s 1s/step - loss: 0.5351 - accuracy: 0.9779 - val_loss: 1.0621 - val_accuracy: 0.8617\n",
            "epoch  51 : setting learning rate to  0.03333333333333334\n",
            "Epoch 51/200\n",
            "391/391 [==============================] - 469s 1s/step - loss: 0.5318 - accuracy: 0.9757 - val_loss: 1.0046 - val_accuracy: 0.8715\n",
            "epoch  52 : setting learning rate to  0.032000000000000015\n",
            "Epoch 52/200\n",
            "391/391 [==============================] - 469s 1s/step - loss: 0.5198 - accuracy: 0.9776 - val_loss: 1.0014 - val_accuracy: 0.8660\n",
            "epoch  53 : setting learning rate to  0.030666666666666675\n",
            "Epoch 53/200\n",
            "391/391 [==============================] - 469s 1s/step - loss: 0.5002 - accuracy: 0.9791 - val_loss: 1.0112 - val_accuracy: 0.8637\n",
            "epoch  54 : setting learning rate to  0.029333333333333336\n",
            "Epoch 54/200\n",
            "391/391 [==============================] - 469s 1s/step - loss: 0.4863 - accuracy: 0.9804 - val_loss: 0.9319 - val_accuracy: 0.8743\n",
            "epoch  55 : setting learning rate to  0.02800000000000001\n",
            "Epoch 55/200\n",
            "391/391 [==============================] - 474s 1s/step - loss: 0.4672 - accuracy: 0.9820 - val_loss: 0.9572 - val_accuracy: 0.8645\n",
            "epoch  56 : setting learning rate to  0.026666666666666672\n",
            "Epoch 56/200\n",
            "391/391 [==============================] - 465s 1s/step - loss: 0.4581 - accuracy: 0.9817 - val_loss: 0.9468 - val_accuracy: 0.8708\n",
            "epoch  57 : setting learning rate to  0.025333333333333347\n",
            "Epoch 57/200\n",
            "391/391 [==============================] - 472s 1s/step - loss: 0.4323 - accuracy: 0.9856 - val_loss: 0.8877 - val_accuracy: 0.8816\n",
            "epoch  58 : setting learning rate to  0.024000000000000007\n",
            "Epoch 58/200\n",
            "391/391 [==============================] - 474s 1s/step - loss: 0.4102 - accuracy: 0.9863 - val_loss: 0.8262 - val_accuracy: 0.8813\n",
            "epoch  59 : setting learning rate to  0.02266666666666667\n",
            "Epoch 59/200\n",
            "391/391 [==============================] - 472s 1s/step - loss: 0.3951 - accuracy: 0.9878 - val_loss: 0.8534 - val_accuracy: 0.8766\n",
            "epoch  60 : setting learning rate to  0.021333333333333343\n",
            "Epoch 60/200\n",
            "391/391 [==============================] - 471s 1s/step - loss: 0.3751 - accuracy: 0.9883 - val_loss: 0.9214 - val_accuracy: 0.8671\n",
            "epoch  61 : setting learning rate to  0.02\n",
            "Epoch 61/200\n",
            "391/391 [==============================] - 469s 1s/step - loss: 0.3608 - accuracy: 0.9896 - val_loss: 0.8466 - val_accuracy: 0.8772\n",
            "epoch  62 : setting learning rate to  0.019733333333333335\n",
            "Epoch 62/200\n",
            "391/391 [==============================] - 469s 1s/step - loss: 0.3470 - accuracy: 0.9899 - val_loss: 0.8151 - val_accuracy: 0.8811\n",
            "epoch  63 : setting learning rate to  0.019466666666666667\n",
            "Epoch 63/200\n",
            "391/391 [==============================] - 469s 1s/step - loss: 0.3532 - accuracy: 0.9858 - val_loss: 0.8473 - val_accuracy: 0.8721\n",
            "epoch  64 : setting learning rate to  0.019200000000000002\n",
            "Epoch 64/200\n",
            "391/391 [==============================] - 468s 1s/step - loss: 0.3483 - accuracy: 0.9873 - val_loss: 0.9295 - val_accuracy: 0.8539\n",
            "epoch  65 : setting learning rate to  0.018933333333333333\n",
            "Epoch 65/200\n",
            "391/391 [==============================] - 468s 1s/step - loss: 0.3398 - accuracy: 0.9885 - val_loss: 0.8477 - val_accuracy: 0.8811\n",
            "epoch  66 : setting learning rate to  0.018666666666666668\n",
            "Epoch 66/200\n",
            "391/391 [==============================] - 469s 1s/step - loss: 0.3326 - accuracy: 0.9887 - val_loss: 0.8467 - val_accuracy: 0.8690\n",
            "epoch  67 : setting learning rate to  0.0184\n",
            "Epoch 67/200\n",
            "391/391 [==============================] - 469s 1s/step - loss: 0.3348 - accuracy: 0.9879 - val_loss: 0.8225 - val_accuracy: 0.8773\n",
            "epoch  68 : setting learning rate to  0.018133333333333335\n",
            "Epoch 68/200\n",
            "391/391 [==============================] - 469s 1s/step - loss: 0.3324 - accuracy: 0.9870 - val_loss: 0.8155 - val_accuracy: 0.8748\n",
            "epoch  69 : setting learning rate to  0.017866666666666666\n",
            "Epoch 69/200\n",
            "391/391 [==============================] - 468s 1s/step - loss: 0.3280 - accuracy: 0.9890 - val_loss: 0.8564 - val_accuracy: 0.8724\n",
            "epoch  70 : setting learning rate to  0.0176\n",
            "Epoch 70/200\n",
            "391/391 [==============================] - 469s 1s/step - loss: 0.3292 - accuracy: 0.9882 - val_loss: 0.7963 - val_accuracy: 0.8795\n",
            "epoch  71 : setting learning rate to  0.017333333333333333\n",
            "Epoch 71/200\n",
            "391/391 [==============================] - 469s 1s/step - loss: 0.3149 - accuracy: 0.9905 - val_loss: 0.8231 - val_accuracy: 0.8783\n",
            "epoch  72 : setting learning rate to  0.017066666666666667\n",
            "Epoch 72/200\n",
            "391/391 [==============================] - 468s 1s/step - loss: 0.3153 - accuracy: 0.9883 - val_loss: 0.8212 - val_accuracy: 0.8754\n",
            "epoch  73 : setting learning rate to  0.0168\n",
            "Epoch 73/200\n",
            "391/391 [==============================] - 469s 1s/step - loss: 0.3174 - accuracy: 0.9882 - val_loss: 0.8216 - val_accuracy: 0.8782\n",
            "epoch  74 : setting learning rate to  0.016533333333333334\n",
            "Epoch 74/200\n",
            "391/391 [==============================] - 468s 1s/step - loss: 0.3093 - accuracy: 0.9898 - val_loss: 0.8099 - val_accuracy: 0.8803\n",
            "epoch  75 : setting learning rate to  0.016266666666666665\n",
            "Epoch 75/200\n",
            "391/391 [==============================] - 469s 1s/step - loss: 0.3003 - accuracy: 0.9916 - val_loss: 0.7784 - val_accuracy: 0.8861\n",
            "epoch  76 : setting learning rate to  0.016\n",
            "Epoch 76/200\n",
            "391/391 [==============================] - 469s 1s/step - loss: 0.2981 - accuracy: 0.9901 - val_loss: 0.8399 - val_accuracy: 0.8748\n",
            "epoch  77 : setting learning rate to  0.015733333333333335\n",
            "Epoch 77/200\n",
            "391/391 [==============================] - 469s 1s/step - loss: 0.3054 - accuracy: 0.9879 - val_loss: 0.7855 - val_accuracy: 0.8807\n",
            "epoch  78 : setting learning rate to  0.015466666666666667\n",
            "Epoch 78/200\n",
            "391/391 [==============================] - 469s 1s/step - loss: 0.2960 - accuracy: 0.9907 - val_loss: 0.8325 - val_accuracy: 0.8743\n",
            "epoch  79 : setting learning rate to  0.0152\n",
            "Epoch 79/200\n",
            "391/391 [==============================] - 469s 1s/step - loss: 0.2936 - accuracy: 0.9906 - val_loss: 0.7939 - val_accuracy: 0.8789\n",
            "epoch  80 : setting learning rate to  0.014933333333333333\n",
            "Epoch 80/200\n",
            "391/391 [==============================] - 469s 1s/step - loss: 0.2855 - accuracy: 0.9908 - val_loss: 0.8483 - val_accuracy: 0.8683\n",
            "epoch  81 : setting learning rate to  0.014666666666666666\n",
            "Epoch 81/200\n",
            "391/391 [==============================] - 469s 1s/step - loss: 0.2802 - accuracy: 0.9921 - val_loss: 0.8391 - val_accuracy: 0.8707\n",
            "epoch  82 : setting learning rate to  0.0144\n",
            "Epoch 82/200\n",
            "391/391 [==============================] - 469s 1s/step - loss: 0.2777 - accuracy: 0.9913 - val_loss: 0.7840 - val_accuracy: 0.8858\n",
            "epoch  83 : setting learning rate to  0.014133333333333335\n",
            "Epoch 83/200\n",
            "391/391 [==============================] - 468s 1s/step - loss: 0.2783 - accuracy: 0.9909 - val_loss: 0.8054 - val_accuracy: 0.8738\n",
            "epoch  84 : setting learning rate to  0.013866666666666666\n",
            "Epoch 84/200\n",
            "391/391 [==============================] - 468s 1s/step - loss: 0.2715 - accuracy: 0.9923 - val_loss: 0.8025 - val_accuracy: 0.8758\n",
            "epoch  85 : setting learning rate to  0.013600000000000001\n",
            "Epoch 85/200\n",
            "391/391 [==============================] - 469s 1s/step - loss: 0.2631 - accuracy: 0.9931 - val_loss: 0.7895 - val_accuracy: 0.8768\n",
            "epoch  86 : setting learning rate to  0.013333333333333332\n",
            "Epoch 86/200\n",
            "391/391 [==============================] - 469s 1s/step - loss: 0.2621 - accuracy: 0.9923 - val_loss: 0.8021 - val_accuracy: 0.8775\n",
            "epoch  87 : setting learning rate to  0.013066666666666667\n",
            "Epoch 87/200\n",
            "391/391 [==============================] - 469s 1s/step - loss: 0.2529 - accuracy: 0.9937 - val_loss: 0.8607 - val_accuracy: 0.8723\n",
            "epoch  88 : setting learning rate to  0.012799999999999999\n",
            "Epoch 88/200\n",
            "391/391 [==============================] - 469s 1s/step - loss: 0.2463 - accuracy: 0.9942 - val_loss: 0.8162 - val_accuracy: 0.8713\n",
            "epoch  89 : setting learning rate to  0.012533333333333334\n",
            "Epoch 89/200\n",
            "391/391 [==============================] - 469s 1s/step - loss: 0.2529 - accuracy: 0.9914 - val_loss: 0.7803 - val_accuracy: 0.8777\n",
            "epoch  90 : setting learning rate to  0.012266666666666667\n",
            "Epoch 90/200\n",
            "391/391 [==============================] - 469s 1s/step - loss: 0.2473 - accuracy: 0.9931 - val_loss: 0.7906 - val_accuracy: 0.8752\n",
            "epoch  91 : setting learning rate to  0.012\n",
            "Epoch 91/200\n",
            "391/391 [==============================] - 469s 1s/step - loss: 0.2471 - accuracy: 0.9924 - val_loss: 0.7279 - val_accuracy: 0.8839\n",
            "epoch  92 : setting learning rate to  0.011733333333333333\n",
            "Epoch 92/200\n",
            "298/391 [=====================>........] - ETA: 1:45 - loss: 0.2416 - accuracy: 0.9938"
          ],
          "name": "stdout"
        }
      ]
    },
    {
      "cell_type": "code",
      "metadata": {
        "id": "TaDK2E2h81vV",
        "colab_type": "code",
        "colab": {}
      },
      "source": [
        ""
      ],
      "execution_count": 0,
      "outputs": []
    },
    {
      "cell_type": "code",
      "metadata": {
        "id": "wfuA6KAgCbv1",
        "colab_type": "code",
        "colab": {}
      },
      "source": [
        ""
      ],
      "execution_count": 0,
      "outputs": []
    }
  ]
}