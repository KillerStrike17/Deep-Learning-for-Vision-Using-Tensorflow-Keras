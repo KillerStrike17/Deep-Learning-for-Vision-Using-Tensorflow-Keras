{
  "nbformat": 4,
  "nbformat_minor": 0,
  "metadata": {
    "colab": {
      "name": "3 - WideResNet(28 - 10) Model Augmentation - interpolated LR.ipynb",
      "provenance": [],
      "collapsed_sections": [],
      "include_colab_link": true
    },
    "kernelspec": {
      "name": "python3",
      "display_name": "Python 3"
    },
    "accelerator": "GPU"
  },
  "cells": [
    {
      "cell_type": "markdown",
      "metadata": {
        "id": "view-in-github",
        "colab_type": "text"
      },
      "source": [
        "<a href=\"https://colab.research.google.com/github/KillerStrike17/EVA---Session-1-Basics-Of-DNN/blob/master/Notebook_Shubham/WideResnetResults/3_WideResNet(28_10)_Model_Augmentation_interpolated_LR.ipynb\" target=\"_parent\"><img src=\"https://colab.research.google.com/assets/colab-badge.svg\" alt=\"Open In Colab\"/></a>"
      ]
    },
    {
      "cell_type": "markdown",
      "metadata": {
        "id": "ynqEXKR8Quk9",
        "colab_type": "text"
      },
      "source": [
        "### Choose tf2 backend on colab"
      ]
    },
    {
      "cell_type": "code",
      "metadata": {
        "id": "gzpm6z7xyQ2m",
        "colab_type": "code",
        "outputId": "05feaeca-0621-44d4-cc9e-2d8d38813cd9",
        "colab": {
          "base_uri": "https://localhost:8080/",
          "height": 658
        }
      },
      "source": [
        "from __future__ import absolute_import, division, print_function, unicode_literals\n",
        "\n",
        "# Install TensorFlow\n",
        "try:\n",
        "  # %tensorflow_version only exists in Colab.\n",
        "  %tensorflow_version 2.x\n",
        "except Exception:\n",
        "  pass\n",
        "\n",
        "#import tensorflow as tf\n",
        "!pip install tensorflow_addons\n",
        "import tensorflow_addons as tfa\n",
        "import tensorflow as tf"
      ],
      "execution_count": 0,
      "outputs": [
        {
          "output_type": "stream",
          "text": [
            "TensorFlow 2.x selected.\n",
            "Collecting tensorflow_addons\n",
            "\u001b[?25l  Downloading https://files.pythonhosted.org/packages/43/b0/6a1dacc2f4fab422926bfcbab6fa8f08f2a0309d872f3b059340a409b194/tensorflow_addons-0.6.0-cp36-cp36m-manylinux2010_x86_64.whl (1.8MB)\n",
            "\u001b[K     |████████████████████████████████| 1.8MB 6.7MB/s \n",
            "\u001b[?25hRequirement already satisfied: six>=1.10.0 in /tensorflow-2.0.0-rc2/python3.6 (from tensorflow_addons) (1.12.0)\n",
            "Collecting tensorflow-gpu==2.0.0 (from tensorflow_addons)\n",
            "\u001b[?25l  Downloading https://files.pythonhosted.org/packages/25/44/47f0722aea081697143fbcf5d2aa60d1aee4aaacb5869aee2b568974777b/tensorflow_gpu-2.0.0-cp36-cp36m-manylinux2010_x86_64.whl (380.8MB)\n",
            "\u001b[K     |████████████████████████████████| 380.8MB 84kB/s \n",
            "\u001b[?25hRequirement already satisfied: numpy<2.0,>=1.16.0 in /tensorflow-2.0.0-rc2/python3.6 (from tensorflow-gpu==2.0.0->tensorflow_addons) (1.17.2)\n",
            "Requirement already satisfied: google-pasta>=0.1.6 in /tensorflow-2.0.0-rc2/python3.6 (from tensorflow-gpu==2.0.0->tensorflow_addons) (0.1.7)\n",
            "Requirement already satisfied: grpcio>=1.8.6 in /tensorflow-2.0.0-rc2/python3.6 (from tensorflow-gpu==2.0.0->tensorflow_addons) (1.24.1)\n",
            "Requirement already satisfied: keras-applications>=1.0.8 in /tensorflow-2.0.0-rc2/python3.6 (from tensorflow-gpu==2.0.0->tensorflow_addons) (1.0.8)\n",
            "Requirement already satisfied: termcolor>=1.1.0 in /tensorflow-2.0.0-rc2/python3.6 (from tensorflow-gpu==2.0.0->tensorflow_addons) (1.1.0)\n",
            "Requirement already satisfied: gast==0.2.2 in /tensorflow-2.0.0-rc2/python3.6 (from tensorflow-gpu==2.0.0->tensorflow_addons) (0.2.2)\n",
            "Requirement already satisfied: wrapt>=1.11.1 in /tensorflow-2.0.0-rc2/python3.6 (from tensorflow-gpu==2.0.0->tensorflow_addons) (1.11.2)\n",
            "Requirement already satisfied: wheel>=0.26 in /tensorflow-2.0.0-rc2/python3.6 (from tensorflow-gpu==2.0.0->tensorflow_addons) (0.33.6)\n",
            "Requirement already satisfied: opt-einsum>=2.3.2 in /tensorflow-2.0.0-rc2/python3.6 (from tensorflow-gpu==2.0.0->tensorflow_addons) (3.1.0)\n",
            "Requirement already satisfied: absl-py>=0.7.0 in /tensorflow-2.0.0-rc2/python3.6 (from tensorflow-gpu==2.0.0->tensorflow_addons) (0.8.1)\n",
            "Collecting tensorflow-estimator<2.1.0,>=2.0.0 (from tensorflow-gpu==2.0.0->tensorflow_addons)\n",
            "\u001b[?25l  Downloading https://files.pythonhosted.org/packages/95/00/5e6cdf86190a70d7382d320b2b04e4ff0f8191a37d90a422a2f8ff0705bb/tensorflow_estimator-2.0.0-py2.py3-none-any.whl (449kB)\n",
            "\u001b[K     |████████████████████████████████| 450kB 38.0MB/s \n",
            "\u001b[?25hRequirement already satisfied: tensorboard<2.1.0,>=2.0.0 in /tensorflow-2.0.0-rc2/python3.6 (from tensorflow-gpu==2.0.0->tensorflow_addons) (2.0.0)\n",
            "Requirement already satisfied: protobuf>=3.6.1 in /tensorflow-2.0.0-rc2/python3.6 (from tensorflow-gpu==2.0.0->tensorflow_addons) (3.10.0)\n",
            "Requirement already satisfied: astor>=0.6.0 in /tensorflow-2.0.0-rc2/python3.6 (from tensorflow-gpu==2.0.0->tensorflow_addons) (0.8.0)\n",
            "Requirement already satisfied: keras-preprocessing>=1.0.5 in /tensorflow-2.0.0-rc2/python3.6 (from tensorflow-gpu==2.0.0->tensorflow_addons) (1.1.0)\n",
            "Requirement already satisfied: h5py in /tensorflow-2.0.0-rc2/python3.6 (from keras-applications>=1.0.8->tensorflow-gpu==2.0.0->tensorflow_addons) (2.10.0)\n",
            "Requirement already satisfied: setuptools>=41.0.0 in /tensorflow-2.0.0-rc2/python3.6 (from tensorboard<2.1.0,>=2.0.0->tensorflow-gpu==2.0.0->tensorflow_addons) (41.4.0)\n",
            "Requirement already satisfied: werkzeug>=0.11.15 in /tensorflow-2.0.0-rc2/python3.6 (from tensorboard<2.1.0,>=2.0.0->tensorflow-gpu==2.0.0->tensorflow_addons) (0.16.0)\n",
            "Requirement already satisfied: markdown>=2.6.8 in /tensorflow-2.0.0-rc2/python3.6 (from tensorboard<2.1.0,>=2.0.0->tensorflow-gpu==2.0.0->tensorflow_addons) (3.1.1)\n",
            "Installing collected packages: tensorflow-estimator, tensorflow-gpu, tensorflow-addons\n",
            "  Found existing installation: tensorflow-estimator 1.15.1\n",
            "    Uninstalling tensorflow-estimator-1.15.1:\n",
            "      Successfully uninstalled tensorflow-estimator-1.15.1\n",
            "  Found existing installation: tensorflow-gpu 2.0.0rc2\n",
            "    Uninstalling tensorflow-gpu-2.0.0rc2:\n",
            "      Successfully uninstalled tensorflow-gpu-2.0.0rc2\n",
            "Successfully installed tensorflow-addons-0.6.0 tensorflow-estimator-2.0.0 tensorflow-gpu-2.0.0\n"
          ],
          "name": "stdout"
        }
      ]
    },
    {
      "cell_type": "markdown",
      "metadata": {
        "id": "jFPFRpPDQ2e6",
        "colab_type": "text"
      },
      "source": [
        "### Install tf_utils"
      ]
    },
    {
      "cell_type": "code",
      "metadata": {
        "id": "E0yHfmeMv-rI",
        "colab_type": "code",
        "outputId": "fd6b9f0c-4cc2-46ae-ade4-1252f3add931",
        "colab": {
          "base_uri": "https://localhost:8080/",
          "height": 190
        }
      },
      "source": [
        "!pip install --upgrade git+https://github.com/ravindrabharathi/tf_utils "
      ],
      "execution_count": 0,
      "outputs": [
        {
          "output_type": "stream",
          "text": [
            "Collecting git+https://github.com/ravindrabharathi/tf_utils\n",
            "  Cloning https://github.com/ravindrabharathi/tf_utils to /tmp/pip-req-build-cd_lbas3\n",
            "  Running command git clone -q https://github.com/ravindrabharathi/tf_utils /tmp/pip-req-build-cd_lbas3\n",
            "Building wheels for collected packages: tf-utils\n",
            "  Building wheel for tf-utils (setup.py) ... \u001b[?25l\u001b[?25hdone\n",
            "  Created wheel for tf-utils: filename=tf_utils-0.2-cp36-none-any.whl size=8945 sha256=2deb31b412db83be0c3f99792b16f408115a80b95330b7b77f752063fe3fe553\n",
            "  Stored in directory: /tmp/pip-ephem-wheel-cache-thd8vvnu/wheels/95/af/bb/690b94c65a5aad47a5c39e75f158a2b043448e908c5c121791\n",
            "Successfully built tf-utils\n",
            "Installing collected packages: tf-utils\n",
            "Successfully installed tf-utils-0.2\n"
          ],
          "name": "stdout"
        }
      ]
    },
    {
      "cell_type": "markdown",
      "metadata": {
        "id": "VH-5ffTMQ8ms",
        "colab_type": "text"
      },
      "source": [
        "### import the data module"
      ]
    },
    {
      "cell_type": "code",
      "metadata": {
        "id": "NBcelJMpwYoX",
        "colab_type": "code",
        "outputId": "f8b0d8ed-cb98-4271-b204-c0294b9645f5",
        "colab": {
          "base_uri": "https://localhost:8080/",
          "height": 34
        }
      },
      "source": [
        "import tf_utils.data as ds"
      ],
      "execution_count": 0,
      "outputs": [
        {
          "output_type": "stream",
          "text": [
            "Finished 'get_cpu_num' in 0.0000 secs\n"
          ],
          "name": "stdout"
        }
      ]
    },
    {
      "cell_type": "markdown",
      "metadata": {
        "id": "Vb0kbJalRCPJ",
        "colab_type": "text"
      },
      "source": [
        "### set batch size"
      ]
    },
    {
      "cell_type": "code",
      "metadata": {
        "id": "VJTA3CO8xOtg",
        "colab_type": "code",
        "colab": {}
      },
      "source": [
        "batch_size=128\n",
        "ds.batch_size=batch_size\n",
        "EPOCHS=200"
      ],
      "execution_count": 0,
      "outputs": []
    },
    {
      "cell_type": "markdown",
      "metadata": {
        "id": "oTroxaquRE2Z",
        "colab_type": "text"
      },
      "source": [
        "### downlaod data and create tf records"
      ]
    },
    {
      "cell_type": "code",
      "metadata": {
        "id": "zF3qoDnbykb6",
        "colab_type": "code",
        "outputId": "6ab45a20-7bed-4e1b-e50d-2a1f7ad773d5",
        "colab": {
          "base_uri": "https://localhost:8080/",
          "height": 364
        }
      },
      "source": [
        "ds.get_cifar10_and_create_tfrecords()"
      ],
      "execution_count": 0,
      "outputs": [
        {
          "output_type": "display_data",
          "data": {
            "application/vnd.jupyter.widget-view+json": {
              "model_id": "644c13aee5da41b5baa5f7fdd2fde9b6",
              "version_minor": 0,
              "version_major": 2
            },
            "text/plain": [
              "HBox(children=(IntProgress(value=0, description='cifar-10-python.tar.gz', max=170498071, style=ProgressStyle(d…"
            ]
          },
          "metadata": {
            "tags": []
          }
        },
        {
          "output_type": "stream",
          "text": [
            "\n",
            "Finished 'download_file' in 6.5925 secs\n",
            "Finished 'download_cifar10_files' in 6.5936 secs\n",
            "Done\n",
            "Finished 'extract_cifar10_files' in 1.9110 secs\n",
            "Finished '_get_file_names' in 0.0000 secs\n",
            "Generating ./train.tfrecords\n",
            "Finished 'read_pickle_from_file' in 0.1596 secs\n",
            "Finished 'read_pickle_from_file' in 0.1515 secs\n",
            "Finished 'read_pickle_from_file' in 0.1435 secs\n",
            "Finished 'read_pickle_from_file' in 0.1439 secs\n",
            "Finished 'read_pickle_from_file' in 0.1498 secs\n",
            "Finished 'convert_to_tfrecord' in 3.4624 secs\n",
            "Done!\n",
            "Generating ./eval.tfrecords\n",
            "Finished 'read_pickle_from_file' in 0.1427 secs\n",
            "Finished 'convert_to_tfrecord' in 0.7110 secs\n",
            "Done!\n",
            "Finished 'create_tf_records' in 4.1761 secs\n",
            "Finished 'get_cifar10_and_create_tfrecords' in 12.6813 secs\n"
          ],
          "name": "stdout"
        }
      ]
    },
    {
      "cell_type": "markdown",
      "metadata": {
        "id": "7U-_CmC6RKDF",
        "colab_type": "text"
      },
      "source": [
        "### create train and test dataset"
      ]
    },
    {
      "cell_type": "code",
      "metadata": {
        "id": "1lYOp7UKyoG5",
        "colab_type": "code",
        "outputId": "a7485366-30a4-47e4-f556-8629358d3d50",
        "colab": {
          "base_uri": "https://localhost:8080/",
          "height": 190
        }
      },
      "source": [
        "train_ds1=ds.get_train_ds(batch_size=batch_size,shuffle=True,distort=True)\n",
        "train_ds2=ds.get_train_ds(batch_size=batch_size,shuffle=True,distort=False)\n",
        "\n",
        "test_ds=ds.get_eval_ds(batch_size=batch_size)"
      ],
      "execution_count": 0,
      "outputs": [
        {
          "output_type": "stream",
          "text": [
            "distorting image\n",
            "Finished 'get_tf_dataset' in 2.7794 secs\n",
            "Finished 'get_tf_dataset_in_batches' in 2.7798 secs\n",
            "Finished 'get_train_ds' in 2.7799 secs\n",
            "Finished 'get_tf_dataset' in 0.1737 secs\n",
            "Finished 'get_tf_dataset_in_batches' in 0.1740 secs\n",
            "Finished 'get_train_ds' in 0.1741 secs\n",
            "Finished 'get_tf_dataset' in 0.0306 secs\n",
            "Finished 'get_tf_dataset_in_batches' in 0.0312 secs\n",
            "Finished 'get_eval_ds' in 0.0315 secs\n"
          ],
          "name": "stdout"
        }
      ]
    },
    {
      "cell_type": "markdown",
      "metadata": {
        "id": "-7z9t4e5RRbH",
        "colab_type": "text"
      },
      "source": [
        "### import visualization module"
      ]
    },
    {
      "cell_type": "code",
      "metadata": {
        "id": "xHq2g5VjzmDz",
        "colab_type": "code",
        "colab": {}
      },
      "source": [
        "import tf_utils.visualize as vz"
      ],
      "execution_count": 0,
      "outputs": []
    },
    {
      "cell_type": "markdown",
      "metadata": {
        "id": "utItaz0RRXft",
        "colab_type": "text"
      },
      "source": [
        "### plot images from train dataset1 , train dataset by default uses image augmenttation of cutout,flip-left-right,random-pad-crop "
      ]
    },
    {
      "cell_type": "code",
      "metadata": {
        "id": "pvonf0IP0uOX",
        "colab_type": "code",
        "outputId": "55cd6c9d-fa5d-403a-9c75-0b17d535609d",
        "colab": {
          "base_uri": "https://localhost:8080/",
          "height": 1000
        }
      },
      "source": [
        "vz.plot_cifar10_files(train_ds1)"
      ],
      "execution_count": 0,
      "outputs": [
        {
          "output_type": "display_data",
          "data": {
            "image/png": "[encoded data removed]",
            "text/plain": [
              "<Figure size 432x288 with 1 Axes>"
            ]
          },
          "metadata": {
            "tags": []
          }
        },
        {
          "output_type": "display_data",
          "data": {
            "image/png": "[encoded data removed]",
            "text/plain": [
              "<Figure size 432x288 with 1 Axes>"
            ]
          },
          "metadata": {
            "tags": []
          }
        },
        {
          "output_type": "display_data",
          "data": {
            "image/png": "[encoded data removed]",
            "text/plain": [
              "<Figure size 432x288 with 1 Axes>"
            ]
          },
          "metadata": {
            "tags": []
          }
        },
        {
          "output_type": "display_data",
          "data": {
            "image/png": "[encoded data removed]",
            "text/plain": [
              "<Figure size 432x288 with 1 Axes>"
            ]
          },
          "metadata": {
            "tags": []
          }
        },
        {
          "output_type": "display_data",
          "data": {
            "image/png": "[encoded data removed]",
            "text/plain": [
              "<Figure size 432x288 with 1 Axes>"
            ]
          },
          "metadata": {
            "tags": []
          }
        }
      ]
    },
    {
      "cell_type": "code",
      "metadata": {
        "id": "jKnsdKUUovds",
        "colab_type": "code",
        "outputId": "39f7c59b-6061-4672-c35a-f12848c2118a",
        "colab": {
          "base_uri": "https://localhost:8080/",
          "height": 1000
        }
      },
      "source": [
        "vz.plot_cifar10_files(train_ds2)"
      ],
      "execution_count": 0,
      "outputs": [
        {
          "output_type": "display_data",
          "data": {
            "image/png": "[encoded data removed]",
            "text/plain": [
              "<Figure size 432x288 with 1 Axes>"
            ]
          },
          "metadata": {
            "tags": []
          }
        },
        {
          "output_type": "display_data",
          "data": {
            "image/png": "[encoded data removed]",
            "text/plain": [
              "<Figure size 432x288 with 1 Axes>"
            ]
          },
          "metadata": {
            "tags": []
          }
        },
        {
          "output_type": "display_data",
          "data": {
            "image/png": "[encoded data removed]",
            "text/plain": [
              "<Figure size 432x288 with 1 Axes>"
            ]
          },
          "metadata": {
            "tags": []
          }
        },
        {
          "output_type": "display_data",
          "data": {
            "image/png": "[encoded data removed]",
            "text/plain": [
              "<Figure size 432x288 with 1 Axes>"
            ]
          },
          "metadata": {
            "tags": []
          }
        },
        {
          "output_type": "display_data",
          "data": {
            "image/png": "[encoded data removed]",
            "text/plain": [
              "<Figure size 432x288 with 1 Axes>"
            ]
          },
          "metadata": {
            "tags": []
          }
        }
      ]
    },
    {
      "cell_type": "code",
      "metadata": {
        "id": "1sp9Qy173e1o",
        "colab_type": "code",
        "outputId": "2a8fc61b-7d67-4226-d852-08838369cc2d",
        "colab": {
          "base_uri": "https://localhost:8080/",
          "height": 34
        }
      },
      "source": [
        "print(tf.__version__)"
      ],
      "execution_count": 0,
      "outputs": [
        {
          "output_type": "stream",
          "text": [
            "2.0.0\n"
          ],
          "name": "stdout"
        }
      ]
    },
    {
      "cell_type": "markdown",
      "metadata": {
        "id": "7qN5z9vjRsvL",
        "colab_type": "text"
      },
      "source": [
        "### Training - Build model , compile and train "
      ]
    },
    {
      "cell_type": "code",
      "metadata": {
        "id": "m26XDkJi1YyS",
        "colab_type": "code",
        "colab": {}
      },
      "source": [
        "import numpy as np\n",
        "import math\n",
        "weight_decay=5e-4\n",
        "def aug_fn1(img):\n",
        "  shp=img.get_shape().as_list()\n",
        "  out_shp=[shp[0],shp[1],shp[2]]\n",
        "  return ds.flip_left_right(ds.random_crop(ds.cutout(ds.pad_img(img,padding=4),100,size=16),out_shape=out_shp))\n",
        "\n",
        "def aug1(image):\n",
        "  print('is_training',is_training)\n",
        "  if is_training:\n",
        "    \n",
        "    #return tf.map_fn(lambda img: aug_fn1(img),image,parallel_iterations=ds.CPU_CORES,back_prop=is_training) \n",
        "    return tf.map_fn(lambda img: aug_fn1(img) ,image,parallel_iterations=10*ds.CPU_CORES,back_prop=is_training)    \n",
        "  else:\n",
        "    print('inside validation cycle\\n===============\\n')\n",
        "    return image  \n",
        "\n",
        "\n",
        "def aug_fn2(img):\n",
        "  shp=img.get_shape().as_list()\n",
        "  out_shp=[shp[0],shp[1],shp[2]]\n",
        "  return ds.flip_left_right(ds.random_crop(ds.cutout(ds.pad_img(img,padding=4),100,size=8),out_shape=out_shp))\n",
        "\n",
        "def aug2(image):\n",
        "  print('is_training',is_training)\n",
        "  if is_training:\n",
        "    \n",
        "    #return tf.map_fn(lambda img: aug_fn1(img),image,parallel_iterations=ds.CPU_CORES,back_prop=is_training) \n",
        "    return tf.map_fn(lambda img: aug_fn2(img) ,image,parallel_iterations=10*ds.CPU_CORES,back_prop=is_training)    \n",
        "  else:\n",
        "    print('inside validation cycle\\n===============\\n')\n",
        "    return image  \n",
        "\n",
        "\n",
        "def aug_fn3(img):\n",
        "  shp=img.get_shape().as_list()\n",
        "  out_shp=[shp[0],shp[1],shp[2]]\n",
        "  return ds.flip_left_right(ds.random_crop(ds.cutout(ds.pad_img(img,padding=4),100,size=4),out_shape=out_shp))\n",
        "\n",
        "def aug3(image):\n",
        "  print('is_training',is_training)\n",
        "  if is_training:\n",
        "    \n",
        "    #return tf.map_fn(lambda img: aug_fn1(img),image,parallel_iterations=ds.CPU_CORES,back_prop=is_training) \n",
        "    return tf.map_fn(lambda img: aug_fn3(img) ,image,parallel_iterations=10*ds.CPU_CORES,back_prop=is_training)    \n",
        "  else:\n",
        "    print('inside validation cycle\\n===============\\n')\n",
        "    return image  "
      ],
      "execution_count": 0,
      "outputs": []
    },
    {
      "cell_type": "code",
      "metadata": {
        "id": "FY-E056n7Ipb",
        "colab_type": "code",
        "colab": {}
      },
      "source": [
        "from __future__ import absolute_import, division, print_function, unicode_literals\n",
        "\n",
        "import tensorflow as tf\n",
        "\n",
        "from tensorflow import keras\n",
        "tf.keras.backend.clear_session()  \n",
        "from tensorflow.keras.models import Model\n",
        "from tensorflow.keras.layers import Input, GlobalAveragePooling2D,  Activation, GlobalMaxPooling2D, Add\n",
        "from tensorflow.keras.layers import Convolution2D, MaxPooling2D, BatchNormalization , Dense, Lambda, AveragePooling2D, Flatten,Dropout\n",
        "from tensorflow.keras import backend as K\n",
        "from tensorflow.keras.optimizers import Adam,SGD\n",
        "from tensorflow.keras.regularizers import l2\n"
      ],
      "execution_count": 0,
      "outputs": []
    },
    {
      "cell_type": "code",
      "metadata": {
        "id": "udo0uZRu2py6",
        "colab_type": "code",
        "colab": {}
      },
      "source": [
        "def initial_conv(input):\n",
        "    x = Convolution2D(16, (3, 3), padding='same', kernel_initializer='he_normal',\n",
        "                      kernel_regularizer=l2(weight_decay),\n",
        "                      use_bias=False)(input)\n",
        "\n",
        "    channel_axis = 1 if K.image_data_format() == \"channels_first\" else -1\n",
        "\n",
        "    x = BatchNormalization(axis=channel_axis, momentum=0.1, epsilon=1e-5, gamma_initializer='uniform')(x)\n",
        "    x = Activation('relu')(x)\n",
        "    return x\n",
        "\n",
        "def expand_conv(init, base, k, strides=(1, 1)):\n",
        "    x = Convolution2D(base * k, (3, 3), padding='same', strides=strides, kernel_initializer='he_normal',\n",
        "                      kernel_regularizer=l2(weight_decay),\n",
        "                      use_bias=False)(init)\n",
        "\n",
        "    channel_axis = 1 if K.image_data_format() == \"channels_first\" else -1\n",
        "\n",
        "    x = BatchNormalization(axis=channel_axis, momentum=0.1, epsilon=1e-5, gamma_initializer='uniform')(x)\n",
        "    x = Activation('relu')(x)\n",
        "\n",
        "    x = Convolution2D(base * k, (3, 3), padding='same', kernel_initializer='he_normal',\n",
        "                      kernel_regularizer=l2(weight_decay),\n",
        "                      use_bias=False)(x)\n",
        "\n",
        "    skip = Convolution2D(base * k, (1, 1), padding='same', strides=strides, kernel_initializer='he_normal',\n",
        "                      kernel_regularizer=l2(weight_decay),\n",
        "                      use_bias=False)(init)\n",
        "\n",
        "    m = Add()([x, skip])\n",
        "\n",
        "    return m\n",
        "def conv1_block(input, k=1, dropout=0.0):\n",
        "    init = input\n",
        "\n",
        "    channel_axis = 1 if K.image_data_format() == \"channels_first\" else -1\n",
        "\n",
        "    x = BatchNormalization(axis=channel_axis, momentum=0.1, epsilon=1e-5, gamma_initializer='uniform')(input)\n",
        "    x = Activation('relu')(x)\n",
        "    x = Convolution2D(16 * k, (3, 3), padding='same', kernel_initializer='he_normal',\n",
        "                      kernel_regularizer=l2(weight_decay),\n",
        "                      use_bias=False)(x)\n",
        "\n",
        "    if dropout > 0.0: x = Dropout(dropout)(x)\n",
        "\n",
        "    x = BatchNormalization(axis=channel_axis, momentum=0.1, epsilon=1e-5, gamma_initializer='uniform')(x)\n",
        "    x = Activation('relu')(x)\n",
        "    x = Convolution2D(16 * k, (3, 3), padding='same', kernel_initializer='he_normal',\n",
        "                      kernel_regularizer=l2(weight_decay),\n",
        "                      use_bias=False)(x)\n",
        "\n",
        "    m = Add()([init, x])\n",
        "    return m\n",
        "\n",
        "def conv2_block(input, k=1, dropout=0.0):\n",
        "    init = input\n",
        "\n",
        "    channel_axis = 1 if K.image_data_format() == \"th\" else -1\n",
        "\n",
        "    x = BatchNormalization(axis=channel_axis, momentum=0.1, epsilon=1e-5, gamma_initializer='uniform')(input)\n",
        "    x = Activation('relu')(x)\n",
        "    x = Convolution2D(32 * k, (3, 3), padding='same', kernel_initializer='he_normal',\n",
        "                      kernel_regularizer=l2(weight_decay),\n",
        "                      use_bias=False)(x)\n",
        "\n",
        "    if dropout > 0.0: x = Dropout(dropout)(x)\n",
        "\n",
        "    x = BatchNormalization(axis=channel_axis, momentum=0.1, epsilon=1e-5, gamma_initializer='uniform')(x)\n",
        "    x = Activation('relu')(x)\n",
        "    x = Convolution2D(32 * k, (3, 3), padding='same', kernel_initializer='he_normal',\n",
        "                      kernel_regularizer=l2(weight_decay),\n",
        "                      use_bias=False)(x)\n",
        "\n",
        "    m = Add()([init, x])\n",
        "    return m\n",
        "\n",
        "def conv3_block(input, k=1, dropout=0.0):\n",
        "    init = input\n",
        "\n",
        "    channel_axis = 1 if K.image_data_format() == \"th\" else -1\n",
        "\n",
        "    x = BatchNormalization(axis=channel_axis, momentum=0.1, epsilon=1e-5, gamma_initializer='uniform')(input)\n",
        "    x = Activation('relu')(x)\n",
        "    x = Convolution2D(64 * k, (3, 3), padding='same', kernel_initializer='he_normal',\n",
        "                      kernel_regularizer=l2(weight_decay),\n",
        "                      use_bias=False)(x)\n",
        "\n",
        "    if dropout > 0.0: x = Dropout(dropout)(x)\n",
        "\n",
        "    x = BatchNormalization(axis=channel_axis, momentum=0.1, epsilon=1e-5, gamma_initializer='uniform')(x)\n",
        "    x = Activation('relu')(x)\n",
        "    x = Convolution2D(64 * k, (3, 3), padding='same', kernel_initializer='he_normal',\n",
        "                      kernel_regularizer=l2(weight_decay),\n",
        "                      use_bias=False)(x)\n",
        "\n",
        "    m = Add()([init, x])\n",
        "    return m\n",
        "\n",
        "def create_wide_residual_network(input_dim, nb_classes=100, N=2, k=1, dropout=0.0, verbose=1,model_param =0):\n",
        "    \"\"\"\n",
        "    Creates a Wide Residual Network with specified parameters\n",
        "    :param input: Input Keras object\n",
        "    :param nb_classes: Number of output classes\n",
        "    :param N: Depth of the network. Compute N = (n - 4) / 6.\n",
        "              Example : For a depth of 16, n = 16, N = (16 - 4) / 6 = 2\n",
        "              Example2: For a depth of 28, n = 28, N = (28 - 4) / 6 = 4\n",
        "              Example3: For a depth of 40, n = 40, N = (40 - 4) / 6 = 6\n",
        "    :param k: Width of the network.\n",
        "    :param dropout: Adds dropout if value is greater than 0.0\n",
        "    :param verbose: Debug info to describe created WRN\n",
        "    :return:\n",
        "    \"\"\"\n",
        "    channel_axis = 1 if K.image_data_format() == \"channels_first\" else -1\n",
        "\n",
        "    ip = Input(shape=input_dim)\n",
        "\n",
        "    x = initial_conv(ip)\n",
        "    nb_conv = 4\n",
        "\n",
        "    x = expand_conv(x, 16, k)\n",
        "    if model_param == 1:\n",
        "      x = Lambda(aug1)(x)\n",
        "\n",
        "    nb_conv += 2\n",
        "\n",
        "    for i in range(N - 1):\n",
        "        x = conv1_block(x, k, dropout)\n",
        "        nb_conv += 2\n",
        "\n",
        "    x = BatchNormalization(axis=channel_axis, momentum=0.1, epsilon=1e-5, gamma_initializer='uniform')(x)\n",
        "    x = Activation('relu')(x)\n",
        "\n",
        "\n",
        "    x = expand_conv(x, 32, k, strides=(2, 2))\n",
        "    if model_param == 2:\n",
        "      x = Lambda(aug2)(x)\n",
        "\n",
        "    nb_conv += 2\n",
        "\n",
        "    for i in range(N - 1):\n",
        "        x = conv2_block(x, k, dropout)\n",
        "        nb_conv += 2\n",
        "\n",
        "    x = BatchNormalization(axis=channel_axis, momentum=0.1, epsilon=1e-5, gamma_initializer='uniform')(x)\n",
        "    x = Activation('relu')(x)\n",
        "\n",
        "    x = expand_conv(x, 64, k, strides=(2, 2))\n",
        "    if model_param == 3:\n",
        "      x = Lambda(aug3)(x)\n",
        "    nb_conv += 2\n",
        "\n",
        "    for i in range(N - 1):\n",
        "        x = conv3_block(x, k, dropout)\n",
        "        nb_conv += 2\n",
        "\n",
        "    x = BatchNormalization(axis=channel_axis, momentum=0.1, epsilon=1e-5, gamma_initializer='uniform')(x)\n",
        "    x = Activation('relu')(x)\n",
        "\n",
        "    x = AveragePooling2D((8, 8))(x)\n",
        "    x = Flatten()(x)\n",
        "\n",
        "    x = Dense(nb_classes, kernel_regularizer=l2(weight_decay), activation='softmax')(x)\n",
        "\n",
        "    model = Model(ip, x)\n",
        "\n",
        "    if verbose: print(\"Wide Residual Network-%d-%d created.\" % (nb_conv, k))\n",
        "    return model\n"
      ],
      "execution_count": 0,
      "outputs": []
    },
    {
      "cell_type": "code",
      "metadata": {
        "id": "nR5iyCvy9XUs",
        "colab_type": "code",
        "colab": {}
      },
      "source": [
        ""
      ],
      "execution_count": 0,
      "outputs": []
    },
    {
      "cell_type": "code",
      "metadata": {
        "id": "L8fQc_Ji9ycm",
        "colab_type": "code",
        "outputId": "00cf8b72-5a3f-4d75-9dd5-82153c8911e2",
        "colab": {
          "base_uri": "https://localhost:8080/",
          "height": 182
        }
      },
      "source": [
        "from tensorflow.keras.utils import plot_model\n",
        "plot_model(model)"
      ],
      "execution_count": 0,
      "outputs": [
        {
          "output_type": "error",
          "ename": "NameError",
          "evalue": "ignored",
          "traceback": [
            "\u001b[0;31m---------------------------------------------------------------------------\u001b[0m",
            "\u001b[0;31mNameError\u001b[0m                                 Traceback (most recent call last)",
            "\u001b[0;32m<ipython-input-14-31ed56d03f0e>\u001b[0m in \u001b[0;36m<module>\u001b[0;34m()\u001b[0m\n\u001b[1;32m      1\u001b[0m \u001b[0;32mfrom\u001b[0m \u001b[0mtensorflow\u001b[0m\u001b[0;34m.\u001b[0m\u001b[0mkeras\u001b[0m\u001b[0;34m.\u001b[0m\u001b[0mutils\u001b[0m \u001b[0;32mimport\u001b[0m \u001b[0mplot_model\u001b[0m\u001b[0;34m\u001b[0m\u001b[0;34m\u001b[0m\u001b[0m\n\u001b[0;32m----> 2\u001b[0;31m \u001b[0mplot_model\u001b[0m\u001b[0;34m(\u001b[0m\u001b[0mmodel\u001b[0m\u001b[0;34m)\u001b[0m\u001b[0;34m\u001b[0m\u001b[0;34m\u001b[0m\u001b[0m\n\u001b[0m",
            "\u001b[0;31mNameError\u001b[0m: name 'model' is not defined"
          ]
        }
      ]
    },
    {
      "cell_type": "code",
      "metadata": {
        "id": "4nng9bFm1rQq",
        "colab_type": "code",
        "colab": {}
      },
      "source": [
        "\n",
        "from tensorflow.keras.callbacks import LearningRateScheduler\n",
        "\n",
        "def lr_schedule():\n",
        "    \n",
        "    def schedule(epoch):\n",
        "\n",
        "      lr=lr1=np.interp([epoch],[0, 60,120,160], [0.1, 0.02, 0.004,0.0008])[0]\n",
        "      print('epoch ', epoch+1, ': setting learning rate to ',lr1)\n",
        "      return lr\n",
        "    \n",
        "    return LearningRateScheduler(schedule)\n",
        "\n",
        "lr_sched = lr_schedule()"
      ],
      "execution_count": 0,
      "outputs": []
    },
    {
      "cell_type": "code",
      "metadata": {
        "id": "eHO9x1JnOjAs",
        "colab_type": "code",
        "colab": {}
      },
      "source": [
        ""
      ],
      "execution_count": 0,
      "outputs": []
    },
    {
      "cell_type": "code",
      "metadata": {
        "id": "6R8TUyCAA8--",
        "colab_type": "code",
        "outputId": "4b68f09e-55f6-4ba3-8b99-2f23b3775f63",
        "colab": {
          "base_uri": "https://localhost:8080/",
          "height": 1000
        }
      },
      "source": [
        "for i in [0]:\n",
        "  init = (32, 32, 3)\n",
        "  is_training = True\n",
        "  model = create_wide_residual_network(init, nb_classes=10, N=4, k=10, dropout=0.3,model_param = i)\n",
        "\n",
        "  model.summary()\n",
        "\n",
        "\n",
        "  opt=SGD(lr=0.1,momentum=0.9,nesterov=True)\n",
        "  model.compile(loss='categorical_crossentropy',\n",
        "            optimizer=opt,metrics=['accuracy']\n",
        "            )\n",
        "  train_ds=train_ds1  \n",
        "  model.fit(train_ds,epochs=EPOCHS, steps_per_epoch=np.ceil(50000/batch_size), \n",
        "          callbacks=[lr_sched],\n",
        "          verbose=1,validation_data = test_ds, validation_steps = np.ceil(10000/batch_size))\n",
        "  #score=model.evaluate(test_ds, steps =np.ceil(10000/batch_size), verbose=1)\n",
        "\n",
        "\n",
        "  #print('val accuracy score at the end of training model type ', score)\n",
        "  print(\"=========================================\\n\")\n",
        "\n",
        "  #validation_data=test_ds, validation_steps=np.ceil(10000/batch_size),"
      ],
      "execution_count": 0,
      "outputs": [
        {
          "output_type": "stream",
          "text": [
            "Wide Residual Network-28-10 created.\n",
            "Model: \"model\"\n",
            "__________________________________________________________________________________________________\n",
            "Layer (type)                    Output Shape         Param #     Connected to                     \n",
            "==================================================================================================\n",
            "input_1 (InputLayer)            [(None, 32, 32, 3)]  0                                            \n",
            "__________________________________________________________________________________________________\n",
            "conv2d (Conv2D)                 (None, 32, 32, 16)   432         input_1[0][0]                    \n",
            "__________________________________________________________________________________________________\n",
            "batch_normalization (BatchNorma (None, 32, 32, 16)   64          conv2d[0][0]                     \n",
            "__________________________________________________________________________________________________\n",
            "activation (Activation)         (None, 32, 32, 16)   0           batch_normalization[0][0]        \n",
            "__________________________________________________________________________________________________\n",
            "conv2d_1 (Conv2D)               (None, 32, 32, 160)  23040       activation[0][0]                 \n",
            "__________________________________________________________________________________________________\n",
            "batch_normalization_1 (BatchNor (None, 32, 32, 160)  640         conv2d_1[0][0]                   \n",
            "__________________________________________________________________________________________________\n",
            "activation_1 (Activation)       (None, 32, 32, 160)  0           batch_normalization_1[0][0]      \n",
            "__________________________________________________________________________________________________\n",
            "conv2d_2 (Conv2D)               (None, 32, 32, 160)  230400      activation_1[0][0]               \n",
            "__________________________________________________________________________________________________\n",
            "conv2d_3 (Conv2D)               (None, 32, 32, 160)  2560        activation[0][0]                 \n",
            "__________________________________________________________________________________________________\n",
            "add (Add)                       (None, 32, 32, 160)  0           conv2d_2[0][0]                   \n",
            "                                                                 conv2d_3[0][0]                   \n",
            "__________________________________________________________________________________________________\n",
            "batch_normalization_2 (BatchNor (None, 32, 32, 160)  640         add[0][0]                        \n",
            "__________________________________________________________________________________________________\n",
            "activation_2 (Activation)       (None, 32, 32, 160)  0           batch_normalization_2[0][0]      \n",
            "__________________________________________________________________________________________________\n",
            "conv2d_4 (Conv2D)               (None, 32, 32, 160)  230400      activation_2[0][0]               \n",
            "__________________________________________________________________________________________________\n",
            "dropout (Dropout)               (None, 32, 32, 160)  0           conv2d_4[0][0]                   \n",
            "__________________________________________________________________________________________________\n",
            "batch_normalization_3 (BatchNor (None, 32, 32, 160)  640         dropout[0][0]                    \n",
            "__________________________________________________________________________________________________\n",
            "activation_3 (Activation)       (None, 32, 32, 160)  0           batch_normalization_3[0][0]      \n",
            "__________________________________________________________________________________________________\n",
            "conv2d_5 (Conv2D)               (None, 32, 32, 160)  230400      activation_3[0][0]               \n",
            "__________________________________________________________________________________________________\n",
            "add_1 (Add)                     (None, 32, 32, 160)  0           add[0][0]                        \n",
            "                                                                 conv2d_5[0][0]                   \n",
            "__________________________________________________________________________________________________\n",
            "batch_normalization_4 (BatchNor (None, 32, 32, 160)  640         add_1[0][0]                      \n",
            "__________________________________________________________________________________________________\n",
            "activation_4 (Activation)       (None, 32, 32, 160)  0           batch_normalization_4[0][0]      \n",
            "__________________________________________________________________________________________________\n",
            "conv2d_6 (Conv2D)               (None, 32, 32, 160)  230400      activation_4[0][0]               \n",
            "__________________________________________________________________________________________________\n",
            "dropout_1 (Dropout)             (None, 32, 32, 160)  0           conv2d_6[0][0]                   \n",
            "__________________________________________________________________________________________________\n",
            "batch_normalization_5 (BatchNor (None, 32, 32, 160)  640         dropout_1[0][0]                  \n",
            "__________________________________________________________________________________________________\n",
            "activation_5 (Activation)       (None, 32, 32, 160)  0           batch_normalization_5[0][0]      \n",
            "__________________________________________________________________________________________________\n",
            "conv2d_7 (Conv2D)               (None, 32, 32, 160)  230400      activation_5[0][0]               \n",
            "__________________________________________________________________________________________________\n",
            "add_2 (Add)                     (None, 32, 32, 160)  0           add_1[0][0]                      \n",
            "                                                                 conv2d_7[0][0]                   \n",
            "__________________________________________________________________________________________________\n",
            "batch_normalization_6 (BatchNor (None, 32, 32, 160)  640         add_2[0][0]                      \n",
            "__________________________________________________________________________________________________\n",
            "activation_6 (Activation)       (None, 32, 32, 160)  0           batch_normalization_6[0][0]      \n",
            "__________________________________________________________________________________________________\n",
            "conv2d_8 (Conv2D)               (None, 32, 32, 160)  230400      activation_6[0][0]               \n",
            "__________________________________________________________________________________________________\n",
            "dropout_2 (Dropout)             (None, 32, 32, 160)  0           conv2d_8[0][0]                   \n",
            "__________________________________________________________________________________________________\n",
            "batch_normalization_7 (BatchNor (None, 32, 32, 160)  640         dropout_2[0][0]                  \n",
            "__________________________________________________________________________________________________\n",
            "activation_7 (Activation)       (None, 32, 32, 160)  0           batch_normalization_7[0][0]      \n",
            "__________________________________________________________________________________________________\n",
            "conv2d_9 (Conv2D)               (None, 32, 32, 160)  230400      activation_7[0][0]               \n",
            "__________________________________________________________________________________________________\n",
            "add_3 (Add)                     (None, 32, 32, 160)  0           add_2[0][0]                      \n",
            "                                                                 conv2d_9[0][0]                   \n",
            "__________________________________________________________________________________________________\n",
            "batch_normalization_8 (BatchNor (None, 32, 32, 160)  640         add_3[0][0]                      \n",
            "__________________________________________________________________________________________________\n",
            "activation_8 (Activation)       (None, 32, 32, 160)  0           batch_normalization_8[0][0]      \n",
            "__________________________________________________________________________________________________\n",
            "conv2d_10 (Conv2D)              (None, 16, 16, 320)  460800      activation_8[0][0]               \n",
            "__________________________________________________________________________________________________\n",
            "batch_normalization_9 (BatchNor (None, 16, 16, 320)  1280        conv2d_10[0][0]                  \n",
            "__________________________________________________________________________________________________\n",
            "activation_9 (Activation)       (None, 16, 16, 320)  0           batch_normalization_9[0][0]      \n",
            "__________________________________________________________________________________________________\n",
            "conv2d_11 (Conv2D)              (None, 16, 16, 320)  921600      activation_9[0][0]               \n",
            "__________________________________________________________________________________________________\n",
            "conv2d_12 (Conv2D)              (None, 16, 16, 320)  51200       activation_8[0][0]               \n",
            "__________________________________________________________________________________________________\n",
            "add_4 (Add)                     (None, 16, 16, 320)  0           conv2d_11[0][0]                  \n",
            "                                                                 conv2d_12[0][0]                  \n",
            "__________________________________________________________________________________________________\n",
            "batch_normalization_10 (BatchNo (None, 16, 16, 320)  1280        add_4[0][0]                      \n",
            "__________________________________________________________________________________________________\n",
            "activation_10 (Activation)      (None, 16, 16, 320)  0           batch_normalization_10[0][0]     \n",
            "__________________________________________________________________________________________________\n",
            "conv2d_13 (Conv2D)              (None, 16, 16, 320)  921600      activation_10[0][0]              \n",
            "__________________________________________________________________________________________________\n",
            "dropout_3 (Dropout)             (None, 16, 16, 320)  0           conv2d_13[0][0]                  \n",
            "__________________________________________________________________________________________________\n",
            "batch_normalization_11 (BatchNo (None, 16, 16, 320)  1280        dropout_3[0][0]                  \n",
            "__________________________________________________________________________________________________\n",
            "activation_11 (Activation)      (None, 16, 16, 320)  0           batch_normalization_11[0][0]     \n",
            "__________________________________________________________________________________________________\n",
            "conv2d_14 (Conv2D)              (None, 16, 16, 320)  921600      activation_11[0][0]              \n",
            "__________________________________________________________________________________________________\n",
            "add_5 (Add)                     (None, 16, 16, 320)  0           add_4[0][0]                      \n",
            "                                                                 conv2d_14[0][0]                  \n",
            "__________________________________________________________________________________________________\n",
            "batch_normalization_12 (BatchNo (None, 16, 16, 320)  1280        add_5[0][0]                      \n",
            "__________________________________________________________________________________________________\n",
            "activation_12 (Activation)      (None, 16, 16, 320)  0           batch_normalization_12[0][0]     \n",
            "__________________________________________________________________________________________________\n",
            "conv2d_15 (Conv2D)              (None, 16, 16, 320)  921600      activation_12[0][0]              \n",
            "__________________________________________________________________________________________________\n",
            "dropout_4 (Dropout)             (None, 16, 16, 320)  0           conv2d_15[0][0]                  \n",
            "__________________________________________________________________________________________________\n",
            "batch_normalization_13 (BatchNo (None, 16, 16, 320)  1280        dropout_4[0][0]                  \n",
            "__________________________________________________________________________________________________\n",
            "activation_13 (Activation)      (None, 16, 16, 320)  0           batch_normalization_13[0][0]     \n",
            "__________________________________________________________________________________________________\n",
            "conv2d_16 (Conv2D)              (None, 16, 16, 320)  921600      activation_13[0][0]              \n",
            "__________________________________________________________________________________________________\n",
            "add_6 (Add)                     (None, 16, 16, 320)  0           add_5[0][0]                      \n",
            "                                                                 conv2d_16[0][0]                  \n",
            "__________________________________________________________________________________________________\n",
            "batch_normalization_14 (BatchNo (None, 16, 16, 320)  1280        add_6[0][0]                      \n",
            "__________________________________________________________________________________________________\n",
            "activation_14 (Activation)      (None, 16, 16, 320)  0           batch_normalization_14[0][0]     \n",
            "__________________________________________________________________________________________________\n",
            "conv2d_17 (Conv2D)              (None, 16, 16, 320)  921600      activation_14[0][0]              \n",
            "__________________________________________________________________________________________________\n",
            "dropout_5 (Dropout)             (None, 16, 16, 320)  0           conv2d_17[0][0]                  \n",
            "__________________________________________________________________________________________________\n",
            "batch_normalization_15 (BatchNo (None, 16, 16, 320)  1280        dropout_5[0][0]                  \n",
            "__________________________________________________________________________________________________\n",
            "activation_15 (Activation)      (None, 16, 16, 320)  0           batch_normalization_15[0][0]     \n",
            "__________________________________________________________________________________________________\n",
            "conv2d_18 (Conv2D)              (None, 16, 16, 320)  921600      activation_15[0][0]              \n",
            "__________________________________________________________________________________________________\n",
            "add_7 (Add)                     (None, 16, 16, 320)  0           add_6[0][0]                      \n",
            "                                                                 conv2d_18[0][0]                  \n",
            "__________________________________________________________________________________________________\n",
            "batch_normalization_16 (BatchNo (None, 16, 16, 320)  1280        add_7[0][0]                      \n",
            "__________________________________________________________________________________________________\n",
            "activation_16 (Activation)      (None, 16, 16, 320)  0           batch_normalization_16[0][0]     \n",
            "__________________________________________________________________________________________________\n",
            "conv2d_19 (Conv2D)              (None, 8, 8, 640)    1843200     activation_16[0][0]              \n",
            "__________________________________________________________________________________________________\n",
            "batch_normalization_17 (BatchNo (None, 8, 8, 640)    2560        conv2d_19[0][0]                  \n",
            "__________________________________________________________________________________________________\n",
            "activation_17 (Activation)      (None, 8, 8, 640)    0           batch_normalization_17[0][0]     \n",
            "__________________________________________________________________________________________________\n",
            "conv2d_20 (Conv2D)              (None, 8, 8, 640)    3686400     activation_17[0][0]              \n",
            "__________________________________________________________________________________________________\n",
            "conv2d_21 (Conv2D)              (None, 8, 8, 640)    204800      activation_16[0][0]              \n",
            "__________________________________________________________________________________________________\n",
            "add_8 (Add)                     (None, 8, 8, 640)    0           conv2d_20[0][0]                  \n",
            "                                                                 conv2d_21[0][0]                  \n",
            "__________________________________________________________________________________________________\n",
            "batch_normalization_18 (BatchNo (None, 8, 8, 640)    2560        add_8[0][0]                      \n",
            "__________________________________________________________________________________________________\n",
            "activation_18 (Activation)      (None, 8, 8, 640)    0           batch_normalization_18[0][0]     \n",
            "__________________________________________________________________________________________________\n",
            "conv2d_22 (Conv2D)              (None, 8, 8, 640)    3686400     activation_18[0][0]              \n",
            "__________________________________________________________________________________________________\n",
            "dropout_6 (Dropout)             (None, 8, 8, 640)    0           conv2d_22[0][0]                  \n",
            "__________________________________________________________________________________________________\n",
            "batch_normalization_19 (BatchNo (None, 8, 8, 640)    2560        dropout_6[0][0]                  \n",
            "__________________________________________________________________________________________________\n",
            "activation_19 (Activation)      (None, 8, 8, 640)    0           batch_normalization_19[0][0]     \n",
            "__________________________________________________________________________________________________\n",
            "conv2d_23 (Conv2D)              (None, 8, 8, 640)    3686400     activation_19[0][0]              \n",
            "__________________________________________________________________________________________________\n",
            "add_9 (Add)                     (None, 8, 8, 640)    0           add_8[0][0]                      \n",
            "                                                                 conv2d_23[0][0]                  \n",
            "__________________________________________________________________________________________________\n",
            "batch_normalization_20 (BatchNo (None, 8, 8, 640)    2560        add_9[0][0]                      \n",
            "__________________________________________________________________________________________________\n",
            "activation_20 (Activation)      (None, 8, 8, 640)    0           batch_normalization_20[0][0]     \n",
            "__________________________________________________________________________________________________\n",
            "conv2d_24 (Conv2D)              (None, 8, 8, 640)    3686400     activation_20[0][0]              \n",
            "__________________________________________________________________________________________________\n",
            "dropout_7 (Dropout)             (None, 8, 8, 640)    0           conv2d_24[0][0]                  \n",
            "__________________________________________________________________________________________________\n",
            "batch_normalization_21 (BatchNo (None, 8, 8, 640)    2560        dropout_7[0][0]                  \n",
            "__________________________________________________________________________________________________\n",
            "activation_21 (Activation)      (None, 8, 8, 640)    0           batch_normalization_21[0][0]     \n",
            "__________________________________________________________________________________________________\n",
            "conv2d_25 (Conv2D)              (None, 8, 8, 640)    3686400     activation_21[0][0]              \n",
            "__________________________________________________________________________________________________\n",
            "add_10 (Add)                    (None, 8, 8, 640)    0           add_9[0][0]                      \n",
            "                                                                 conv2d_25[0][0]                  \n",
            "__________________________________________________________________________________________________\n",
            "batch_normalization_22 (BatchNo (None, 8, 8, 640)    2560        add_10[0][0]                     \n",
            "__________________________________________________________________________________________________\n",
            "activation_22 (Activation)      (None, 8, 8, 640)    0           batch_normalization_22[0][0]     \n",
            "__________________________________________________________________________________________________\n",
            "conv2d_26 (Conv2D)              (None, 8, 8, 640)    3686400     activation_22[0][0]              \n",
            "__________________________________________________________________________________________________\n",
            "dropout_8 (Dropout)             (None, 8, 8, 640)    0           conv2d_26[0][0]                  \n",
            "__________________________________________________________________________________________________\n",
            "batch_normalization_23 (BatchNo (None, 8, 8, 640)    2560        dropout_8[0][0]                  \n",
            "__________________________________________________________________________________________________\n",
            "activation_23 (Activation)      (None, 8, 8, 640)    0           batch_normalization_23[0][0]     \n",
            "__________________________________________________________________________________________________\n",
            "conv2d_27 (Conv2D)              (None, 8, 8, 640)    3686400     activation_23[0][0]              \n",
            "__________________________________________________________________________________________________\n",
            "add_11 (Add)                    (None, 8, 8, 640)    0           add_10[0][0]                     \n",
            "                                                                 conv2d_27[0][0]                  \n",
            "__________________________________________________________________________________________________\n",
            "batch_normalization_24 (BatchNo (None, 8, 8, 640)    2560        add_11[0][0]                     \n",
            "__________________________________________________________________________________________________\n",
            "activation_24 (Activation)      (None, 8, 8, 640)    0           batch_normalization_24[0][0]     \n",
            "__________________________________________________________________________________________________\n",
            "average_pooling2d (AveragePooli (None, 1, 1, 640)    0           activation_24[0][0]              \n",
            "__________________________________________________________________________________________________\n",
            "flatten (Flatten)               (None, 640)          0           average_pooling2d[0][0]          \n",
            "__________________________________________________________________________________________________\n",
            "dense (Dense)                   (None, 10)           6410        flatten[0][0]                    \n",
            "==================================================================================================\n",
            "Total params: 36,497,146\n",
            "Trainable params: 36,479,194\n",
            "Non-trainable params: 17,952\n",
            "__________________________________________________________________________________________________\n",
            "Train for 391.0 steps, validate for 79.0 steps\n",
            "epoch  1 : setting learning rate to  0.1\n",
            "Epoch 1/200\n",
            "391/391 [==============================] - 511s 1s/step - loss: 8.7347 - accuracy: 0.4016 - val_loss: 5.9553 - val_accuracy: 0.5597\n",
            "epoch  2 : setting learning rate to  0.09866666666666667\n",
            "Epoch 2/200\n",
            "391/391 [==============================] - 499s 1s/step - loss: 4.4270 - accuracy: 0.6201 - val_loss: 3.1983 - val_accuracy: 0.6839\n",
            "epoch  3 : setting learning rate to  0.09733333333333334\n",
            "Epoch 3/200\n",
            "391/391 [==============================] - 499s 1s/step - loss: 2.5621 - accuracy: 0.6929 - val_loss: 2.0123 - val_accuracy: 0.7424\n",
            "epoch  4 : setting learning rate to  0.096\n",
            "Epoch 4/200\n",
            "391/391 [==============================] - 498s 1s/step - loss: 1.6943 - accuracy: 0.7394 - val_loss: 1.4213 - val_accuracy: 0.7704\n",
            "epoch  5 : setting learning rate to  0.09466666666666668\n",
            "Epoch 5/200\n",
            "391/391 [==============================] - 498s 1s/step - loss: 1.2870 - accuracy: 0.7663 - val_loss: 1.1774 - val_accuracy: 0.7760\n",
            "epoch  6 : setting learning rate to  0.09333333333333334\n",
            "Epoch 6/200\n",
            "391/391 [==============================] - 495s 1s/step - loss: 1.0912 - accuracy: 0.7882 - val_loss: 0.9769 - val_accuracy: 0.8160\n",
            "epoch  7 : setting learning rate to  0.092\n",
            "Epoch 7/200\n",
            "391/391 [==============================] - 496s 1s/step - loss: 1.0043 - accuracy: 0.7960 - val_loss: 0.9947 - val_accuracy: 0.8088\n",
            "epoch  8 : setting learning rate to  0.09066666666666667\n",
            "Epoch 8/200\n",
            "391/391 [==============================] - 496s 1s/step - loss: 0.9495 - accuracy: 0.8065 - val_loss: 0.9041 - val_accuracy: 0.8326\n",
            "epoch  9 : setting learning rate to  0.08933333333333333\n",
            "Epoch 9/200\n",
            "391/391 [==============================] - 496s 1s/step - loss: 0.9190 - accuracy: 0.8187 - val_loss: 0.9436 - val_accuracy: 0.8213\n",
            "epoch  10 : setting learning rate to  0.08800000000000001\n",
            "Epoch 10/200\n",
            "391/391 [==============================] - 496s 1s/step - loss: 0.9089 - accuracy: 0.8224 - val_loss: 0.9382 - val_accuracy: 0.8252\n",
            "epoch  11 : setting learning rate to  0.08666666666666667\n",
            "Epoch 11/200\n",
            "391/391 [==============================] - 496s 1s/step - loss: 0.8936 - accuracy: 0.8277 - val_loss: 0.8856 - val_accuracy: 0.8397\n",
            "epoch  12 : setting learning rate to  0.08533333333333334\n",
            "Epoch 12/200\n",
            "391/391 [==============================] - 495s 1s/step - loss: 0.8918 - accuracy: 0.8324 - val_loss: 0.9687 - val_accuracy: 0.8222\n",
            "epoch  13 : setting learning rate to  0.084\n",
            "Epoch 13/200\n",
            "391/391 [==============================] - 495s 1s/step - loss: 0.8878 - accuracy: 0.8347 - val_loss: 0.9071 - val_accuracy: 0.8408\n",
            "epoch  14 : setting learning rate to  0.08266666666666667\n",
            "Epoch 14/200\n",
            "391/391 [==============================] - 495s 1s/step - loss: 0.8855 - accuracy: 0.8390 - val_loss: 0.9260 - val_accuracy: 0.8405\n",
            "epoch  15 : setting learning rate to  0.08133333333333334\n",
            "Epoch 15/200\n",
            "391/391 [==============================] - 493s 1s/step - loss: 0.8672 - accuracy: 0.8452 - val_loss: 0.8743 - val_accuracy: 0.8528\n",
            "epoch  16 : setting learning rate to  0.08\n",
            "Epoch 16/200\n",
            "391/391 [==============================] - 494s 1s/step - loss: 0.8668 - accuracy: 0.8466 - val_loss: 0.8952 - val_accuracy: 0.8459\n",
            "epoch  17 : setting learning rate to  0.07866666666666668\n",
            "Epoch 17/200\n",
            "391/391 [==============================] - 496s 1s/step - loss: 0.8638 - accuracy: 0.8507 - val_loss: 0.8394 - val_accuracy: 0.8636\n",
            "epoch  18 : setting learning rate to  0.07733333333333334\n",
            "Epoch 18/200\n",
            "391/391 [==============================] - 496s 1s/step - loss: 0.8581 - accuracy: 0.8550 - val_loss: 0.9154 - val_accuracy: 0.8458\n",
            "epoch  19 : setting learning rate to  0.07600000000000001\n",
            "Epoch 19/200\n",
            "391/391 [==============================] - 496s 1s/step - loss: 0.8581 - accuracy: 0.8583 - val_loss: 0.8785 - val_accuracy: 0.8624\n",
            "epoch  20 : setting learning rate to  0.07466666666666667\n",
            "Epoch 20/200\n",
            "391/391 [==============================] - 496s 1s/step - loss: 0.8504 - accuracy: 0.8616 - val_loss: 0.8701 - val_accuracy: 0.8659\n",
            "epoch  21 : setting learning rate to  0.07333333333333333\n",
            "Epoch 21/200\n",
            "391/391 [==============================] - 496s 1s/step - loss: 0.8553 - accuracy: 0.8590 - val_loss: 0.8390 - val_accuracy: 0.8742\n",
            "epoch  22 : setting learning rate to  0.07200000000000001\n",
            "Epoch 22/200\n",
            "391/391 [==============================] - 496s 1s/step - loss: 0.8398 - accuracy: 0.8667 - val_loss: 0.8836 - val_accuracy: 0.8587\n",
            "epoch  23 : setting learning rate to  0.07066666666666667\n",
            "Epoch 23/200\n",
            "391/391 [==============================] - 496s 1s/step - loss: 0.8348 - accuracy: 0.8658 - val_loss: 0.8400 - val_accuracy: 0.8694\n",
            "epoch  24 : setting learning rate to  0.06933333333333334\n",
            "Epoch 24/200\n",
            "391/391 [==============================] - 496s 1s/step - loss: 0.8284 - accuracy: 0.8701 - val_loss: 0.9404 - val_accuracy: 0.8461\n",
            "epoch  25 : setting learning rate to  0.068\n",
            "Epoch 25/200\n",
            "391/391 [==============================] - 496s 1s/step - loss: 0.8267 - accuracy: 0.8717 - val_loss: 0.9004 - val_accuracy: 0.8644\n",
            "epoch  26 : setting learning rate to  0.06666666666666668\n",
            "Epoch 26/200\n",
            "391/391 [==============================] - 495s 1s/step - loss: 0.8129 - accuracy: 0.8767 - val_loss: 0.8762 - val_accuracy: 0.8629\n",
            "epoch  27 : setting learning rate to  0.06533333333333334\n",
            "Epoch 27/200\n",
            "391/391 [==============================] - 494s 1s/step - loss: 0.8060 - accuracy: 0.8773 - val_loss: 0.8685 - val_accuracy: 0.8680\n",
            "epoch  28 : setting learning rate to  0.064\n",
            "Epoch 28/200\n",
            "391/391 [==============================] - 493s 1s/step - loss: 0.8119 - accuracy: 0.8757 - val_loss: 0.7991 - val_accuracy: 0.8855\n",
            "epoch  29 : setting learning rate to  0.06266666666666668\n",
            "Epoch 29/200\n",
            "391/391 [==============================] - 493s 1s/step - loss: 0.8058 - accuracy: 0.8782 - val_loss: 0.9133 - val_accuracy: 0.8591\n",
            "epoch  30 : setting learning rate to  0.06133333333333334\n",
            "Epoch 30/200\n",
            "391/391 [==============================] - 493s 1s/step - loss: 0.8002 - accuracy: 0.8812 - val_loss: 0.8031 - val_accuracy: 0.8866\n",
            "epoch  31 : setting learning rate to  0.060000000000000005\n",
            "Epoch 31/200\n",
            "391/391 [==============================] - 494s 1s/step - loss: 0.7945 - accuracy: 0.8824 - val_loss: 0.8347 - val_accuracy: 0.8784\n",
            "epoch  32 : setting learning rate to  0.05866666666666667\n",
            "Epoch 32/200\n",
            "391/391 [==============================] - 493s 1s/step - loss: 0.7835 - accuracy: 0.8871 - val_loss: 0.8354 - val_accuracy: 0.8793\n",
            "epoch  33 : setting learning rate to  0.05733333333333334\n",
            "Epoch 33/200\n",
            "391/391 [==============================] - 493s 1s/step - loss: 0.7781 - accuracy: 0.8868 - val_loss: 0.9015 - val_accuracy: 0.8592\n",
            "epoch  34 : setting learning rate to  0.05600000000000001\n",
            "Epoch 34/200\n",
            "391/391 [==============================] - 493s 1s/step - loss: 0.7716 - accuracy: 0.8881 - val_loss: 0.7772 - val_accuracy: 0.8910\n",
            "epoch  35 : setting learning rate to  0.054666666666666676\n",
            "Epoch 35/200\n",
            "391/391 [==============================] - 493s 1s/step - loss: 0.7638 - accuracy: 0.8899 - val_loss: 0.7837 - val_accuracy: 0.8902\n",
            "epoch  36 : setting learning rate to  0.053333333333333344\n",
            "Epoch 36/200\n",
            "391/391 [==============================] - 494s 1s/step - loss: 0.7522 - accuracy: 0.8949 - val_loss: 0.8474 - val_accuracy: 0.8785\n",
            "epoch  37 : setting learning rate to  0.052000000000000005\n",
            "Epoch 37/200\n",
            "391/391 [==============================] - 493s 1s/step - loss: 0.7514 - accuracy: 0.8947 - val_loss: 0.7685 - val_accuracy: 0.8952\n",
            "epoch  38 : setting learning rate to  0.05066666666666667\n",
            "Epoch 38/200\n",
            "391/391 [==============================] - 494s 1s/step - loss: 0.7426 - accuracy: 0.8961 - val_loss: 0.8052 - val_accuracy: 0.8842\n",
            "epoch  39 : setting learning rate to  0.04933333333333334\n",
            "Epoch 39/200\n",
            "391/391 [==============================] - 493s 1s/step - loss: 0.7348 - accuracy: 0.8983 - val_loss: 0.8313 - val_accuracy: 0.8805\n",
            "epoch  40 : setting learning rate to  0.04800000000000001\n",
            "Epoch 40/200\n",
            "391/391 [==============================] - 493s 1s/step - loss: 0.7217 - accuracy: 0.9031 - val_loss: 0.8045 - val_accuracy: 0.8805\n",
            "epoch  41 : setting learning rate to  0.046666666666666676\n",
            "Epoch 41/200\n",
            "391/391 [==============================] - 493s 1s/step - loss: 0.7131 - accuracy: 0.9030 - val_loss: 0.7884 - val_accuracy: 0.8880\n",
            "epoch  42 : setting learning rate to  0.045333333333333344\n",
            "Epoch 42/200\n",
            "391/391 [==============================] - 493s 1s/step - loss: 0.7048 - accuracy: 0.9058 - val_loss: 0.7564 - val_accuracy: 0.8969\n",
            "epoch  43 : setting learning rate to  0.044000000000000004\n",
            "Epoch 43/200\n",
            "391/391 [==============================] - 493s 1s/step - loss: 0.7007 - accuracy: 0.9056 - val_loss: 0.8000 - val_accuracy: 0.8874\n",
            "epoch  44 : setting learning rate to  0.04266666666666667\n",
            "Epoch 44/200\n",
            "391/391 [==============================] - 493s 1s/step - loss: 0.6948 - accuracy: 0.9080 - val_loss: 0.8032 - val_accuracy: 0.8825\n",
            "epoch  45 : setting learning rate to  0.04133333333333334\n",
            "Epoch 45/200\n",
            "391/391 [==============================] - 493s 1s/step - loss: 0.6830 - accuracy: 0.9112 - val_loss: 0.7895 - val_accuracy: 0.8885\n",
            "epoch  46 : setting learning rate to  0.04000000000000001\n",
            "Epoch 46/200\n",
            "391/391 [==============================] - 493s 1s/step - loss: 0.6742 - accuracy: 0.9133 - val_loss: 0.7936 - val_accuracy: 0.8871\n",
            "epoch  47 : setting learning rate to  0.038666666666666676\n",
            "Epoch 47/200\n",
            "391/391 [==============================] - 492s 1s/step - loss: 0.6604 - accuracy: 0.9179 - val_loss: 0.7726 - val_accuracy: 0.8960\n",
            "epoch  48 : setting learning rate to  0.03733333333333334\n",
            "Epoch 48/200\n",
            "391/391 [==============================] - 492s 1s/step - loss: 0.6571 - accuracy: 0.9172 - val_loss: 0.7494 - val_accuracy: 0.8941\n",
            "epoch  49 : setting learning rate to  0.036000000000000004\n",
            "Epoch 49/200\n",
            "391/391 [==============================] - 492s 1s/step - loss: 0.6491 - accuracy: 0.9192 - val_loss: 0.7386 - val_accuracy: 0.9007\n",
            "epoch  50 : setting learning rate to  0.03466666666666668\n",
            "Epoch 50/200\n",
            "391/391 [==============================] - 492s 1s/step - loss: 0.6374 - accuracy: 0.9221 - val_loss: 0.7231 - val_accuracy: 0.9054\n",
            "epoch  51 : setting learning rate to  0.03333333333333334\n",
            "Epoch 51/200\n",
            "391/391 [==============================] - 492s 1s/step - loss: 0.6260 - accuracy: 0.9239 - val_loss: 0.7445 - val_accuracy: 0.8974\n",
            "epoch  52 : setting learning rate to  0.032000000000000015\n",
            "Epoch 52/200\n",
            "391/391 [==============================] - 492s 1s/step - loss: 0.6142 - accuracy: 0.9267 - val_loss: 0.7258 - val_accuracy: 0.9027\n",
            "epoch  53 : setting learning rate to  0.030666666666666675\n",
            "Epoch 53/200\n",
            "391/391 [==============================] - 492s 1s/step - loss: 0.6048 - accuracy: 0.9295 - val_loss: 0.6774 - val_accuracy: 0.9118\n",
            "epoch  54 : setting learning rate to  0.029333333333333336\n",
            "Epoch 54/200\n",
            "391/391 [==============================] - 492s 1s/step - loss: 0.5922 - accuracy: 0.9313 - val_loss: 0.6978 - val_accuracy: 0.9032\n",
            "epoch  55 : setting learning rate to  0.02800000000000001\n",
            "Epoch 55/200\n",
            "391/391 [==============================] - 492s 1s/step - loss: 0.5792 - accuracy: 0.9336 - val_loss: 0.6688 - val_accuracy: 0.9142\n",
            "epoch  56 : setting learning rate to  0.026666666666666672\n",
            "Epoch 56/200\n",
            "391/391 [==============================] - 492s 1s/step - loss: 0.5719 - accuracy: 0.9342 - val_loss: 0.6761 - val_accuracy: 0.9081\n",
            "epoch  57 : setting learning rate to  0.025333333333333347\n",
            "Epoch 57/200\n",
            "391/391 [==============================] - 492s 1s/step - loss: 0.5571 - accuracy: 0.9376 - val_loss: 0.6605 - val_accuracy: 0.9168\n",
            "epoch  58 : setting learning rate to  0.024000000000000007\n",
            "Epoch 58/200\n",
            "391/391 [==============================] - 493s 1s/step - loss: 0.5451 - accuracy: 0.9410 - val_loss: 0.6584 - val_accuracy: 0.9109\n",
            "epoch  59 : setting learning rate to  0.02266666666666667\n",
            "Epoch 59/200\n",
            "391/391 [==============================] - 493s 1s/step - loss: 0.5287 - accuracy: 0.9437 - val_loss: 0.6388 - val_accuracy: 0.9124\n",
            "epoch  60 : setting learning rate to  0.021333333333333343\n",
            "Epoch 60/200\n",
            "391/391 [==============================] - 492s 1s/step - loss: 0.5151 - accuracy: 0.9456 - val_loss: 0.6607 - val_accuracy: 0.9099\n",
            "epoch  61 : setting learning rate to  0.02\n",
            "Epoch 61/200\n",
            "391/391 [==============================] - 492s 1s/step - loss: 0.4938 - accuracy: 0.9505 - val_loss: 0.6039 - val_accuracy: 0.9249\n",
            "epoch  62 : setting learning rate to  0.019733333333333335\n",
            "Epoch 62/200\n",
            "391/391 [==============================] - 493s 1s/step - loss: 0.4902 - accuracy: 0.9501 - val_loss: 0.5970 - val_accuracy: 0.9224\n",
            "epoch  63 : setting learning rate to  0.019466666666666667\n",
            "Epoch 63/200\n",
            "391/391 [==============================] - 493s 1s/step - loss: 0.4795 - accuracy: 0.9534 - val_loss: 0.5937 - val_accuracy: 0.9251\n",
            "epoch  64 : setting learning rate to  0.019200000000000002\n",
            "Epoch 64/200\n",
            "391/391 [==============================] - 493s 1s/step - loss: 0.4793 - accuracy: 0.9515 - val_loss: 0.6351 - val_accuracy: 0.9123\n",
            "epoch  65 : setting learning rate to  0.018933333333333333\n",
            "Epoch 65/200\n",
            "391/391 [==============================] - 493s 1s/step - loss: 0.4832 - accuracy: 0.9499 - val_loss: 0.6666 - val_accuracy: 0.9060\n",
            "epoch  66 : setting learning rate to  0.018666666666666668\n",
            "Epoch 66/200\n",
            "391/391 [==============================] - 492s 1s/step - loss: 0.4732 - accuracy: 0.9522 - val_loss: 0.6415 - val_accuracy: 0.9149\n",
            "epoch  67 : setting learning rate to  0.0184\n",
            "Epoch 67/200\n",
            "391/391 [==============================] - 493s 1s/step - loss: 0.4720 - accuracy: 0.9529 - val_loss: 0.6726 - val_accuracy: 0.9071\n",
            "epoch  68 : setting learning rate to  0.018133333333333335\n",
            "Epoch 68/200\n",
            "391/391 [==============================] - 493s 1s/step - loss: 0.4726 - accuracy: 0.9517 - val_loss: 0.6032 - val_accuracy: 0.9169\n",
            "epoch  69 : setting learning rate to  0.017866666666666666\n",
            "Epoch 69/200\n",
            "391/391 [==============================] - 496s 1s/step - loss: 0.4663 - accuracy: 0.9537 - val_loss: 0.6166 - val_accuracy: 0.9202\n",
            "epoch  70 : setting learning rate to  0.0176\n",
            "Epoch 70/200\n",
            "391/391 [==============================] - 495s 1s/step - loss: 0.4623 - accuracy: 0.9551 - val_loss: 0.6064 - val_accuracy: 0.9207\n",
            "epoch  71 : setting learning rate to  0.017333333333333333\n",
            "Epoch 71/200\n",
            "391/391 [==============================] - 495s 1s/step - loss: 0.4615 - accuracy: 0.9556 - val_loss: 0.6134 - val_accuracy: 0.9164\n",
            "epoch  72 : setting learning rate to  0.017066666666666667\n",
            "Epoch 72/200\n",
            "391/391 [==============================] - 493s 1s/step - loss: 0.4544 - accuracy: 0.9582 - val_loss: 0.6179 - val_accuracy: 0.9207\n",
            "epoch  73 : setting learning rate to  0.0168\n",
            "Epoch 73/200\n",
            "391/391 [==============================] - 493s 1s/step - loss: 0.4598 - accuracy: 0.9540 - val_loss: 0.6564 - val_accuracy: 0.9080\n",
            "epoch  74 : setting learning rate to  0.016533333333333334\n",
            "Epoch 74/200\n",
            "391/391 [==============================] - 493s 1s/step - loss: 0.4486 - accuracy: 0.9580 - val_loss: 0.7215 - val_accuracy: 0.8971\n",
            "epoch  75 : setting learning rate to  0.016266666666666665\n",
            "Epoch 75/200\n",
            "391/391 [==============================] - 493s 1s/step - loss: 0.4530 - accuracy: 0.9556 - val_loss: 0.5962 - val_accuracy: 0.9216\n",
            "epoch  76 : setting learning rate to  0.016\n",
            "Epoch 76/200\n",
            "391/391 [==============================] - 493s 1s/step - loss: 0.4474 - accuracy: 0.9583 - val_loss: 0.5951 - val_accuracy: 0.9203\n",
            "epoch  77 : setting learning rate to  0.015733333333333335\n",
            "Epoch 77/200\n",
            "391/391 [==============================] - 493s 1s/step - loss: 0.4403 - accuracy: 0.9602 - val_loss: 0.5977 - val_accuracy: 0.9219\n",
            "epoch  78 : setting learning rate to  0.015466666666666667\n",
            "Epoch 78/200\n",
            "391/391 [==============================] - 493s 1s/step - loss: 0.4282 - accuracy: 0.9632 - val_loss: 0.6165 - val_accuracy: 0.9180\n",
            "epoch  79 : setting learning rate to  0.0152\n",
            "Epoch 79/200\n",
            "391/391 [==============================] - 495s 1s/step - loss: 0.4301 - accuracy: 0.9621 - val_loss: 0.5901 - val_accuracy: 0.9258\n",
            "epoch  80 : setting learning rate to  0.014933333333333333\n",
            "Epoch 80/200\n",
            "391/391 [==============================] - 493s 1s/step - loss: 0.4300 - accuracy: 0.9614 - val_loss: 0.5946 - val_accuracy: 0.9204\n",
            "epoch  81 : setting learning rate to  0.014666666666666666\n",
            "Epoch 81/200\n",
            "391/391 [==============================] - 492s 1s/step - loss: 0.4267 - accuracy: 0.9619 - val_loss: 0.6208 - val_accuracy: 0.9153\n",
            "epoch  82 : setting learning rate to  0.0144\n",
            "Epoch 82/200\n",
            "391/391 [==============================] - 493s 1s/step - loss: 0.4246 - accuracy: 0.9621 - val_loss: 0.6075 - val_accuracy: 0.9194\n",
            "epoch  83 : setting learning rate to  0.014133333333333335\n",
            "Epoch 83/200\n",
            "391/391 [==============================] - 493s 1s/step - loss: 0.4154 - accuracy: 0.9644 - val_loss: 0.6729 - val_accuracy: 0.9085\n",
            "epoch  84 : setting learning rate to  0.013866666666666666\n",
            "Epoch 84/200\n",
            "391/391 [==============================] - 496s 1s/step - loss: 0.4125 - accuracy: 0.9645 - val_loss: 0.6338 - val_accuracy: 0.9184\n",
            "epoch  85 : setting learning rate to  0.013600000000000001\n",
            "Epoch 85/200\n",
            "391/391 [==============================] - 494s 1s/step - loss: 0.4104 - accuracy: 0.9643 - val_loss: 0.5583 - val_accuracy: 0.9293\n",
            "epoch  86 : setting learning rate to  0.013333333333333332\n",
            "Epoch 86/200\n",
            "391/391 [==============================] - 493s 1s/step - loss: 0.4009 - accuracy: 0.9676 - val_loss: 0.5793 - val_accuracy: 0.9227\n",
            "epoch  87 : setting learning rate to  0.013066666666666667\n",
            "Epoch 87/200\n",
            "265/391 [===================>..........] - ETA: 2:30 - loss: 0.4045 - accuracy: 0.9659"
          ],
          "name": "stdout"
        }
      ]
    },
    {
      "cell_type": "code",
      "metadata": {
        "id": "TaDK2E2h81vV",
        "colab_type": "code",
        "colab": {}
      },
      "source": [
        ""
      ],
      "execution_count": 0,
      "outputs": []
    },
    {
      "cell_type": "code",
      "metadata": {
        "id": "wfuA6KAgCbv1",
        "colab_type": "code",
        "colab": {}
      },
      "source": [
        ""
      ],
      "execution_count": 0,
      "outputs": []
    }
  ]
}